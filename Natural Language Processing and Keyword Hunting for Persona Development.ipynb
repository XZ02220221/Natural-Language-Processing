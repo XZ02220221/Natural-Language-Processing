{
 "cells": [
  {
   "cell_type": "markdown",
   "id": "90ab967c",
   "metadata": {},
   "source": [
    "# Data Loading"
   ]
  },
  {
   "cell_type": "code",
   "execution_count": 1,
   "id": "5bf61a7e",
   "metadata": {},
   "outputs": [],
   "source": [
    "import pandas as pd\n",
    "import numpy as np\n",
    "\n",
    "pd.set_option('display.max_colwidth', 100)"
   ]
  },
  {
   "cell_type": "code",
   "execution_count": 2,
   "id": "b47aa543",
   "metadata": {
    "scrolled": true
   },
   "outputs": [
    {
     "data": {
      "text/plain": [
       "['V4.1 Last 600K with email.csv',\n",
       " '.DS_Store',\n",
       " 'Contact+Account 250K-500K.xlsx',\n",
       " '4.4 After 4_14.csv',\n",
       " 'Snowflake SQL Query.rtf',\n",
       " 'Persona Matching V4.1 - Include email and more records 3.11.ipynb',\n",
       " 'Persona Matching V4.3 - Adjust Head of IT Operations.ipynb',\n",
       " 'V4.3 After 3_22.csv',\n",
       " 'V4.1 First 650K with email.csv',\n",
       " 'AssignedPersona.csv',\n",
       " 'AllContactData.csv',\n",
       " 'AssignedPersonaandTitleLevel Second 800K.csv',\n",
       " 'AssignedPersonaandTitleLevel First 1M.csv',\n",
       " 'Corporate.csv',\n",
       " '.ipynb_checkpoints',\n",
       " 'Head of IT Titles.xlsx',\n",
       " 'Persona Matching V4.4 - Adjust DevOps, DevSecOps, IT Security.ipynb',\n",
       " 'V4.1 Second 650K with email.csv',\n",
       " 'SpecialPersona.csv',\n",
       " 'SMB.csv',\n",
       " 'Enterprise.csv',\n",
       " 'V4.2 After 3_11.csv',\n",
       " 'Persona Matching V4.2 - Include email and new personas.ipynb']"
      ]
     },
     "execution_count": 2,
     "metadata": {},
     "output_type": "execute_result"
    }
   ],
   "source": [
    "import os\n",
    "os.listdir()"
   ]
  },
  {
   "cell_type": "code",
   "execution_count": 3,
   "id": "d272c8f1",
   "metadata": {
    "scrolled": true
   },
   "outputs": [
    {
     "name": "stderr",
     "output_type": "stream",
     "text": [
      "/Users/czhang/opt/anaconda3/lib/python3.9/site-packages/IPython/core/interactiveshell.py:3444: DtypeWarning: Columns (0,1,2,3,4,5,6,7,10) have mixed types.Specify dtype option on import or set low_memory=False.\n",
      "  exec(code_obj, self.user_global_ns, self.user_ns)\n"
     ]
    }
   ],
   "source": [
    "#Import multiple files of data that were downloaded separately from Snowflake\n",
    "df1 = pd.read_csv('V4.1 First 650K with email.csv')[0:650000]\n",
    "df2 = pd.read_csv('V4.1 Second 650K with email.csv')[0:650000]"
   ]
  },
  {
   "cell_type": "code",
   "execution_count": 5,
   "id": "d2b2b67a",
   "metadata": {},
   "outputs": [
    {
     "data": {
      "text/plain": [
       "(1985912, 11)"
      ]
     },
     "execution_count": 5,
     "metadata": {},
     "output_type": "execute_result"
    }
   ],
   "source": [
    "#Consolidate all data into 1 file\n",
    "\n",
    "Contact = pd.concat([df1,df2],ignore_index=True)\n",
    "Contact.shape"
   ]
  },
  {
   "cell_type": "code",
   "execution_count": 6,
   "id": "f5c757da",
   "metadata": {},
   "outputs": [
    {
     "data": {
      "text/html": [
       "<div>\n",
       "<style scoped>\n",
       "    .dataframe tbody tr th:only-of-type {\n",
       "        vertical-align: middle;\n",
       "    }\n",
       "\n",
       "    .dataframe tbody tr th {\n",
       "        vertical-align: top;\n",
       "    }\n",
       "\n",
       "    .dataframe thead th {\n",
       "        text-align: right;\n",
       "    }\n",
       "</style>\n",
       "<table border=\"1\" class=\"dataframe\">\n",
       "  <thead>\n",
       "    <tr style=\"text-align: right;\">\n",
       "      <th></th>\n",
       "      <th>ID</th>\n",
       "      <th>TITLE</th>\n",
       "      <th>JOB_FUNCTION__C</th>\n",
       "      <th>EMAIL</th>\n",
       "      <th>GEO_LOCATION_LEVEL1__C</th>\n",
       "      <th>REGION__C</th>\n",
       "      <th>OWNER_SEGMENT__C</th>\n",
       "      <th>PRIMARY_VERTICAL__C</th>\n",
       "      <th>REVENUE__C</th>\n",
       "      <th>EMPLOYEE_COUNT__C</th>\n",
       "      <th>TRANSLATED_TITLE</th>\n",
       "    </tr>\n",
       "  </thead>\n",
       "  <tbody>\n",
       "    <tr>\n",
       "      <th>1985907</th>\n",
       "      <td>0036T00004AWSVCQA5</td>\n",
       "      <td>Chief Operating Officer</td>\n",
       "      <td>NaN</td>\n",
       "      <td>kpepper@nossaman.com</td>\n",
       "      <td>AMS</td>\n",
       "      <td>United States</td>\n",
       "      <td>NaN</td>\n",
       "      <td>NaN</td>\n",
       "      <td>NaN</td>\n",
       "      <td>NaN</td>\n",
       "      <td>Chief Operating Officer</td>\n",
       "    </tr>\n",
       "    <tr>\n",
       "      <th>1985908</th>\n",
       "      <td>0036T00004AWXs8QAH</td>\n",
       "      <td>Senior Network Engineer</td>\n",
       "      <td>NaN</td>\n",
       "      <td>sgilbreath@jacksonhealthcare.com</td>\n",
       "      <td>AMS</td>\n",
       "      <td>United States</td>\n",
       "      <td>NaN</td>\n",
       "      <td>NaN</td>\n",
       "      <td>NaN</td>\n",
       "      <td>NaN</td>\n",
       "      <td>Senior Network Engineer</td>\n",
       "    </tr>\n",
       "    <tr>\n",
       "      <th>1985909</th>\n",
       "      <td>0036T00004AUk9jQAD</td>\n",
       "      <td>Yusa IT Administrator</td>\n",
       "      <td>IT: Systems Admin</td>\n",
       "      <td>rob.juliano@yusa-oh.com</td>\n",
       "      <td>AMS</td>\n",
       "      <td>United States</td>\n",
       "      <td>NaN</td>\n",
       "      <td>NaN</td>\n",
       "      <td>NaN</td>\n",
       "      <td>NaN</td>\n",
       "      <td>Yusa IT Administrator</td>\n",
       "    </tr>\n",
       "    <tr>\n",
       "      <th>1985910</th>\n",
       "      <td>0036T00004AW28jQAD</td>\n",
       "      <td>Senior Software Developer</td>\n",
       "      <td>NaN</td>\n",
       "      <td>achakraborty@hibbertgroup.com</td>\n",
       "      <td>AMS</td>\n",
       "      <td>United States</td>\n",
       "      <td>NaN</td>\n",
       "      <td>NaN</td>\n",
       "      <td>NaN</td>\n",
       "      <td>NaN</td>\n",
       "      <td>Senior Software Developer</td>\n",
       "    </tr>\n",
       "    <tr>\n",
       "      <th>1985911</th>\n",
       "      <td>0036T00004AUNsRQAX</td>\n",
       "      <td>Computer Systems Administrator</td>\n",
       "      <td>IT: Systems Admin</td>\n",
       "      <td>NaN</td>\n",
       "      <td>AMS</td>\n",
       "      <td>United States</td>\n",
       "      <td>NaN</td>\n",
       "      <td>NaN</td>\n",
       "      <td>NaN</td>\n",
       "      <td>NaN</td>\n",
       "      <td>Computer Systems Administrator</td>\n",
       "    </tr>\n",
       "  </tbody>\n",
       "</table>\n",
       "</div>"
      ],
      "text/plain": [
       "                         ID                           TITLE  \\\n",
       "1985907  0036T00004AWSVCQA5         Chief Operating Officer   \n",
       "1985908  0036T00004AWXs8QAH         Senior Network Engineer   \n",
       "1985909  0036T00004AUk9jQAD           Yusa IT Administrator   \n",
       "1985910  0036T00004AW28jQAD       Senior Software Developer   \n",
       "1985911  0036T00004AUNsRQAX  Computer Systems Administrator   \n",
       "\n",
       "           JOB_FUNCTION__C                             EMAIL  \\\n",
       "1985907                NaN              kpepper@nossaman.com   \n",
       "1985908                NaN  sgilbreath@jacksonhealthcare.com   \n",
       "1985909  IT: Systems Admin           rob.juliano@yusa-oh.com   \n",
       "1985910                NaN     achakraborty@hibbertgroup.com   \n",
       "1985911  IT: Systems Admin                               NaN   \n",
       "\n",
       "        GEO_LOCATION_LEVEL1__C      REGION__C OWNER_SEGMENT__C  \\\n",
       "1985907                    AMS  United States              NaN   \n",
       "1985908                    AMS  United States              NaN   \n",
       "1985909                    AMS  United States              NaN   \n",
       "1985910                    AMS  United States              NaN   \n",
       "1985911                    AMS  United States              NaN   \n",
       "\n",
       "        PRIMARY_VERTICAL__C  REVENUE__C  EMPLOYEE_COUNT__C  \\\n",
       "1985907                 NaN         NaN                NaN   \n",
       "1985908                 NaN         NaN                NaN   \n",
       "1985909                 NaN         NaN                NaN   \n",
       "1985910                 NaN         NaN                NaN   \n",
       "1985911                 NaN         NaN                NaN   \n",
       "\n",
       "                       TRANSLATED_TITLE  \n",
       "1985907         Chief Operating Officer  \n",
       "1985908         Senior Network Engineer  \n",
       "1985909           Yusa IT Administrator  \n",
       "1985910       Senior Software Developer  \n",
       "1985911  Computer Systems Administrator  "
      ]
     },
     "execution_count": 6,
     "metadata": {},
     "output_type": "execute_result"
    }
   ],
   "source": [
    "Contact.tail(5)"
   ]
  },
  {
   "cell_type": "markdown",
   "id": "36d6ec01",
   "metadata": {},
   "source": [
    "# Variable Selection "
   ]
  },
  {
   "cell_type": "code",
   "execution_count": 7,
   "id": "2e099696",
   "metadata": {},
   "outputs": [
    {
     "data": {
      "text/plain": [
       "(1985912, 8)"
      ]
     },
     "execution_count": 7,
     "metadata": {},
     "output_type": "execute_result"
    }
   ],
   "source": [
    "#choose useful variables for segmentation\n",
    "\n",
    "useful = Contact[['ID','TRANSLATED_TITLE', 'JOB_FUNCTION__C', 'EMAIL', 'OWNER_SEGMENT__C',\n",
    "                  'GEO_LOCATION_LEVEL1__C', 'REGION__C', 'EMPLOYEE_COUNT__C']]\n",
    "useful.shape"
   ]
  },
  {
   "cell_type": "markdown",
   "id": "3511aa41",
   "metadata": {},
   "source": [
    "# Data Cleaning"
   ]
  },
  {
   "cell_type": "code",
   "execution_count": 8,
   "id": "bcb3c7f7",
   "metadata": {
    "scrolled": true
   },
   "outputs": [
    {
     "data": {
      "text/html": [
       "<div>\n",
       "<style scoped>\n",
       "    .dataframe tbody tr th:only-of-type {\n",
       "        vertical-align: middle;\n",
       "    }\n",
       "\n",
       "    .dataframe tbody tr th {\n",
       "        vertical-align: top;\n",
       "    }\n",
       "\n",
       "    .dataframe thead th {\n",
       "        text-align: right;\n",
       "    }\n",
       "</style>\n",
       "<table border=\"1\" class=\"dataframe\">\n",
       "  <thead>\n",
       "    <tr style=\"text-align: right;\">\n",
       "      <th></th>\n",
       "      <th>ID</th>\n",
       "      <th>TRANSLATED_TITLE</th>\n",
       "      <th>JOB_FUNCTION__C</th>\n",
       "      <th>EMAIL</th>\n",
       "      <th>OWNER_SEGMENT__C</th>\n",
       "      <th>GEO_LOCATION_LEVEL1__C</th>\n",
       "      <th>REGION__C</th>\n",
       "      <th>EMPLOYEE_COUNT__C</th>\n",
       "    </tr>\n",
       "  </thead>\n",
       "  <tbody>\n",
       "    <tr>\n",
       "      <th>0</th>\n",
       "      <td>0036T0000474qgbQAA</td>\n",
       "      <td>Senior IT Manager</td>\n",
       "      <td>IT: Manager</td>\n",
       "      <td>brian.guevara@colorofchange.org</td>\n",
       "      <td>CORP</td>\n",
       "      <td>AMS</td>\n",
       "      <td>United States</td>\n",
       "      <td>11.0</td>\n",
       "    </tr>\n",
       "    <tr>\n",
       "      <th>1</th>\n",
       "      <td>0030W00003R8xlVQAR</td>\n",
       "      <td>CFO</td>\n",
       "      <td>NaN</td>\n",
       "      <td>ismael.savadogo@colorofchange.org</td>\n",
       "      <td>CORP</td>\n",
       "      <td>AMS</td>\n",
       "      <td>United States</td>\n",
       "      <td>11.0</td>\n",
       "    </tr>\n",
       "    <tr>\n",
       "      <th>2</th>\n",
       "      <td>0030W00003qpL0bQAE</td>\n",
       "      <td>Director of Operations</td>\n",
       "      <td>NaN</td>\n",
       "      <td>sue.nyoni@colorofchange.org</td>\n",
       "      <td>CORP</td>\n",
       "      <td>AMS</td>\n",
       "      <td>United States</td>\n",
       "      <td>11.0</td>\n",
       "    </tr>\n",
       "    <tr>\n",
       "      <th>3</th>\n",
       "      <td>0030W00003KBeetQAD</td>\n",
       "      <td>Chief of Staff</td>\n",
       "      <td>Executive (CEO, CMO, COO, CFO)</td>\n",
       "      <td>keith@colorofchange.org</td>\n",
       "      <td>CORP</td>\n",
       "      <td>AMS</td>\n",
       "      <td>United States</td>\n",
       "      <td>11.0</td>\n",
       "    </tr>\n",
       "    <tr>\n",
       "      <th>4</th>\n",
       "      <td>0030W00003KBjJgQAL</td>\n",
       "      <td>AVP of Information Technology</td>\n",
       "      <td>IT: VP or Director</td>\n",
       "      <td>acarter@homesavings.com</td>\n",
       "      <td>CORP</td>\n",
       "      <td>AMS</td>\n",
       "      <td>United States</td>\n",
       "      <td>500.0</td>\n",
       "    </tr>\n",
       "  </tbody>\n",
       "</table>\n",
       "</div>"
      ],
      "text/plain": [
       "                   ID               TRANSLATED_TITLE  \\\n",
       "0  0036T0000474qgbQAA              Senior IT Manager   \n",
       "1  0030W00003R8xlVQAR                            CFO   \n",
       "2  0030W00003qpL0bQAE         Director of Operations   \n",
       "3  0030W00003KBeetQAD                 Chief of Staff   \n",
       "4  0030W00003KBjJgQAL  AVP of Information Technology   \n",
       "\n",
       "                  JOB_FUNCTION__C                              EMAIL  \\\n",
       "0                     IT: Manager    brian.guevara@colorofchange.org   \n",
       "1                             NaN  ismael.savadogo@colorofchange.org   \n",
       "2                             NaN        sue.nyoni@colorofchange.org   \n",
       "3  Executive (CEO, CMO, COO, CFO)            keith@colorofchange.org   \n",
       "4              IT: VP or Director            acarter@homesavings.com   \n",
       "\n",
       "  OWNER_SEGMENT__C GEO_LOCATION_LEVEL1__C      REGION__C  EMPLOYEE_COUNT__C  \n",
       "0             CORP                    AMS  United States               11.0  \n",
       "1             CORP                    AMS  United States               11.0  \n",
       "2             CORP                    AMS  United States               11.0  \n",
       "3             CORP                    AMS  United States               11.0  \n",
       "4             CORP                    AMS  United States              500.0  "
      ]
     },
     "execution_count": 8,
     "metadata": {},
     "output_type": "execute_result"
    }
   ],
   "source": [
    "#Some columns have so many 'other's, let us remove them\n",
    "\n",
    "useful= useful.replace(['Other'],'')\n",
    "useful.head(5)"
   ]
  },
  {
   "cell_type": "code",
   "execution_count": 9,
   "id": "cb17010b",
   "metadata": {},
   "outputs": [
    {
     "data": {
      "text/html": [
       "<div>\n",
       "<style scoped>\n",
       "    .dataframe tbody tr th:only-of-type {\n",
       "        vertical-align: middle;\n",
       "    }\n",
       "\n",
       "    .dataframe tbody tr th {\n",
       "        vertical-align: top;\n",
       "    }\n",
       "\n",
       "    .dataframe thead th {\n",
       "        text-align: right;\n",
       "    }\n",
       "</style>\n",
       "<table border=\"1\" class=\"dataframe\">\n",
       "  <thead>\n",
       "    <tr style=\"text-align: right;\">\n",
       "      <th></th>\n",
       "      <th>ID</th>\n",
       "      <th>EMAIL</th>\n",
       "      <th>TRANSLATED_TITLE</th>\n",
       "      <th>JOB_FUNCTION__C</th>\n",
       "      <th>OWNER_SEGMENT__C</th>\n",
       "      <th>GEO_LOCATION_LEVEL1__C</th>\n",
       "      <th>REGION__C</th>\n",
       "      <th>EMPLOYEE_COUNT__C</th>\n",
       "    </tr>\n",
       "  </thead>\n",
       "  <tbody>\n",
       "    <tr>\n",
       "      <th>0</th>\n",
       "      <td>0036T0000474qgbQAA</td>\n",
       "      <td>brian.guevara@colorofchange.org</td>\n",
       "      <td>senior it manager</td>\n",
       "      <td>it: manager</td>\n",
       "      <td>corp</td>\n",
       "      <td>ams</td>\n",
       "      <td>united states</td>\n",
       "      <td>11.0</td>\n",
       "    </tr>\n",
       "    <tr>\n",
       "      <th>1</th>\n",
       "      <td>0030W00003R8xlVQAR</td>\n",
       "      <td>ismael.savadogo@colorofchange.org</td>\n",
       "      <td>cfo</td>\n",
       "      <td>NaN</td>\n",
       "      <td>corp</td>\n",
       "      <td>ams</td>\n",
       "      <td>united states</td>\n",
       "      <td>11.0</td>\n",
       "    </tr>\n",
       "    <tr>\n",
       "      <th>2</th>\n",
       "      <td>0030W00003qpL0bQAE</td>\n",
       "      <td>sue.nyoni@colorofchange.org</td>\n",
       "      <td>director of operations</td>\n",
       "      <td>NaN</td>\n",
       "      <td>corp</td>\n",
       "      <td>ams</td>\n",
       "      <td>united states</td>\n",
       "      <td>11.0</td>\n",
       "    </tr>\n",
       "    <tr>\n",
       "      <th>3</th>\n",
       "      <td>0030W00003KBeetQAD</td>\n",
       "      <td>keith@colorofchange.org</td>\n",
       "      <td>chief of staff</td>\n",
       "      <td>executive (ceo, cmo, coo, cfo)</td>\n",
       "      <td>corp</td>\n",
       "      <td>ams</td>\n",
       "      <td>united states</td>\n",
       "      <td>11.0</td>\n",
       "    </tr>\n",
       "    <tr>\n",
       "      <th>4</th>\n",
       "      <td>0030W00003KBjJgQAL</td>\n",
       "      <td>acarter@homesavings.com</td>\n",
       "      <td>avp of information technology</td>\n",
       "      <td>it: vp or director</td>\n",
       "      <td>corp</td>\n",
       "      <td>ams</td>\n",
       "      <td>united states</td>\n",
       "      <td>500.0</td>\n",
       "    </tr>\n",
       "  </tbody>\n",
       "</table>\n",
       "</div>"
      ],
      "text/plain": [
       "                   ID                              EMAIL  \\\n",
       "0  0036T0000474qgbQAA    brian.guevara@colorofchange.org   \n",
       "1  0030W00003R8xlVQAR  ismael.savadogo@colorofchange.org   \n",
       "2  0030W00003qpL0bQAE        sue.nyoni@colorofchange.org   \n",
       "3  0030W00003KBeetQAD            keith@colorofchange.org   \n",
       "4  0030W00003KBjJgQAL            acarter@homesavings.com   \n",
       "\n",
       "                TRANSLATED_TITLE                 JOB_FUNCTION__C  \\\n",
       "0              senior it manager                     it: manager   \n",
       "1                            cfo                             NaN   \n",
       "2         director of operations                             NaN   \n",
       "3                 chief of staff  executive (ceo, cmo, coo, cfo)   \n",
       "4  avp of information technology              it: vp or director   \n",
       "\n",
       "  OWNER_SEGMENT__C GEO_LOCATION_LEVEL1__C      REGION__C  EMPLOYEE_COUNT__C  \n",
       "0             corp                    ams  united states               11.0  \n",
       "1             corp                    ams  united states               11.0  \n",
       "2             corp                    ams  united states               11.0  \n",
       "3             corp                    ams  united states               11.0  \n",
       "4             corp                    ams  united states              500.0  "
      ]
     },
     "execution_count": 9,
     "metadata": {},
     "output_type": "execute_result"
    }
   ],
   "source": [
    "##lower the string columns\n",
    "\n",
    "from sklearn import preprocessing\n",
    "from sklearn.preprocessing import StandardScaler\n",
    "\n",
    "#keep string columns\n",
    "ID = useful[[\"ID\",\"EMAIL\"]]\n",
    "useful_string = useful[[\"TRANSLATED_TITLE\", \"JOB_FUNCTION__C\", \"OWNER_SEGMENT__C\",\n",
    "                   \"GEO_LOCATION_LEVEL1__C\", \"REGION__C\"]]\n",
    "\n",
    "#convert all text to lower case for future NLP\n",
    "useful_string = useful_string.applymap(lambda s: s.lower() if type(s) == str else s)\n",
    "\n",
    "#separate numeric columns\n",
    "useful_numeric = useful[[\"EMPLOYEE_COUNT__C\"]]\n",
    "\n",
    "#combine all columns\n",
    "useful_lower= pd.concat([ID, useful_string, useful_numeric], axis=1, ignore_index=False)\n",
    "useful_lower.head(5) "
   ]
  },
  {
   "cell_type": "code",
   "execution_count": 10,
   "id": "41114178",
   "metadata": {
    "scrolled": true
   },
   "outputs": [],
   "source": [
    "#remove all floating NaN\n",
    "\n",
    "useful_nona = useful_lower.fillna('')"
   ]
  },
  {
   "cell_type": "code",
   "execution_count": 11,
   "id": "78e7bc03",
   "metadata": {},
   "outputs": [
    {
     "data": {
      "text/plain": [
       "(1985912, 8)"
      ]
     },
     "execution_count": 11,
     "metadata": {},
     "output_type": "execute_result"
    }
   ],
   "source": [
    "useful_nona.shape"
   ]
  },
  {
   "cell_type": "markdown",
   "id": "72224564",
   "metadata": {},
   "source": [
    "# Remove Rows without any Title"
   ]
  },
  {
   "cell_type": "code",
   "execution_count": 12,
   "id": "1aba85eb",
   "metadata": {},
   "outputs": [],
   "source": [
    "RemoveEmptyTitle = useful_nona[useful_nona['TRANSLATED_TITLE'] != '']"
   ]
  },
  {
   "cell_type": "code",
   "execution_count": 13,
   "id": "4920f79d",
   "metadata": {
    "scrolled": true
   },
   "outputs": [
    {
     "data": {
      "text/plain": [
       "(1801530, 8)"
      ]
     },
     "execution_count": 13,
     "metadata": {},
     "output_type": "execute_result"
    }
   ],
   "source": [
    "RemoveEmptyTitle.shape"
   ]
  },
  {
   "cell_type": "code",
   "execution_count": 14,
   "id": "18ea8346",
   "metadata": {},
   "outputs": [],
   "source": [
    "NoTitle = useful_nona[useful_nona['TRANSLATED_TITLE'] == '']"
   ]
  },
  {
   "cell_type": "code",
   "execution_count": 15,
   "id": "f875fe3b",
   "metadata": {
    "scrolled": true
   },
   "outputs": [
    {
     "data": {
      "text/plain": [
       "(184382, 8)"
      ]
     },
     "execution_count": 15,
     "metadata": {},
     "output_type": "execute_result"
    }
   ],
   "source": [
    "NoTitle.shape"
   ]
  },
  {
   "cell_type": "markdown",
   "id": "de3443d2",
   "metadata": {},
   "source": [
    "# Remove Alliances"
   ]
  },
  {
   "cell_type": "code",
   "execution_count": 16,
   "id": "7977f44d",
   "metadata": {},
   "outputs": [],
   "source": [
    "RemoveAlliance = RemoveEmptyTitle[RemoveEmptyTitle['OWNER_SEGMENT__C'] != 'alliances']"
   ]
  },
  {
   "cell_type": "code",
   "execution_count": 17,
   "id": "106d9f88",
   "metadata": {
    "scrolled": true
   },
   "outputs": [
    {
     "data": {
      "text/plain": [
       "(1718858, 8)"
      ]
     },
     "execution_count": 17,
     "metadata": {},
     "output_type": "execute_result"
    }
   ],
   "source": [
    "RemoveAlliance.shape"
   ]
  },
  {
   "cell_type": "code",
   "execution_count": 18,
   "id": "ac6807c0",
   "metadata": {},
   "outputs": [],
   "source": [
    "Alliance = RemoveEmptyTitle[RemoveEmptyTitle['OWNER_SEGMENT__C'] == 'alliances']"
   ]
  },
  {
   "cell_type": "code",
   "execution_count": 19,
   "id": "d9f01c23",
   "metadata": {},
   "outputs": [
    {
     "data": {
      "text/plain": [
       "(82672, 8)"
      ]
     },
     "execution_count": 19,
     "metadata": {},
     "output_type": "execute_result"
    }
   ],
   "source": [
    "Alliance.shape"
   ]
  },
  {
   "cell_type": "markdown",
   "id": "81dcd34c",
   "metadata": {},
   "source": [
    "# Change Employee Count to Numeric"
   ]
  },
  {
   "cell_type": "code",
   "execution_count": 20,
   "id": "e0d89188",
   "metadata": {
    "scrolled": true
   },
   "outputs": [
    {
     "name": "stderr",
     "output_type": "stream",
     "text": [
      "/var/folders/7r/1qz24gm934z0mlg9dwwq2hpr0000gn/T/ipykernel_76112/2931606309.py:1: SettingWithCopyWarning: \n",
      "A value is trying to be set on a copy of a slice from a DataFrame.\n",
      "Try using .loc[row_indexer,col_indexer] = value instead\n",
      "\n",
      "See the caveats in the documentation: https://pandas.pydata.org/pandas-docs/stable/user_guide/indexing.html#returning-a-view-versus-a-copy\n",
      "  RemoveAlliance['EMPLOYEE_COUNT__C'] = pd.to_numeric(RemoveAlliance['EMPLOYEE_COUNT__C'])\n"
     ]
    }
   ],
   "source": [
    "RemoveAlliance['EMPLOYEE_COUNT__C'] = pd.to_numeric(RemoveAlliance['EMPLOYEE_COUNT__C'])"
   ]
  },
  {
   "cell_type": "markdown",
   "id": "af97f15b",
   "metadata": {},
   "source": [
    "# Assign Segment to Those without any Segment"
   ]
  },
  {
   "cell_type": "code",
   "execution_count": 21,
   "id": "86aa0fea",
   "metadata": {},
   "outputs": [],
   "source": [
    "NoSegment = RemoveAlliance.loc[RemoveAlliance['OWNER_SEGMENT__C'] == '']"
   ]
  },
  {
   "cell_type": "code",
   "execution_count": 22,
   "id": "1cc929ea",
   "metadata": {},
   "outputs": [
    {
     "data": {
      "text/plain": [
       "(122140, 8)"
      ]
     },
     "execution_count": 22,
     "metadata": {},
     "output_type": "execute_result"
    }
   ],
   "source": [
    "NoSegment.shape"
   ]
  },
  {
   "cell_type": "code",
   "execution_count": 23,
   "id": "c6446061",
   "metadata": {},
   "outputs": [
    {
     "data": {
      "text/plain": [
       "dtype('float64')"
      ]
     },
     "execution_count": 23,
     "metadata": {},
     "output_type": "execute_result"
    }
   ],
   "source": [
    "NoSegment['EMPLOYEE_COUNT__C'].dtype"
   ]
  },
  {
   "cell_type": "code",
   "execution_count": 24,
   "id": "26e174d0",
   "metadata": {
    "scrolled": true
   },
   "outputs": [
    {
     "name": "stderr",
     "output_type": "stream",
     "text": [
      "/var/folders/7r/1qz24gm934z0mlg9dwwq2hpr0000gn/T/ipykernel_76112/2596145105.py:9: SettingWithCopyWarning: \n",
      "A value is trying to be set on a copy of a slice from a DataFrame.\n",
      "Try using .loc[row_indexer,col_indexer] = value instead\n",
      "\n",
      "See the caveats in the documentation: https://pandas.pydata.org/pandas-docs/stable/user_guide/indexing.html#returning-a-view-versus-a-copy\n",
      "  NoSegment['OWNER_SEGMENT__C'] = np.select(conditions, values)\n"
     ]
    }
   ],
   "source": [
    "import numpy as np\n",
    "\n",
    "conditions = [(NoSegment['EMPLOYEE_COUNT__C'] <= 250),\n",
    "    (NoSegment['EMPLOYEE_COUNT__C'] > 250) & (NoSegment['EMPLOYEE_COUNT__C'] < 2500),\n",
    "    (NoSegment['EMPLOYEE_COUNT__C'] > 2501)]\n",
    "\n",
    "values = ['smb', 'corp', 'ent']\n",
    "\n",
    "NoSegment['OWNER_SEGMENT__C'] = np.select(conditions, values)"
   ]
  },
  {
   "cell_type": "code",
   "execution_count": 25,
   "id": "c005d091",
   "metadata": {
    "scrolled": true
   },
   "outputs": [
    {
     "name": "stderr",
     "output_type": "stream",
     "text": [
      "/Users/czhang/opt/anaconda3/lib/python3.9/site-packages/pandas/core/generic.py:6619: SettingWithCopyWarning: \n",
      "A value is trying to be set on a copy of a slice from a DataFrame\n",
      "\n",
      "See the caveats in the documentation: https://pandas.pydata.org/pandas-docs/stable/user_guide/indexing.html#returning-a-view-versus-a-copy\n",
      "  return self._update_inplace(result)\n"
     ]
    },
    {
     "data": {
      "text/html": [
       "<div>\n",
       "<style scoped>\n",
       "    .dataframe tbody tr th:only-of-type {\n",
       "        vertical-align: middle;\n",
       "    }\n",
       "\n",
       "    .dataframe tbody tr th {\n",
       "        vertical-align: top;\n",
       "    }\n",
       "\n",
       "    .dataframe thead th {\n",
       "        text-align: right;\n",
       "    }\n",
       "</style>\n",
       "<table border=\"1\" class=\"dataframe\">\n",
       "  <thead>\n",
       "    <tr style=\"text-align: right;\">\n",
       "      <th></th>\n",
       "      <th>ID</th>\n",
       "      <th>EMAIL</th>\n",
       "      <th>TRANSLATED_TITLE</th>\n",
       "      <th>JOB_FUNCTION__C</th>\n",
       "      <th>OWNER_SEGMENT__C</th>\n",
       "      <th>GEO_LOCATION_LEVEL1__C</th>\n",
       "      <th>REGION__C</th>\n",
       "      <th>EMPLOYEE_COUNT__C</th>\n",
       "    </tr>\n",
       "  </thead>\n",
       "  <tbody>\n",
       "    <tr>\n",
       "      <th>1985907</th>\n",
       "      <td>0036T00004AWSVCQA5</td>\n",
       "      <td>kpepper@nossaman.com</td>\n",
       "      <td>chief operating officer</td>\n",
       "      <td></td>\n",
       "      <td>corp</td>\n",
       "      <td>ams</td>\n",
       "      <td>united states</td>\n",
       "      <td>NaN</td>\n",
       "    </tr>\n",
       "    <tr>\n",
       "      <th>1985908</th>\n",
       "      <td>0036T00004AWXs8QAH</td>\n",
       "      <td>sgilbreath@jacksonhealthcare.com</td>\n",
       "      <td>senior network engineer</td>\n",
       "      <td></td>\n",
       "      <td>corp</td>\n",
       "      <td>ams</td>\n",
       "      <td>united states</td>\n",
       "      <td>NaN</td>\n",
       "    </tr>\n",
       "    <tr>\n",
       "      <th>1985909</th>\n",
       "      <td>0036T00004AUk9jQAD</td>\n",
       "      <td>rob.juliano@yusa-oh.com</td>\n",
       "      <td>yusa it administrator</td>\n",
       "      <td>it: systems admin</td>\n",
       "      <td>corp</td>\n",
       "      <td>ams</td>\n",
       "      <td>united states</td>\n",
       "      <td>NaN</td>\n",
       "    </tr>\n",
       "    <tr>\n",
       "      <th>1985910</th>\n",
       "      <td>0036T00004AW28jQAD</td>\n",
       "      <td>achakraborty@hibbertgroup.com</td>\n",
       "      <td>senior software developer</td>\n",
       "      <td></td>\n",
       "      <td>corp</td>\n",
       "      <td>ams</td>\n",
       "      <td>united states</td>\n",
       "      <td>NaN</td>\n",
       "    </tr>\n",
       "    <tr>\n",
       "      <th>1985911</th>\n",
       "      <td>0036T00004AUNsRQAX</td>\n",
       "      <td></td>\n",
       "      <td>computer systems administrator</td>\n",
       "      <td>it: systems admin</td>\n",
       "      <td>corp</td>\n",
       "      <td>ams</td>\n",
       "      <td>united states</td>\n",
       "      <td>NaN</td>\n",
       "    </tr>\n",
       "  </tbody>\n",
       "</table>\n",
       "</div>"
      ],
      "text/plain": [
       "                         ID                             EMAIL  \\\n",
       "1985907  0036T00004AWSVCQA5              kpepper@nossaman.com   \n",
       "1985908  0036T00004AWXs8QAH  sgilbreath@jacksonhealthcare.com   \n",
       "1985909  0036T00004AUk9jQAD           rob.juliano@yusa-oh.com   \n",
       "1985910  0036T00004AW28jQAD     achakraborty@hibbertgroup.com   \n",
       "1985911  0036T00004AUNsRQAX                                     \n",
       "\n",
       "                       TRANSLATED_TITLE    JOB_FUNCTION__C OWNER_SEGMENT__C  \\\n",
       "1985907         chief operating officer                                corp   \n",
       "1985908         senior network engineer                                corp   \n",
       "1985909           yusa it administrator  it: systems admin             corp   \n",
       "1985910       senior software developer                                corp   \n",
       "1985911  computer systems administrator  it: systems admin             corp   \n",
       "\n",
       "        GEO_LOCATION_LEVEL1__C      REGION__C  EMPLOYEE_COUNT__C  \n",
       "1985907                    ams  united states                NaN  \n",
       "1985908                    ams  united states                NaN  \n",
       "1985909                    ams  united states                NaN  \n",
       "1985910                    ams  united states                NaN  \n",
       "1985911                    ams  united states                NaN  "
      ]
     },
     "execution_count": 25,
     "metadata": {},
     "output_type": "execute_result"
    }
   ],
   "source": [
    "#There are 3483 records without employee count, let us assume they belong to CORP, for the sake of clustering\n",
    "NoSegment[\"OWNER_SEGMENT__C\"].replace({\"0\": \"corp\"}, inplace=True)\n",
    "NoSegment.tail(5)"
   ]
  },
  {
   "cell_type": "markdown",
   "id": "b046af3e",
   "metadata": {},
   "source": [
    "# Combine NoSegment to the Original Dataset with Segment"
   ]
  },
  {
   "cell_type": "code",
   "execution_count": 26,
   "id": "f9783142",
   "metadata": {
    "scrolled": true
   },
   "outputs": [
    {
     "data": {
      "text/plain": [
       "(1596718, 8)"
      ]
     },
     "execution_count": 26,
     "metadata": {},
     "output_type": "execute_result"
    }
   ],
   "source": [
    "WithSegment = RemoveAlliance.loc[RemoveAlliance['OWNER_SEGMENT__C'] != '']\n",
    "WithSegment.shape"
   ]
  },
  {
   "cell_type": "code",
   "execution_count": 27,
   "id": "6da96ac6",
   "metadata": {
    "scrolled": true
   },
   "outputs": [
    {
     "data": {
      "text/html": [
       "<div>\n",
       "<style scoped>\n",
       "    .dataframe tbody tr th:only-of-type {\n",
       "        vertical-align: middle;\n",
       "    }\n",
       "\n",
       "    .dataframe tbody tr th {\n",
       "        vertical-align: top;\n",
       "    }\n",
       "\n",
       "    .dataframe thead th {\n",
       "        text-align: right;\n",
       "    }\n",
       "</style>\n",
       "<table border=\"1\" class=\"dataframe\">\n",
       "  <thead>\n",
       "    <tr style=\"text-align: right;\">\n",
       "      <th></th>\n",
       "      <th>ID</th>\n",
       "      <th>EMAIL</th>\n",
       "      <th>TRANSLATED_TITLE</th>\n",
       "      <th>JOB_FUNCTION__C</th>\n",
       "      <th>OWNER_SEGMENT__C</th>\n",
       "      <th>GEO_LOCATION_LEVEL1__C</th>\n",
       "      <th>REGION__C</th>\n",
       "      <th>EMPLOYEE_COUNT__C</th>\n",
       "    </tr>\n",
       "  </thead>\n",
       "  <tbody>\n",
       "    <tr>\n",
       "      <th>0</th>\n",
       "      <td>0036T0000474qgbQAA</td>\n",
       "      <td>brian.guevara@colorofchange.org</td>\n",
       "      <td>senior it manager</td>\n",
       "      <td>it: manager</td>\n",
       "      <td>corp</td>\n",
       "      <td>ams</td>\n",
       "      <td>united states</td>\n",
       "      <td>11.0</td>\n",
       "    </tr>\n",
       "    <tr>\n",
       "      <th>1</th>\n",
       "      <td>0030W00003R8xlVQAR</td>\n",
       "      <td>ismael.savadogo@colorofchange.org</td>\n",
       "      <td>cfo</td>\n",
       "      <td></td>\n",
       "      <td>corp</td>\n",
       "      <td>ams</td>\n",
       "      <td>united states</td>\n",
       "      <td>11.0</td>\n",
       "    </tr>\n",
       "    <tr>\n",
       "      <th>2</th>\n",
       "      <td>0030W00003qpL0bQAE</td>\n",
       "      <td>sue.nyoni@colorofchange.org</td>\n",
       "      <td>director of operations</td>\n",
       "      <td></td>\n",
       "      <td>corp</td>\n",
       "      <td>ams</td>\n",
       "      <td>united states</td>\n",
       "      <td>11.0</td>\n",
       "    </tr>\n",
       "    <tr>\n",
       "      <th>3</th>\n",
       "      <td>0030W00003KBeetQAD</td>\n",
       "      <td>keith@colorofchange.org</td>\n",
       "      <td>chief of staff</td>\n",
       "      <td>executive (ceo, cmo, coo, cfo)</td>\n",
       "      <td>corp</td>\n",
       "      <td>ams</td>\n",
       "      <td>united states</td>\n",
       "      <td>11.0</td>\n",
       "    </tr>\n",
       "    <tr>\n",
       "      <th>4</th>\n",
       "      <td>0030W00003KBjJgQAL</td>\n",
       "      <td>acarter@homesavings.com</td>\n",
       "      <td>avp of information technology</td>\n",
       "      <td>it: vp or director</td>\n",
       "      <td>corp</td>\n",
       "      <td>ams</td>\n",
       "      <td>united states</td>\n",
       "      <td>500.0</td>\n",
       "    </tr>\n",
       "    <tr>\n",
       "      <th>...</th>\n",
       "      <td>...</td>\n",
       "      <td>...</td>\n",
       "      <td>...</td>\n",
       "      <td>...</td>\n",
       "      <td>...</td>\n",
       "      <td>...</td>\n",
       "      <td>...</td>\n",
       "      <td>...</td>\n",
       "    </tr>\n",
       "    <tr>\n",
       "      <th>1985884</th>\n",
       "      <td>0036T00004AVmlrQAD</td>\n",
       "      <td>michael.peebles@qantasloyalty.com</td>\n",
       "      <td>secops engineer</td>\n",
       "      <td>engineer</td>\n",
       "      <td>ent</td>\n",
       "      <td>apj</td>\n",
       "      <td>australia and new zealand</td>\n",
       "      <td>250.0</td>\n",
       "    </tr>\n",
       "    <tr>\n",
       "      <th>1985885</th>\n",
       "      <td>0036T00004AUnJcQAL</td>\n",
       "      <td>karl.hammes@rwc.com</td>\n",
       "      <td>director, information technology (americas)</td>\n",
       "      <td>it: vp or director</td>\n",
       "      <td>corp</td>\n",
       "      <td>ams</td>\n",
       "      <td>united states</td>\n",
       "      <td>2257.0</td>\n",
       "    </tr>\n",
       "    <tr>\n",
       "      <th>1985886</th>\n",
       "      <td>0036T00004AUnQvQAL</td>\n",
       "      <td>anu.kalia@rwc.com</td>\n",
       "      <td>director, business change &amp; transformation (emea)</td>\n",
       "      <td></td>\n",
       "      <td>corp</td>\n",
       "      <td>emea</td>\n",
       "      <td>uk&amp;i</td>\n",
       "      <td>2257.0</td>\n",
       "    </tr>\n",
       "    <tr>\n",
       "      <th>1985887</th>\n",
       "      <td>0036T00004AUnQrQAL</td>\n",
       "      <td>lee.cowcher@rwc.com</td>\n",
       "      <td>manager, technical help desk</td>\n",
       "      <td></td>\n",
       "      <td>corp</td>\n",
       "      <td>emea</td>\n",
       "      <td>uk&amp;i</td>\n",
       "      <td>2257.0</td>\n",
       "    </tr>\n",
       "    <tr>\n",
       "      <th>1985888</th>\n",
       "      <td>0036T00004AUnNKQA1</td>\n",
       "      <td>greg.allen@rwc.com</td>\n",
       "      <td>director, information technology (emea)</td>\n",
       "      <td>it: vp or director</td>\n",
       "      <td>corp</td>\n",
       "      <td>emea</td>\n",
       "      <td>uk&amp;i</td>\n",
       "      <td>2257.0</td>\n",
       "    </tr>\n",
       "  </tbody>\n",
       "</table>\n",
       "<p>1596718 rows × 8 columns</p>\n",
       "</div>"
      ],
      "text/plain": [
       "                         ID                              EMAIL  \\\n",
       "0        0036T0000474qgbQAA    brian.guevara@colorofchange.org   \n",
       "1        0030W00003R8xlVQAR  ismael.savadogo@colorofchange.org   \n",
       "2        0030W00003qpL0bQAE        sue.nyoni@colorofchange.org   \n",
       "3        0030W00003KBeetQAD            keith@colorofchange.org   \n",
       "4        0030W00003KBjJgQAL            acarter@homesavings.com   \n",
       "...                     ...                                ...   \n",
       "1985884  0036T00004AVmlrQAD  michael.peebles@qantasloyalty.com   \n",
       "1985885  0036T00004AUnJcQAL                karl.hammes@rwc.com   \n",
       "1985886  0036T00004AUnQvQAL                  anu.kalia@rwc.com   \n",
       "1985887  0036T00004AUnQrQAL                lee.cowcher@rwc.com   \n",
       "1985888  0036T00004AUnNKQA1                 greg.allen@rwc.com   \n",
       "\n",
       "                                          TRANSLATED_TITLE  \\\n",
       "0                                        senior it manager   \n",
       "1                                                      cfo   \n",
       "2                                   director of operations   \n",
       "3                                           chief of staff   \n",
       "4                            avp of information technology   \n",
       "...                                                    ...   \n",
       "1985884                                    secops engineer   \n",
       "1985885        director, information technology (americas)   \n",
       "1985886  director, business change & transformation (emea)   \n",
       "1985887                       manager, technical help desk   \n",
       "1985888            director, information technology (emea)   \n",
       "\n",
       "                        JOB_FUNCTION__C OWNER_SEGMENT__C  \\\n",
       "0                           it: manager             corp   \n",
       "1                                                   corp   \n",
       "2                                                   corp   \n",
       "3        executive (ceo, cmo, coo, cfo)             corp   \n",
       "4                    it: vp or director             corp   \n",
       "...                                 ...              ...   \n",
       "1985884                        engineer              ent   \n",
       "1985885              it: vp or director             corp   \n",
       "1985886                                             corp   \n",
       "1985887                                             corp   \n",
       "1985888              it: vp or director             corp   \n",
       "\n",
       "        GEO_LOCATION_LEVEL1__C                  REGION__C  EMPLOYEE_COUNT__C  \n",
       "0                          ams              united states               11.0  \n",
       "1                          ams              united states               11.0  \n",
       "2                          ams              united states               11.0  \n",
       "3                          ams              united states               11.0  \n",
       "4                          ams              united states              500.0  \n",
       "...                        ...                        ...                ...  \n",
       "1985884                    apj  australia and new zealand              250.0  \n",
       "1985885                    ams              united states             2257.0  \n",
       "1985886                   emea                       uk&i             2257.0  \n",
       "1985887                   emea                       uk&i             2257.0  \n",
       "1985888                   emea                       uk&i             2257.0  \n",
       "\n",
       "[1596718 rows x 8 columns]"
      ]
     },
     "execution_count": 27,
     "metadata": {},
     "output_type": "execute_result"
    }
   ],
   "source": [
    "WithSegment"
   ]
  },
  {
   "cell_type": "code",
   "execution_count": 28,
   "id": "97508d72",
   "metadata": {},
   "outputs": [
    {
     "data": {
      "text/html": [
       "<div>\n",
       "<style scoped>\n",
       "    .dataframe tbody tr th:only-of-type {\n",
       "        vertical-align: middle;\n",
       "    }\n",
       "\n",
       "    .dataframe tbody tr th {\n",
       "        vertical-align: top;\n",
       "    }\n",
       "\n",
       "    .dataframe thead th {\n",
       "        text-align: right;\n",
       "    }\n",
       "</style>\n",
       "<table border=\"1\" class=\"dataframe\">\n",
       "  <thead>\n",
       "    <tr style=\"text-align: right;\">\n",
       "      <th></th>\n",
       "      <th>ID</th>\n",
       "      <th>EMAIL</th>\n",
       "      <th>TRANSLATED_TITLE</th>\n",
       "      <th>JOB_FUNCTION__C</th>\n",
       "      <th>OWNER_SEGMENT__C</th>\n",
       "      <th>GEO_LOCATION_LEVEL1__C</th>\n",
       "      <th>REGION__C</th>\n",
       "      <th>EMPLOYEE_COUNT__C</th>\n",
       "    </tr>\n",
       "  </thead>\n",
       "  <tbody>\n",
       "    <tr>\n",
       "      <th>1985907</th>\n",
       "      <td>0036T00004AWSVCQA5</td>\n",
       "      <td>kpepper@nossaman.com</td>\n",
       "      <td>chief operating officer</td>\n",
       "      <td></td>\n",
       "      <td>corp</td>\n",
       "      <td>ams</td>\n",
       "      <td>united states</td>\n",
       "      <td></td>\n",
       "    </tr>\n",
       "    <tr>\n",
       "      <th>1985908</th>\n",
       "      <td>0036T00004AWXs8QAH</td>\n",
       "      <td>sgilbreath@jacksonhealthcare.com</td>\n",
       "      <td>senior network engineer</td>\n",
       "      <td></td>\n",
       "      <td>corp</td>\n",
       "      <td>ams</td>\n",
       "      <td>united states</td>\n",
       "      <td></td>\n",
       "    </tr>\n",
       "    <tr>\n",
       "      <th>1985909</th>\n",
       "      <td>0036T00004AUk9jQAD</td>\n",
       "      <td>rob.juliano@yusa-oh.com</td>\n",
       "      <td>yusa it administrator</td>\n",
       "      <td>it: systems admin</td>\n",
       "      <td>corp</td>\n",
       "      <td>ams</td>\n",
       "      <td>united states</td>\n",
       "      <td></td>\n",
       "    </tr>\n",
       "    <tr>\n",
       "      <th>1985910</th>\n",
       "      <td>0036T00004AW28jQAD</td>\n",
       "      <td>achakraborty@hibbertgroup.com</td>\n",
       "      <td>senior software developer</td>\n",
       "      <td></td>\n",
       "      <td>corp</td>\n",
       "      <td>ams</td>\n",
       "      <td>united states</td>\n",
       "      <td></td>\n",
       "    </tr>\n",
       "    <tr>\n",
       "      <th>1985911</th>\n",
       "      <td>0036T00004AUNsRQAX</td>\n",
       "      <td></td>\n",
       "      <td>computer systems administrator</td>\n",
       "      <td>it: systems admin</td>\n",
       "      <td>corp</td>\n",
       "      <td>ams</td>\n",
       "      <td>united states</td>\n",
       "      <td></td>\n",
       "    </tr>\n",
       "  </tbody>\n",
       "</table>\n",
       "</div>"
      ],
      "text/plain": [
       "                         ID                             EMAIL  \\\n",
       "1985907  0036T00004AWSVCQA5              kpepper@nossaman.com   \n",
       "1985908  0036T00004AWXs8QAH  sgilbreath@jacksonhealthcare.com   \n",
       "1985909  0036T00004AUk9jQAD           rob.juliano@yusa-oh.com   \n",
       "1985910  0036T00004AW28jQAD     achakraborty@hibbertgroup.com   \n",
       "1985911  0036T00004AUNsRQAX                                     \n",
       "\n",
       "                       TRANSLATED_TITLE    JOB_FUNCTION__C OWNER_SEGMENT__C  \\\n",
       "1985907         chief operating officer                                corp   \n",
       "1985908         senior network engineer                                corp   \n",
       "1985909           yusa it administrator  it: systems admin             corp   \n",
       "1985910       senior software developer                                corp   \n",
       "1985911  computer systems administrator  it: systems admin             corp   \n",
       "\n",
       "        GEO_LOCATION_LEVEL1__C      REGION__C EMPLOYEE_COUNT__C  \n",
       "1985907                    ams  united states                    \n",
       "1985908                    ams  united states                    \n",
       "1985909                    ams  united states                    \n",
       "1985910                    ams  united states                    \n",
       "1985911                    ams  united states                    "
      ]
     },
     "execution_count": 28,
     "metadata": {},
     "output_type": "execute_result"
    }
   ],
   "source": [
    "Clean = pd.concat([WithSegment, NoSegment], axis=0, ignore_index=False).sort_index(axis = 0).fillna('')\n",
    "Clean.tail(5)"
   ]
  },
  {
   "cell_type": "markdown",
   "id": "3fb5d74c",
   "metadata": {},
   "source": [
    "# Natural Language Processing"
   ]
  },
  {
   "cell_type": "code",
   "execution_count": 29,
   "id": "d6feec1e",
   "metadata": {
    "scrolled": true
   },
   "outputs": [
    {
     "data": {
      "text/plain": [
       "'!\"#$%&\\'()*+,-./:;<=>?@[\\\\]^_`{|}~'"
      ]
     },
     "execution_count": 29,
     "metadata": {},
     "output_type": "execute_result"
    }
   ],
   "source": [
    "import string\n",
    "string.punctuation"
   ]
  },
  {
   "cell_type": "code",
   "execution_count": 30,
   "id": "d1a779e3",
   "metadata": {},
   "outputs": [],
   "source": [
    "#define function for remove punctuation, tokenization, remove stopwords, and stemming\n",
    "#this function will be directly used with vectorizing\n",
    "\n",
    "import re\n",
    "import nltk\n",
    "from nltk.corpus import stopwords\n",
    "stopwords = nltk.corpus.stopwords.words('english')\n",
    "wn = nltk.WordNetLemmatizer()"
   ]
  },
  {
   "cell_type": "code",
   "execution_count": 31,
   "id": "d380b603",
   "metadata": {},
   "outputs": [],
   "source": [
    "def remove_punct(text):\n",
    "    text_nopunct = \"\".join([char for char in str(text) if char not in string.punctuation])\n",
    "    return text_nopunct\n",
    "\n",
    "Clean['TRANSLATED_TITLE'] = Clean['TRANSLATED_TITLE'].apply(lambda x: remove_punct(x))"
   ]
  },
  {
   "cell_type": "code",
   "execution_count": 32,
   "id": "ee814378",
   "metadata": {},
   "outputs": [],
   "source": [
    "def tokenize(text):\n",
    "    tokens = re.split('\\W+', text)\n",
    "    return tokens\n",
    "\n",
    "Clean['TRANSLATED_TITLE'] = Clean['TRANSLATED_TITLE'].apply(lambda x: tokenize(x))"
   ]
  },
  {
   "cell_type": "code",
   "execution_count": 33,
   "id": "9e35e31b",
   "metadata": {},
   "outputs": [],
   "source": [
    "def remove_stopwords(tokenized_list):\n",
    "    text = [word for word in tokenized_list if word not in stopwords]\n",
    "    return text\n",
    " \n",
    "Clean['TRANSLATED_TITLE'] = Clean['TRANSLATED_TITLE'].apply(lambda x: remove_stopwords(x))"
   ]
  },
  {
   "cell_type": "code",
   "execution_count": 34,
   "id": "4dca9aa0",
   "metadata": {},
   "outputs": [],
   "source": [
    "def lemmatizing(tokenized_text):\n",
    "    text = [wn.lemmatize(word) for word in tokenized_text]\n",
    "    return ' '.join(text)  #change from list format to string format\n",
    "\n",
    "Clean['TRANSLATED_TITLE'] = Clean['TRANSLATED_TITLE'].apply(lambda x: lemmatizing(x))"
   ]
  },
  {
   "cell_type": "code",
   "execution_count": 35,
   "id": "3df564b0",
   "metadata": {
    "scrolled": true
   },
   "outputs": [
    {
     "data": {
      "text/plain": [
       "(1718858, 8)"
      ]
     },
     "execution_count": 35,
     "metadata": {},
     "output_type": "execute_result"
    }
   ],
   "source": [
    "Clean.shape"
   ]
  },
  {
   "cell_type": "code",
   "execution_count": 36,
   "id": "77997b0c",
   "metadata": {
    "scrolled": true
   },
   "outputs": [
    {
     "data": {
      "text/html": [
       "<div>\n",
       "<style scoped>\n",
       "    .dataframe tbody tr th:only-of-type {\n",
       "        vertical-align: middle;\n",
       "    }\n",
       "\n",
       "    .dataframe tbody tr th {\n",
       "        vertical-align: top;\n",
       "    }\n",
       "\n",
       "    .dataframe thead th {\n",
       "        text-align: right;\n",
       "    }\n",
       "</style>\n",
       "<table border=\"1\" class=\"dataframe\">\n",
       "  <thead>\n",
       "    <tr style=\"text-align: right;\">\n",
       "      <th></th>\n",
       "      <th>ID</th>\n",
       "      <th>EMAIL</th>\n",
       "      <th>TRANSLATED_TITLE</th>\n",
       "      <th>JOB_FUNCTION__C</th>\n",
       "      <th>OWNER_SEGMENT__C</th>\n",
       "      <th>GEO_LOCATION_LEVEL1__C</th>\n",
       "      <th>REGION__C</th>\n",
       "      <th>EMPLOYEE_COUNT__C</th>\n",
       "    </tr>\n",
       "  </thead>\n",
       "  <tbody>\n",
       "    <tr>\n",
       "      <th>0</th>\n",
       "      <td>0036T0000474qgbQAA</td>\n",
       "      <td>brian.guevara@colorofchange.org</td>\n",
       "      <td>senior manager</td>\n",
       "      <td>it: manager</td>\n",
       "      <td>corp</td>\n",
       "      <td>ams</td>\n",
       "      <td>united states</td>\n",
       "      <td>11.0</td>\n",
       "    </tr>\n",
       "    <tr>\n",
       "      <th>1</th>\n",
       "      <td>0030W00003R8xlVQAR</td>\n",
       "      <td>ismael.savadogo@colorofchange.org</td>\n",
       "      <td>cfo</td>\n",
       "      <td></td>\n",
       "      <td>corp</td>\n",
       "      <td>ams</td>\n",
       "      <td>united states</td>\n",
       "      <td>11.0</td>\n",
       "    </tr>\n",
       "    <tr>\n",
       "      <th>2</th>\n",
       "      <td>0030W00003qpL0bQAE</td>\n",
       "      <td>sue.nyoni@colorofchange.org</td>\n",
       "      <td>director operation</td>\n",
       "      <td></td>\n",
       "      <td>corp</td>\n",
       "      <td>ams</td>\n",
       "      <td>united states</td>\n",
       "      <td>11.0</td>\n",
       "    </tr>\n",
       "    <tr>\n",
       "      <th>3</th>\n",
       "      <td>0030W00003KBeetQAD</td>\n",
       "      <td>keith@colorofchange.org</td>\n",
       "      <td>chief staff</td>\n",
       "      <td>executive (ceo, cmo, coo, cfo)</td>\n",
       "      <td>corp</td>\n",
       "      <td>ams</td>\n",
       "      <td>united states</td>\n",
       "      <td>11.0</td>\n",
       "    </tr>\n",
       "    <tr>\n",
       "      <th>4</th>\n",
       "      <td>0030W00003KBjJgQAL</td>\n",
       "      <td>acarter@homesavings.com</td>\n",
       "      <td>avp information technology</td>\n",
       "      <td>it: vp or director</td>\n",
       "      <td>corp</td>\n",
       "      <td>ams</td>\n",
       "      <td>united states</td>\n",
       "      <td>500.0</td>\n",
       "    </tr>\n",
       "  </tbody>\n",
       "</table>\n",
       "</div>"
      ],
      "text/plain": [
       "                   ID                              EMAIL  \\\n",
       "0  0036T0000474qgbQAA    brian.guevara@colorofchange.org   \n",
       "1  0030W00003R8xlVQAR  ismael.savadogo@colorofchange.org   \n",
       "2  0030W00003qpL0bQAE        sue.nyoni@colorofchange.org   \n",
       "3  0030W00003KBeetQAD            keith@colorofchange.org   \n",
       "4  0030W00003KBjJgQAL            acarter@homesavings.com   \n",
       "\n",
       "             TRANSLATED_TITLE                 JOB_FUNCTION__C  \\\n",
       "0              senior manager                     it: manager   \n",
       "1                         cfo                                   \n",
       "2          director operation                                   \n",
       "3                 chief staff  executive (ceo, cmo, coo, cfo)   \n",
       "4  avp information technology              it: vp or director   \n",
       "\n",
       "  OWNER_SEGMENT__C GEO_LOCATION_LEVEL1__C      REGION__C EMPLOYEE_COUNT__C  \n",
       "0             corp                    ams  united states              11.0  \n",
       "1             corp                    ams  united states              11.0  \n",
       "2             corp                    ams  united states              11.0  \n",
       "3             corp                    ams  united states              11.0  \n",
       "4             corp                    ams  united states             500.0  "
      ]
     },
     "execution_count": 36,
     "metadata": {},
     "output_type": "execute_result"
    }
   ],
   "source": [
    "Clean.head(5)"
   ]
  },
  {
   "cell_type": "markdown",
   "id": "3bc3475a",
   "metadata": {},
   "source": [
    "# Head of Identity & Access Management Persona"
   ]
  },
  {
   "cell_type": "code",
   "execution_count": 37,
   "id": "855a921c",
   "metadata": {},
   "outputs": [
    {
     "data": {
      "text/plain": [
       "(4501, 8)"
      ]
     },
     "execution_count": 37,
     "metadata": {},
     "output_type": "execute_result"
    }
   ],
   "source": [
    "IdentityAccess = Clean[Clean['TRANSLATED_TITLE'].str.contains('identity|access|access management|iam|itam')]\n",
    "IdentityAccess.shape"
   ]
  },
  {
   "cell_type": "code",
   "execution_count": 38,
   "id": "a54549bd",
   "metadata": {
    "scrolled": true
   },
   "outputs": [
    {
     "name": "stderr",
     "output_type": "stream",
     "text": [
      "/var/folders/7r/1qz24gm934z0mlg9dwwq2hpr0000gn/T/ipykernel_76112/1374050305.py:1: SettingWithCopyWarning: \n",
      "A value is trying to be set on a copy of a slice from a DataFrame.\n",
      "Try using .loc[row_indexer,col_indexer] = value instead\n",
      "\n",
      "See the caveats in the documentation: https://pandas.pydata.org/pandas-docs/stable/user_guide/indexing.html#returning-a-view-versus-a-copy\n",
      "  IdentityAccess[\"Persona\"]='Head of Identity & Access Management'\n"
     ]
    },
    {
     "data": {
      "text/html": [
       "<div>\n",
       "<style scoped>\n",
       "    .dataframe tbody tr th:only-of-type {\n",
       "        vertical-align: middle;\n",
       "    }\n",
       "\n",
       "    .dataframe tbody tr th {\n",
       "        vertical-align: top;\n",
       "    }\n",
       "\n",
       "    .dataframe thead th {\n",
       "        text-align: right;\n",
       "    }\n",
       "</style>\n",
       "<table border=\"1\" class=\"dataframe\">\n",
       "  <thead>\n",
       "    <tr style=\"text-align: right;\">\n",
       "      <th></th>\n",
       "      <th>ID</th>\n",
       "      <th>EMAIL</th>\n",
       "      <th>TRANSLATED_TITLE</th>\n",
       "      <th>JOB_FUNCTION__C</th>\n",
       "      <th>OWNER_SEGMENT__C</th>\n",
       "      <th>GEO_LOCATION_LEVEL1__C</th>\n",
       "      <th>REGION__C</th>\n",
       "      <th>EMPLOYEE_COUNT__C</th>\n",
       "      <th>Persona</th>\n",
       "    </tr>\n",
       "  </thead>\n",
       "  <tbody>\n",
       "    <tr>\n",
       "      <th>391</th>\n",
       "      <td>0036T00003yfrfjQAA</td>\n",
       "      <td>tim.hill@cioxhealth.com</td>\n",
       "      <td>director iam</td>\n",
       "      <td></td>\n",
       "      <td>ent</td>\n",
       "      <td>ams</td>\n",
       "      <td>united states</td>\n",
       "      <td>16000.0</td>\n",
       "      <td>Head of Identity &amp; Access Management</td>\n",
       "    </tr>\n",
       "    <tr>\n",
       "      <th>411</th>\n",
       "      <td>0030W00003n68lyQAA</td>\n",
       "      <td>jeff.wood@cioxhealth.com</td>\n",
       "      <td>iam security engineer</td>\n",
       "      <td>security: engineer or analyst</td>\n",
       "      <td>ent</td>\n",
       "      <td>ams</td>\n",
       "      <td>united states</td>\n",
       "      <td>16000.0</td>\n",
       "      <td>Head of Identity &amp; Access Management</td>\n",
       "    </tr>\n",
       "    <tr>\n",
       "      <th>446</th>\n",
       "      <td>0030W00003UkunhQAB</td>\n",
       "      <td>smcdonald@fcci-group.com</td>\n",
       "      <td>sr identity access management analyst</td>\n",
       "      <td>it: other</td>\n",
       "      <td>corp</td>\n",
       "      <td>ams</td>\n",
       "      <td>united states</td>\n",
       "      <td>840.0</td>\n",
       "      <td>Head of Identity &amp; Access Management</td>\n",
       "    </tr>\n",
       "    <tr>\n",
       "      <th>458</th>\n",
       "      <td>0030W00003n5T2WQAU</td>\n",
       "      <td>lrichards@fcci-group.com</td>\n",
       "      <td>director information security access management</td>\n",
       "      <td>security: vp or director</td>\n",
       "      <td>corp</td>\n",
       "      <td>ams</td>\n",
       "      <td>united states</td>\n",
       "      <td>840.0</td>\n",
       "      <td>Head of Identity &amp; Access Management</td>\n",
       "    </tr>\n",
       "    <tr>\n",
       "      <th>574</th>\n",
       "      <td>0036T00003yfexnQAA</td>\n",
       "      <td>kathleen.peters@experian.com</td>\n",
       "      <td>senior vp head fraud identity business</td>\n",
       "      <td>it: vp or director</td>\n",
       "      <td>ent</td>\n",
       "      <td>ams</td>\n",
       "      <td>united states</td>\n",
       "      <td>6586.0</td>\n",
       "      <td>Head of Identity &amp; Access Management</td>\n",
       "    </tr>\n",
       "  </tbody>\n",
       "</table>\n",
       "</div>"
      ],
      "text/plain": [
       "                     ID                         EMAIL  \\\n",
       "391  0036T00003yfrfjQAA       tim.hill@cioxhealth.com   \n",
       "411  0030W00003n68lyQAA      jeff.wood@cioxhealth.com   \n",
       "446  0030W00003UkunhQAB      smcdonald@fcci-group.com   \n",
       "458  0030W00003n5T2WQAU      lrichards@fcci-group.com   \n",
       "574  0036T00003yfexnQAA  kathleen.peters@experian.com   \n",
       "\n",
       "                                    TRANSLATED_TITLE  \\\n",
       "391                                     director iam   \n",
       "411                            iam security engineer   \n",
       "446            sr identity access management analyst   \n",
       "458  director information security access management   \n",
       "574           senior vp head fraud identity business   \n",
       "\n",
       "                   JOB_FUNCTION__C OWNER_SEGMENT__C GEO_LOCATION_LEVEL1__C  \\\n",
       "391                                             ent                    ams   \n",
       "411  security: engineer or analyst              ent                    ams   \n",
       "446                      it: other             corp                    ams   \n",
       "458       security: vp or director             corp                    ams   \n",
       "574             it: vp or director              ent                    ams   \n",
       "\n",
       "         REGION__C EMPLOYEE_COUNT__C                               Persona  \n",
       "391  united states           16000.0  Head of Identity & Access Management  \n",
       "411  united states           16000.0  Head of Identity & Access Management  \n",
       "446  united states             840.0  Head of Identity & Access Management  \n",
       "458  united states             840.0  Head of Identity & Access Management  \n",
       "574  united states            6586.0  Head of Identity & Access Management  "
      ]
     },
     "execution_count": 38,
     "metadata": {},
     "output_type": "execute_result"
    }
   ],
   "source": [
    "IdentityAccess[\"Persona\"]='Head of Identity & Access Management'\n",
    "IdentityAccess.head(5)"
   ]
  },
  {
   "cell_type": "code",
   "execution_count": 39,
   "id": "01496e2f",
   "metadata": {},
   "outputs": [
    {
     "data": {
      "text/plain": [
       "(1714357, 8)"
      ]
     },
     "execution_count": 39,
     "metadata": {},
     "output_type": "execute_result"
    }
   ],
   "source": [
    "Clean1 = Clean[~Clean.index.isin(IdentityAccess.index)]\n",
    "Clean1.shape"
   ]
  },
  {
   "cell_type": "code",
   "execution_count": 40,
   "id": "4b258460",
   "metadata": {},
   "outputs": [
    {
     "name": "stderr",
     "output_type": "stream",
     "text": [
      "/var/folders/7r/1qz24gm934z0mlg9dwwq2hpr0000gn/T/ipykernel_76112/2219569580.py:2: SettingWithCopyWarning: \n",
      "A value is trying to be set on a copy of a slice from a DataFrame.\n",
      "Try using .loc[row_indexer,col_indexer] = value instead\n",
      "\n",
      "See the caveats in the documentation: https://pandas.pydata.org/pandas-docs/stable/user_guide/indexing.html#returning-a-view-versus-a-copy\n",
      "  IdentityAccess2[\"Persona\"]='Head of Identity & Access Management'\n"
     ]
    },
    {
     "data": {
      "text/plain": [
       "(1, 9)"
      ]
     },
     "execution_count": 40,
     "metadata": {},
     "output_type": "execute_result"
    }
   ],
   "source": [
    "IdentityAccess2 = Clean1[Clean1['JOB_FUNCTION__C'].str.contains('identity|access')]\n",
    "IdentityAccess2[\"Persona\"]='Head of Identity & Access Management'\n",
    "IdentityAccess2.shape"
   ]
  },
  {
   "cell_type": "markdown",
   "id": "dac5143d",
   "metadata": {},
   "source": [
    "# CFO Persona"
   ]
  },
  {
   "cell_type": "code",
   "execution_count": 41,
   "id": "1e1a534e",
   "metadata": {},
   "outputs": [
    {
     "data": {
      "text/plain": [
       "(1714356, 8)"
      ]
     },
     "execution_count": 41,
     "metadata": {},
     "output_type": "execute_result"
    }
   ],
   "source": [
    "Clean2 = Clean1[~Clean1.index.isin(IdentityAccess2.index)]\n",
    "Clean2.shape"
   ]
  },
  {
   "cell_type": "code",
   "execution_count": 42,
   "id": "04f0eeb4",
   "metadata": {},
   "outputs": [
    {
     "data": {
      "text/plain": [
       "(18548, 8)"
      ]
     },
     "execution_count": 42,
     "metadata": {},
     "output_type": "execute_result"
    }
   ],
   "source": [
    "CFO = Clean2[Clean2['TRANSLATED_TITLE'].str.contains('cfo|vp finance|chief finance|head finance|finance|financial|finance leader|finance head|vice president finance|president finance|finance vice president|finance president')]\n",
    "# Do not want to include manager or analyst level\n",
    "CFO = CFO[~CFO['TRANSLATED_TITLE'].str.contains('analyst|manager|specialist|intern|coordinator|junior|advisor|financial assistant|planner|consultant|marketing|market|account executive|mgr|assistant director|associate director|attorney|financial service|help desk|influencer|sales')]\n",
    "CFO.shape"
   ]
  },
  {
   "cell_type": "code",
   "execution_count": 43,
   "id": "75a12aaf",
   "metadata": {},
   "outputs": [
    {
     "data": {
      "text/html": [
       "<div>\n",
       "<style scoped>\n",
       "    .dataframe tbody tr th:only-of-type {\n",
       "        vertical-align: middle;\n",
       "    }\n",
       "\n",
       "    .dataframe tbody tr th {\n",
       "        vertical-align: top;\n",
       "    }\n",
       "\n",
       "    .dataframe thead th {\n",
       "        text-align: right;\n",
       "    }\n",
       "</style>\n",
       "<table border=\"1\" class=\"dataframe\">\n",
       "  <thead>\n",
       "    <tr style=\"text-align: right;\">\n",
       "      <th></th>\n",
       "      <th>ID</th>\n",
       "      <th>EMAIL</th>\n",
       "      <th>TRANSLATED_TITLE</th>\n",
       "      <th>JOB_FUNCTION__C</th>\n",
       "      <th>OWNER_SEGMENT__C</th>\n",
       "      <th>GEO_LOCATION_LEVEL1__C</th>\n",
       "      <th>REGION__C</th>\n",
       "      <th>EMPLOYEE_COUNT__C</th>\n",
       "      <th>Persona</th>\n",
       "    </tr>\n",
       "  </thead>\n",
       "  <tbody>\n",
       "    <tr>\n",
       "      <th>1</th>\n",
       "      <td>0030W00003R8xlVQAR</td>\n",
       "      <td>ismael.savadogo@colorofchange.org</td>\n",
       "      <td>cfo</td>\n",
       "      <td></td>\n",
       "      <td>corp</td>\n",
       "      <td>ams</td>\n",
       "      <td>united states</td>\n",
       "      <td>11.0</td>\n",
       "      <td>CFO</td>\n",
       "    </tr>\n",
       "    <tr>\n",
       "      <th>58</th>\n",
       "      <td>0030W00003PG7wrQAD</td>\n",
       "      <td>david.kinns@homeserve.com</td>\n",
       "      <td>head finance system</td>\n",
       "      <td>it: manager</td>\n",
       "      <td>mm</td>\n",
       "      <td>emea</td>\n",
       "      <td>uk&amp;i</td>\n",
       "      <td>3766.0</td>\n",
       "      <td>CFO</td>\n",
       "    </tr>\n",
       "    <tr>\n",
       "      <th>69</th>\n",
       "      <td>0030W00003oDp1UQAS</td>\n",
       "      <td>nick.kasmir@homeserve.com</td>\n",
       "      <td>cfo uk home repair insurance</td>\n",
       "      <td>executive (ceo, cmo, coo, cfo)</td>\n",
       "      <td>mm</td>\n",
       "      <td>emea</td>\n",
       "      <td>uk&amp;i</td>\n",
       "      <td>3766.0</td>\n",
       "      <td>CFO</td>\n",
       "    </tr>\n",
       "    <tr>\n",
       "      <th>206</th>\n",
       "      <td>0036T0000416PAuQAM</td>\n",
       "      <td>mmeixelsperger@valvoline.com</td>\n",
       "      <td>cfo</td>\n",
       "      <td>executive (ceo, cmo, coo, cfo)</td>\n",
       "      <td>ent</td>\n",
       "      <td>ams</td>\n",
       "      <td>united states</td>\n",
       "      <td>6000.0</td>\n",
       "      <td>CFO</td>\n",
       "    </tr>\n",
       "    <tr>\n",
       "      <th>281</th>\n",
       "      <td>0030W00003VWO7CQAX</td>\n",
       "      <td>tinus.grobbelaar@firesyn.com</td>\n",
       "      <td>chief financial officer</td>\n",
       "      <td></td>\n",
       "      <td>smb</td>\n",
       "      <td>ams</td>\n",
       "      <td>united states</td>\n",
       "      <td>66.0</td>\n",
       "      <td>CFO</td>\n",
       "    </tr>\n",
       "  </tbody>\n",
       "</table>\n",
       "</div>"
      ],
      "text/plain": [
       "                     ID                              EMAIL  \\\n",
       "1    0030W00003R8xlVQAR  ismael.savadogo@colorofchange.org   \n",
       "58   0030W00003PG7wrQAD          david.kinns@homeserve.com   \n",
       "69   0030W00003oDp1UQAS          nick.kasmir@homeserve.com   \n",
       "206  0036T0000416PAuQAM       mmeixelsperger@valvoline.com   \n",
       "281  0030W00003VWO7CQAX       tinus.grobbelaar@firesyn.com   \n",
       "\n",
       "                 TRANSLATED_TITLE                 JOB_FUNCTION__C  \\\n",
       "1                             cfo                                   \n",
       "58            head finance system                     it: manager   \n",
       "69   cfo uk home repair insurance  executive (ceo, cmo, coo, cfo)   \n",
       "206                           cfo  executive (ceo, cmo, coo, cfo)   \n",
       "281       chief financial officer                                   \n",
       "\n",
       "    OWNER_SEGMENT__C GEO_LOCATION_LEVEL1__C      REGION__C EMPLOYEE_COUNT__C  \\\n",
       "1               corp                    ams  united states              11.0   \n",
       "58                mm                   emea           uk&i            3766.0   \n",
       "69                mm                   emea           uk&i            3766.0   \n",
       "206              ent                    ams  united states            6000.0   \n",
       "281              smb                    ams  united states              66.0   \n",
       "\n",
       "    Persona  \n",
       "1       CFO  \n",
       "58      CFO  \n",
       "69      CFO  \n",
       "206     CFO  \n",
       "281     CFO  "
      ]
     },
     "execution_count": 43,
     "metadata": {},
     "output_type": "execute_result"
    }
   ],
   "source": [
    "CFO[\"Persona\"]='CFO'\n",
    "CFO.head(5)"
   ]
  },
  {
   "cell_type": "markdown",
   "id": "f1524a5c",
   "metadata": {},
   "source": [
    "# Head of Cyber Security Intelligence (CTI) Persona"
   ]
  },
  {
   "cell_type": "code",
   "execution_count": 44,
   "id": "2733f660",
   "metadata": {
    "scrolled": true
   },
   "outputs": [
    {
     "data": {
      "text/plain": [
       "(1695808, 8)"
      ]
     },
     "execution_count": 44,
     "metadata": {},
     "output_type": "execute_result"
    }
   ],
   "source": [
    "Clean3 = Clean2[~Clean2.index.isin(CFO.index)]\n",
    "Clean3.shape"
   ]
  },
  {
   "cell_type": "code",
   "execution_count": 45,
   "id": "84fc4653",
   "metadata": {},
   "outputs": [
    {
     "data": {
      "text/plain": [
       "(22998, 8)"
      ]
     },
     "execution_count": 45,
     "metadata": {},
     "output_type": "execute_result"
    }
   ],
   "source": [
    "HeadofCTI = Clean3[Clean3['TRANSLATED_TITLE'].str.contains('cyber|cyber security|cybersecurity|cybercrime|cyber crime|cyber intelligence|intelligence research|threat intelligence|security research|cyber security intelligence|cybersecurity intelligence|rsi|solution architect cloud|cloud solution architect|security solution architect|solution architect security|cti director')]\n",
    "HeadofCTI = HeadofCTI[~HeadofCTI['TRANSLATED_TITLE'].str.contains('analyst|specialist|intern|coordinator|junior|planner|consultant|engineer|technician|developer|finance|advisor|marketing|market|account executive|account manager|attorney|influencer|sales|business development|business intelligence|database|security engineer|application security|system admin|network admin|system analyst|system engineer')]\n",
    "HeadofCTI.shape"
   ]
  },
  {
   "cell_type": "code",
   "execution_count": 46,
   "id": "99e73591",
   "metadata": {
    "scrolled": true
   },
   "outputs": [
    {
     "data": {
      "text/html": [
       "<div>\n",
       "<style scoped>\n",
       "    .dataframe tbody tr th:only-of-type {\n",
       "        vertical-align: middle;\n",
       "    }\n",
       "\n",
       "    .dataframe tbody tr th {\n",
       "        vertical-align: top;\n",
       "    }\n",
       "\n",
       "    .dataframe thead th {\n",
       "        text-align: right;\n",
       "    }\n",
       "</style>\n",
       "<table border=\"1\" class=\"dataframe\">\n",
       "  <thead>\n",
       "    <tr style=\"text-align: right;\">\n",
       "      <th></th>\n",
       "      <th>ID</th>\n",
       "      <th>EMAIL</th>\n",
       "      <th>TRANSLATED_TITLE</th>\n",
       "      <th>JOB_FUNCTION__C</th>\n",
       "      <th>OWNER_SEGMENT__C</th>\n",
       "      <th>GEO_LOCATION_LEVEL1__C</th>\n",
       "      <th>REGION__C</th>\n",
       "      <th>EMPLOYEE_COUNT__C</th>\n",
       "      <th>Persona</th>\n",
       "    </tr>\n",
       "  </thead>\n",
       "  <tbody>\n",
       "    <tr>\n",
       "      <th>13</th>\n",
       "      <td>0030W00003Zft98QAB</td>\n",
       "      <td>chris.smith@dentons.com</td>\n",
       "      <td>infrastructure cyber security manager</td>\n",
       "      <td>security: manager</td>\n",
       "      <td>corp</td>\n",
       "      <td>apj</td>\n",
       "      <td>australia and new zealand</td>\n",
       "      <td>520.0</td>\n",
       "      <td>Head of Cyber Security Intelligence</td>\n",
       "    </tr>\n",
       "    <tr>\n",
       "      <th>201</th>\n",
       "      <td>0036T00003yeObFQAU</td>\n",
       "      <td>baschliman@valvoline.com</td>\n",
       "      <td>director cyber security</td>\n",
       "      <td>security: vp or director</td>\n",
       "      <td>ent</td>\n",
       "      <td>ams</td>\n",
       "      <td>united states</td>\n",
       "      <td>6000.0</td>\n",
       "      <td>Head of Cyber Security Intelligence</td>\n",
       "    </tr>\n",
       "    <tr>\n",
       "      <th>246</th>\n",
       "      <td>0030W00003Q2c8DQAR</td>\n",
       "      <td>sives@fsarcenter.org</td>\n",
       "      <td>director cybercrime</td>\n",
       "      <td></td>\n",
       "      <td>corp</td>\n",
       "      <td>ams</td>\n",
       "      <td>united states</td>\n",
       "      <td>13.0</td>\n",
       "      <td>Head of Cyber Security Intelligence</td>\n",
       "    </tr>\n",
       "    <tr>\n",
       "      <th>247</th>\n",
       "      <td>0030W00003PIlXmQAL</td>\n",
       "      <td>rheacock@fsarcenter.org</td>\n",
       "      <td>systemic cyber risk initiative manager</td>\n",
       "      <td>it: manager</td>\n",
       "      <td>corp</td>\n",
       "      <td>ams</td>\n",
       "      <td>united states</td>\n",
       "      <td>13.0</td>\n",
       "      <td>Head of Cyber Security Intelligence</td>\n",
       "    </tr>\n",
       "    <tr>\n",
       "      <th>250</th>\n",
       "      <td>0030W00003n5IoXQAU</td>\n",
       "      <td>rechevarria@fsarcenter.org</td>\n",
       "      <td>managerbusiness resilience systemic risk analysis crisis response cyber exercise</td>\n",
       "      <td>compliance and risk mgmt</td>\n",
       "      <td>corp</td>\n",
       "      <td>ams</td>\n",
       "      <td>united states</td>\n",
       "      <td>13.0</td>\n",
       "      <td>Head of Cyber Security Intelligence</td>\n",
       "    </tr>\n",
       "  </tbody>\n",
       "</table>\n",
       "</div>"
      ],
      "text/plain": [
       "                     ID                       EMAIL  \\\n",
       "13   0030W00003Zft98QAB     chris.smith@dentons.com   \n",
       "201  0036T00003yeObFQAU    baschliman@valvoline.com   \n",
       "246  0030W00003Q2c8DQAR        sives@fsarcenter.org   \n",
       "247  0030W00003PIlXmQAL     rheacock@fsarcenter.org   \n",
       "250  0030W00003n5IoXQAU  rechevarria@fsarcenter.org   \n",
       "\n",
       "                                                                     TRANSLATED_TITLE  \\\n",
       "13                                              infrastructure cyber security manager   \n",
       "201                                                           director cyber security   \n",
       "246                                                               director cybercrime   \n",
       "247                                            systemic cyber risk initiative manager   \n",
       "250  managerbusiness resilience systemic risk analysis crisis response cyber exercise   \n",
       "\n",
       "              JOB_FUNCTION__C OWNER_SEGMENT__C GEO_LOCATION_LEVEL1__C  \\\n",
       "13          security: manager             corp                    apj   \n",
       "201  security: vp or director              ent                    ams   \n",
       "246                                       corp                    ams   \n",
       "247               it: manager             corp                    ams   \n",
       "250  compliance and risk mgmt             corp                    ams   \n",
       "\n",
       "                     REGION__C EMPLOYEE_COUNT__C  \\\n",
       "13   australia and new zealand             520.0   \n",
       "201              united states            6000.0   \n",
       "246              united states              13.0   \n",
       "247              united states              13.0   \n",
       "250              united states              13.0   \n",
       "\n",
       "                                 Persona  \n",
       "13   Head of Cyber Security Intelligence  \n",
       "201  Head of Cyber Security Intelligence  \n",
       "246  Head of Cyber Security Intelligence  \n",
       "247  Head of Cyber Security Intelligence  \n",
       "250  Head of Cyber Security Intelligence  "
      ]
     },
     "execution_count": 46,
     "metadata": {},
     "output_type": "execute_result"
    }
   ],
   "source": [
    "HeadofCTI[\"Persona\"]='Head of Cyber Security Intelligence'\n",
    "HeadofCTI.head(5)"
   ]
  },
  {
   "cell_type": "code",
   "execution_count": 47,
   "id": "550c07fd",
   "metadata": {},
   "outputs": [
    {
     "data": {
      "text/plain": [
       "(1672810, 8)"
      ]
     },
     "execution_count": 47,
     "metadata": {},
     "output_type": "execute_result"
    }
   ],
   "source": [
    "Clean4 = Clean3[~Clean3.index.isin(HeadofCTI.index)]\n",
    "Clean4.shape"
   ]
  },
  {
   "cell_type": "code",
   "execution_count": 48,
   "id": "429b67ad",
   "metadata": {},
   "outputs": [
    {
     "data": {
      "text/plain": [
       "(2, 9)"
      ]
     },
     "execution_count": 48,
     "metadata": {},
     "output_type": "execute_result"
    }
   ],
   "source": [
    "HeadofCTI2 = Clean4[Clean4['JOB_FUNCTION__C'].str.contains('cyber|cyber security|cybersecurity|cybercrime|cyber crime|cyber intelligence|intelligence research|threat intelligence|security research|cyber security intelligence|cybersecurity intelligence|cti director')]\n",
    "HeadofCTI2 = HeadofCTI2[~HeadofCTI2['TRANSLATED_TITLE'].str.contains('analyst|specialist|intern|coordinator|junior|planner|consultant|engineer|technician|developer|finance|advisor|marketing|market|account executive|account manager|attorney|influencer|sales|business development|business intelligence|database|security engineer|application security|system admin|network admin|system analyst|system engineer')]\n",
    "HeadofCTI2[\"Persona\"]='Head of Cyber Security Intelligence'\n",
    "HeadofCTI2.shape"
   ]
  },
  {
   "cell_type": "markdown",
   "id": "fa1d28b4",
   "metadata": {},
   "source": [
    "# Cloud Security Architect Persona"
   ]
  },
  {
   "cell_type": "code",
   "execution_count": 49,
   "id": "dd73c948",
   "metadata": {
    "scrolled": true
   },
   "outputs": [
    {
     "data": {
      "text/plain": [
       "(1672808, 8)"
      ]
     },
     "execution_count": 49,
     "metadata": {},
     "output_type": "execute_result"
    }
   ],
   "source": [
    "Clean5 = Clean4[~Clean4.index.isin(HeadofCTI2.index)]\n",
    "Clean5.shape"
   ]
  },
  {
   "cell_type": "code",
   "execution_count": 50,
   "id": "7c8b8d9b",
   "metadata": {},
   "outputs": [
    {
     "data": {
      "text/plain": [
       "(19670, 8)"
      ]
     },
     "execution_count": 50,
     "metadata": {},
     "output_type": "execute_result"
    }
   ],
   "source": [
    "CloudSecurityArchitect = Clean5[Clean5['TRANSLATED_TITLE'].str.contains('cloud enterprise architect|enterprise architect|azure|aws|google cloud|redshift|ibm cloud|amazon web service|cloud security architect|cyber security architect|cybersecurity architect|solution architect|cloud solution architect|security solution architect|cloud implementation|cloud admin|cloud devops|cloud devsecops|cloud ops|cloud|cyber security|cybersecurity')]\n",
    "# Do not want to include 'engineer', 'application', 'developer' because that belong to DevSecOps Persona\n",
    "CloudSecurityArchitect = CloudSecurityArchitect[~CloudSecurityArchitect['TRANSLATED_TITLE'].str.contains('analyst|specialist|intern|coordinator|junior|planner|consultant|engineer|technician|developer|finance|advisor|marketing|market|account executive|account manager|attorney|influencer|sales|business development|business intelligence|database|security engineer|application security|system admin|network admin|system analyst|system engineer')]\n",
    "CloudSecurityArchitect.shape"
   ]
  },
  {
   "cell_type": "code",
   "execution_count": 51,
   "id": "88c47f39",
   "metadata": {},
   "outputs": [
    {
     "data": {
      "text/html": [
       "<div>\n",
       "<style scoped>\n",
       "    .dataframe tbody tr th:only-of-type {\n",
       "        vertical-align: middle;\n",
       "    }\n",
       "\n",
       "    .dataframe tbody tr th {\n",
       "        vertical-align: top;\n",
       "    }\n",
       "\n",
       "    .dataframe thead th {\n",
       "        text-align: right;\n",
       "    }\n",
       "</style>\n",
       "<table border=\"1\" class=\"dataframe\">\n",
       "  <thead>\n",
       "    <tr style=\"text-align: right;\">\n",
       "      <th></th>\n",
       "      <th>ID</th>\n",
       "      <th>EMAIL</th>\n",
       "      <th>TRANSLATED_TITLE</th>\n",
       "      <th>JOB_FUNCTION__C</th>\n",
       "      <th>OWNER_SEGMENT__C</th>\n",
       "      <th>GEO_LOCATION_LEVEL1__C</th>\n",
       "      <th>REGION__C</th>\n",
       "      <th>EMPLOYEE_COUNT__C</th>\n",
       "      <th>Persona</th>\n",
       "    </tr>\n",
       "  </thead>\n",
       "  <tbody>\n",
       "    <tr>\n",
       "      <th>11</th>\n",
       "      <td>0030W00003X3ugmQAB</td>\n",
       "      <td>jonathon.bond@dentons.com</td>\n",
       "      <td>global solution architect</td>\n",
       "      <td>it: other</td>\n",
       "      <td>corp</td>\n",
       "      <td>apj</td>\n",
       "      <td>australia and new zealand</td>\n",
       "      <td>520.0</td>\n",
       "      <td>Cloud Security Architect</td>\n",
       "    </tr>\n",
       "    <tr>\n",
       "      <th>52</th>\n",
       "      <td>0030W00003PG8LYQA1</td>\n",
       "      <td>lee.smart@homeserve.com</td>\n",
       "      <td>enterprise architect</td>\n",
       "      <td>it: other</td>\n",
       "      <td>mm</td>\n",
       "      <td>emea</td>\n",
       "      <td>uk&amp;i</td>\n",
       "      <td>3766.0</td>\n",
       "      <td>Cloud Security Architect</td>\n",
       "    </tr>\n",
       "    <tr>\n",
       "      <th>67</th>\n",
       "      <td>0036T0000443qpFQAQ</td>\n",
       "      <td>tally.singh@homeserve.com</td>\n",
       "      <td>head cloud</td>\n",
       "      <td></td>\n",
       "      <td>mm</td>\n",
       "      <td>emea</td>\n",
       "      <td>uk&amp;i</td>\n",
       "      <td>3766.0</td>\n",
       "      <td>Cloud Security Architect</td>\n",
       "    </tr>\n",
       "    <tr>\n",
       "      <th>80</th>\n",
       "      <td>0030W00003PG86hQAD</td>\n",
       "      <td>paul.hawkins@homeserve.com</td>\n",
       "      <td>enterprise architect</td>\n",
       "      <td>it: other</td>\n",
       "      <td>mm</td>\n",
       "      <td>emea</td>\n",
       "      <td>uk&amp;i</td>\n",
       "      <td>3766.0</td>\n",
       "      <td>Cloud Security Architect</td>\n",
       "    </tr>\n",
       "    <tr>\n",
       "      <th>99</th>\n",
       "      <td>0030W00003msJprQAE</td>\n",
       "      <td>tally.johal@homeserve.com</td>\n",
       "      <td>head cloud infrastructure</td>\n",
       "      <td>it: vp or director</td>\n",
       "      <td>mm</td>\n",
       "      <td>emea</td>\n",
       "      <td>uk&amp;i</td>\n",
       "      <td>3766.0</td>\n",
       "      <td>Cloud Security Architect</td>\n",
       "    </tr>\n",
       "  </tbody>\n",
       "</table>\n",
       "</div>"
      ],
      "text/plain": [
       "                    ID                       EMAIL           TRANSLATED_TITLE  \\\n",
       "11  0030W00003X3ugmQAB   jonathon.bond@dentons.com  global solution architect   \n",
       "52  0030W00003PG8LYQA1     lee.smart@homeserve.com       enterprise architect   \n",
       "67  0036T0000443qpFQAQ   tally.singh@homeserve.com                 head cloud   \n",
       "80  0030W00003PG86hQAD  paul.hawkins@homeserve.com       enterprise architect   \n",
       "99  0030W00003msJprQAE   tally.johal@homeserve.com  head cloud infrastructure   \n",
       "\n",
       "       JOB_FUNCTION__C OWNER_SEGMENT__C GEO_LOCATION_LEVEL1__C  \\\n",
       "11           it: other             corp                    apj   \n",
       "52           it: other               mm                   emea   \n",
       "67                                   mm                   emea   \n",
       "80           it: other               mm                   emea   \n",
       "99  it: vp or director               mm                   emea   \n",
       "\n",
       "                    REGION__C EMPLOYEE_COUNT__C                   Persona  \n",
       "11  australia and new zealand             520.0  Cloud Security Architect  \n",
       "52                       uk&i            3766.0  Cloud Security Architect  \n",
       "67                       uk&i            3766.0  Cloud Security Architect  \n",
       "80                       uk&i            3766.0  Cloud Security Architect  \n",
       "99                       uk&i            3766.0  Cloud Security Architect  "
      ]
     },
     "execution_count": 51,
     "metadata": {},
     "output_type": "execute_result"
    }
   ],
   "source": [
    "CloudSecurityArchitect[\"Persona\"]='Cloud Security Architect'\n",
    "CloudSecurityArchitect.head(5)"
   ]
  },
  {
   "cell_type": "code",
   "execution_count": 52,
   "id": "a0235bde",
   "metadata": {},
   "outputs": [
    {
     "data": {
      "text/plain": [
       "(1653138, 8)"
      ]
     },
     "execution_count": 52,
     "metadata": {},
     "output_type": "execute_result"
    }
   ],
   "source": [
    "Clean6 = Clean5[~Clean5.index.isin(CloudSecurityArchitect.index)]\n",
    "Clean6.shape"
   ]
  },
  {
   "cell_type": "code",
   "execution_count": 53,
   "id": "cbb7b87e",
   "metadata": {},
   "outputs": [
    {
     "data": {
      "text/plain": [
       "(224, 8)"
      ]
     },
     "execution_count": 53,
     "metadata": {},
     "output_type": "execute_result"
    }
   ],
   "source": [
    "CloudSecurityArchitect2 = Clean6[Clean6['JOB_FUNCTION__C'].str.contains('enterprise architect|security architect|azure|aws|google cloud|redshift|ibm cloud|amazon web service|cloud security architect|cyber security architect|cybersecurity architect|solution architect|cloud solution architect|security solution architect|cloud implementation|cloud admin|cloud devops|cloud devsecops|cloud ops|cloud|cyber security|cybersecurity')]\n",
    "# Do not want to include 'engineer', 'application', 'developer' because that belong to DevSecOps Persona\n",
    "CloudSecurityArchitect2 = CloudSecurityArchitect2[~CloudSecurityArchitect2['TRANSLATED_TITLE'].str.contains('engineer|developer|analyst|specialist|intern|coordinator|junior|planner|consultant|technician|finance|advisor|marketing|market|account executive|account manager|attorney|influencer|sales|business development|business intelligence|database|security engineer|application security|system admin|network admin|system analyst|system engineer|application|user')]\n",
    "CloudSecurityArchitect2 = CloudSecurityArchitect2[~CloudSecurityArchitect2['JOB_FUNCTION__C'].str.contains('chief information officer|cio')]\n",
    "CloudSecurityArchitect2.shape"
   ]
  },
  {
   "cell_type": "code",
   "execution_count": 54,
   "id": "0d106aab",
   "metadata": {},
   "outputs": [
    {
     "data": {
      "text/html": [
       "<div>\n",
       "<style scoped>\n",
       "    .dataframe tbody tr th:only-of-type {\n",
       "        vertical-align: middle;\n",
       "    }\n",
       "\n",
       "    .dataframe tbody tr th {\n",
       "        vertical-align: top;\n",
       "    }\n",
       "\n",
       "    .dataframe thead th {\n",
       "        text-align: right;\n",
       "    }\n",
       "</style>\n",
       "<table border=\"1\" class=\"dataframe\">\n",
       "  <thead>\n",
       "    <tr style=\"text-align: right;\">\n",
       "      <th></th>\n",
       "      <th>ID</th>\n",
       "      <th>EMAIL</th>\n",
       "      <th>TRANSLATED_TITLE</th>\n",
       "      <th>JOB_FUNCTION__C</th>\n",
       "      <th>OWNER_SEGMENT__C</th>\n",
       "      <th>GEO_LOCATION_LEVEL1__C</th>\n",
       "      <th>REGION__C</th>\n",
       "      <th>EMPLOYEE_COUNT__C</th>\n",
       "      <th>Persona</th>\n",
       "    </tr>\n",
       "  </thead>\n",
       "  <tbody>\n",
       "    <tr>\n",
       "      <th>1860</th>\n",
       "      <td>0030W00003L1Qy0QAF</td>\n",
       "      <td>jcrombie@interac.ca</td>\n",
       "      <td>senior manager emerging technology</td>\n",
       "      <td>enterprise architecture</td>\n",
       "      <td>corp</td>\n",
       "      <td>ams</td>\n",
       "      <td>canada</td>\n",
       "      <td>300.0</td>\n",
       "      <td>Cloud Security Architect</td>\n",
       "    </tr>\n",
       "    <tr>\n",
       "      <th>1896</th>\n",
       "      <td>0030W00003L1R5pQAF</td>\n",
       "      <td>kself@interac.ca</td>\n",
       "      <td>director mobile product platform</td>\n",
       "      <td>cloud / mobility</td>\n",
       "      <td>corp</td>\n",
       "      <td>ams</td>\n",
       "      <td>canada</td>\n",
       "      <td>300.0</td>\n",
       "      <td>Cloud Security Architect</td>\n",
       "    </tr>\n",
       "    <tr>\n",
       "      <th>9313</th>\n",
       "      <td>0030W00003VTuJEQA1</td>\n",
       "      <td>aspirou@olf.com</td>\n",
       "      <td>manager information technology</td>\n",
       "      <td>infrastructure, cloud / mobility</td>\n",
       "      <td>ent</td>\n",
       "      <td>ams</td>\n",
       "      <td>united states</td>\n",
       "      <td>268.0</td>\n",
       "      <td>Cloud Security Architect</td>\n",
       "    </tr>\n",
       "    <tr>\n",
       "      <th>37045</th>\n",
       "      <td>0030W00003X5h1ZQAR</td>\n",
       "      <td>antonio.rodriguez@mpsa.com</td>\n",
       "      <td>functional architect</td>\n",
       "      <td>enterprise architecture</td>\n",
       "      <td>ent</td>\n",
       "      <td>emea</td>\n",
       "      <td>southern europe</td>\n",
       "      <td>1001.0</td>\n",
       "      <td>Cloud Security Architect</td>\n",
       "    </tr>\n",
       "    <tr>\n",
       "      <th>37329</th>\n",
       "      <td>0030W00003Y68rVQAR</td>\n",
       "      <td>mvanleeuwen@bol.com</td>\n",
       "      <td>lead architect</td>\n",
       "      <td>enterprise architecture</td>\n",
       "      <td>corp</td>\n",
       "      <td>emea</td>\n",
       "      <td>northern europe</td>\n",
       "      <td>262.0</td>\n",
       "      <td>Cloud Security Architect</td>\n",
       "    </tr>\n",
       "  </tbody>\n",
       "</table>\n",
       "</div>"
      ],
      "text/plain": [
       "                       ID                       EMAIL  \\\n",
       "1860   0030W00003L1Qy0QAF         jcrombie@interac.ca   \n",
       "1896   0030W00003L1R5pQAF            kself@interac.ca   \n",
       "9313   0030W00003VTuJEQA1             aspirou@olf.com   \n",
       "37045  0030W00003X5h1ZQAR  antonio.rodriguez@mpsa.com   \n",
       "37329  0030W00003Y68rVQAR         mvanleeuwen@bol.com   \n",
       "\n",
       "                         TRANSLATED_TITLE                   JOB_FUNCTION__C  \\\n",
       "1860   senior manager emerging technology           enterprise architecture   \n",
       "1896     director mobile product platform                  cloud / mobility   \n",
       "9313       manager information technology  infrastructure, cloud / mobility   \n",
       "37045                functional architect           enterprise architecture   \n",
       "37329                      lead architect           enterprise architecture   \n",
       "\n",
       "      OWNER_SEGMENT__C GEO_LOCATION_LEVEL1__C        REGION__C  \\\n",
       "1860              corp                    ams           canada   \n",
       "1896              corp                    ams           canada   \n",
       "9313               ent                    ams    united states   \n",
       "37045              ent                   emea  southern europe   \n",
       "37329             corp                   emea  northern europe   \n",
       "\n",
       "      EMPLOYEE_COUNT__C                   Persona  \n",
       "1860              300.0  Cloud Security Architect  \n",
       "1896              300.0  Cloud Security Architect  \n",
       "9313              268.0  Cloud Security Architect  \n",
       "37045            1001.0  Cloud Security Architect  \n",
       "37329             262.0  Cloud Security Architect  "
      ]
     },
     "execution_count": 54,
     "metadata": {},
     "output_type": "execute_result"
    }
   ],
   "source": [
    "CloudSecurityArchitect2[\"Persona\"]='Cloud Security Architect'\n",
    "CloudSecurityArchitect2.head(5)"
   ]
  },
  {
   "cell_type": "markdown",
   "id": "948a0f5b",
   "metadata": {},
   "source": [
    "# Head of DevSecOps Persona"
   ]
  },
  {
   "cell_type": "code",
   "execution_count": 55,
   "id": "d5a62690",
   "metadata": {},
   "outputs": [
    {
     "data": {
      "text/plain": [
       "(1652914, 8)"
      ]
     },
     "execution_count": 55,
     "metadata": {},
     "output_type": "execute_result"
    }
   ],
   "source": [
    "Clean7 = Clean6[~Clean6.index.isin(CloudSecurityArchitect2.index)]\n",
    "Clean7.shape"
   ]
  },
  {
   "cell_type": "code",
   "execution_count": 56,
   "id": "d54d9946",
   "metadata": {},
   "outputs": [
    {
     "data": {
      "text/plain": [
       "(3528, 8)"
      ]
     },
     "execution_count": 56,
     "metadata": {},
     "output_type": "execute_result"
    }
   ],
   "source": [
    "HeadofDevSecOps = Clean7[Clean7['TRANSLATED_TITLE'].str.contains('cloud|azure|aws|amazon web service|google cloud|redshift|ibm cloud|aws engineer|kubernetes|lead security engineer|security engineer lead|cloud architect|devsecops lead|lead devsecops|head devsecops|head devops security|head security devops|devsecops|devsecops quality control|system admin devsecops|system administrator devsecops|cloud engineer|engineer cloud|cloud user|cloud developer|developer cloud|cloud architect|cloud application|application security|application security engineer')]\n",
    "HeadofDevSecOps = HeadofDevSecOps[~HeadofDevSecOps['TRANSLATED_TITLE'].str.contains('analyst|specialist|intern|coordinator|junior|planner|finance|advisor|marketing|market|account executive|account manager|attorney|influencer|sales|business development|business intelligence|database|application security|system admin|network admin|system analyst|system engineer|software engineer')]\n",
    "HeadofDevSecOps.shape"
   ]
  },
  {
   "cell_type": "code",
   "execution_count": 57,
   "id": "ad9b81fa",
   "metadata": {},
   "outputs": [
    {
     "data": {
      "text/html": [
       "<div>\n",
       "<style scoped>\n",
       "    .dataframe tbody tr th:only-of-type {\n",
       "        vertical-align: middle;\n",
       "    }\n",
       "\n",
       "    .dataframe tbody tr th {\n",
       "        vertical-align: top;\n",
       "    }\n",
       "\n",
       "    .dataframe thead th {\n",
       "        text-align: right;\n",
       "    }\n",
       "</style>\n",
       "<table border=\"1\" class=\"dataframe\">\n",
       "  <thead>\n",
       "    <tr style=\"text-align: right;\">\n",
       "      <th></th>\n",
       "      <th>ID</th>\n",
       "      <th>EMAIL</th>\n",
       "      <th>TRANSLATED_TITLE</th>\n",
       "      <th>JOB_FUNCTION__C</th>\n",
       "      <th>OWNER_SEGMENT__C</th>\n",
       "      <th>GEO_LOCATION_LEVEL1__C</th>\n",
       "      <th>REGION__C</th>\n",
       "      <th>EMPLOYEE_COUNT__C</th>\n",
       "      <th>Persona</th>\n",
       "    </tr>\n",
       "  </thead>\n",
       "  <tbody>\n",
       "    <tr>\n",
       "      <th>744</th>\n",
       "      <td>0030W00003MNW4GQAX</td>\n",
       "      <td>martin.palermo@experianinteractive.com</td>\n",
       "      <td>devsecops engineer</td>\n",
       "      <td>engineer</td>\n",
       "      <td>ent</td>\n",
       "      <td>ams</td>\n",
       "      <td>united states</td>\n",
       "      <td>6586.0</td>\n",
       "      <td>Head of DevSecOps</td>\n",
       "    </tr>\n",
       "    <tr>\n",
       "      <th>3707</th>\n",
       "      <td>0030W00003xEMQ5QAO</td>\n",
       "      <td>rafael.schmidt@bis.org</td>\n",
       "      <td>director cloud engineering</td>\n",
       "      <td>engineer</td>\n",
       "      <td>mm</td>\n",
       "      <td>emea</td>\n",
       "      <td>central &amp; eastern europe</td>\n",
       "      <td>501.0</td>\n",
       "      <td>Head of DevSecOps</td>\n",
       "    </tr>\n",
       "    <tr>\n",
       "      <th>3810</th>\n",
       "      <td>0030W00003n70b4QAA</td>\n",
       "      <td>john.mcgill@merseyside.police.uk</td>\n",
       "      <td>oracle cloud hcm consultantfunctional lead</td>\n",
       "      <td>it: other</td>\n",
       "      <td>ent</td>\n",
       "      <td>emea</td>\n",
       "      <td>uk&amp;i</td>\n",
       "      <td>113.0</td>\n",
       "      <td>Head of DevSecOps</td>\n",
       "    </tr>\n",
       "    <tr>\n",
       "      <th>4563</th>\n",
       "      <td>0036T0000447BN4QAM</td>\n",
       "      <td>lmondello@ngds.com</td>\n",
       "      <td>network engineer cloud engineer project manager</td>\n",
       "      <td></td>\n",
       "      <td>smb</td>\n",
       "      <td>ams</td>\n",
       "      <td>united states</td>\n",
       "      <td>200.0</td>\n",
       "      <td>Head of DevSecOps</td>\n",
       "    </tr>\n",
       "    <tr>\n",
       "      <th>5068</th>\n",
       "      <td>0036T0000444GbIQAU</td>\n",
       "      <td>jofi.yance@telenetgroup.be</td>\n",
       "      <td>cloud unified communication product engineering</td>\n",
       "      <td></td>\n",
       "      <td>corp</td>\n",
       "      <td>emea</td>\n",
       "      <td>northern europe</td>\n",
       "      <td>2041.0</td>\n",
       "      <td>Head of DevSecOps</td>\n",
       "    </tr>\n",
       "  </tbody>\n",
       "</table>\n",
       "</div>"
      ],
      "text/plain": [
       "                      ID                                   EMAIL  \\\n",
       "744   0030W00003MNW4GQAX  martin.palermo@experianinteractive.com   \n",
       "3707  0030W00003xEMQ5QAO                  rafael.schmidt@bis.org   \n",
       "3810  0030W00003n70b4QAA        john.mcgill@merseyside.police.uk   \n",
       "4563  0036T0000447BN4QAM                      lmondello@ngds.com   \n",
       "5068  0036T0000444GbIQAU              jofi.yance@telenetgroup.be   \n",
       "\n",
       "                                     TRANSLATED_TITLE JOB_FUNCTION__C  \\\n",
       "744                                devsecops engineer        engineer   \n",
       "3707                       director cloud engineering        engineer   \n",
       "3810       oracle cloud hcm consultantfunctional lead       it: other   \n",
       "4563  network engineer cloud engineer project manager                   \n",
       "5068  cloud unified communication product engineering                   \n",
       "\n",
       "     OWNER_SEGMENT__C GEO_LOCATION_LEVEL1__C                 REGION__C  \\\n",
       "744               ent                    ams             united states   \n",
       "3707               mm                   emea  central & eastern europe   \n",
       "3810              ent                   emea                      uk&i   \n",
       "4563              smb                    ams             united states   \n",
       "5068             corp                   emea           northern europe   \n",
       "\n",
       "     EMPLOYEE_COUNT__C            Persona  \n",
       "744             6586.0  Head of DevSecOps  \n",
       "3707             501.0  Head of DevSecOps  \n",
       "3810             113.0  Head of DevSecOps  \n",
       "4563             200.0  Head of DevSecOps  \n",
       "5068            2041.0  Head of DevSecOps  "
      ]
     },
     "execution_count": 57,
     "metadata": {},
     "output_type": "execute_result"
    }
   ],
   "source": [
    "HeadofDevSecOps[\"Persona\"]='Head of DevSecOps'\n",
    "HeadofDevSecOps.head(5)"
   ]
  },
  {
   "cell_type": "code",
   "execution_count": 58,
   "id": "f9f69487",
   "metadata": {},
   "outputs": [
    {
     "data": {
      "text/plain": [
       "(1649386, 8)"
      ]
     },
     "execution_count": 58,
     "metadata": {},
     "output_type": "execute_result"
    }
   ],
   "source": [
    "Clean8 = Clean7[~Clean7.index.isin(HeadofDevSecOps.index)]\n",
    "Clean8.shape"
   ]
  },
  {
   "cell_type": "code",
   "execution_count": 59,
   "id": "4a3770a5",
   "metadata": {},
   "outputs": [
    {
     "data": {
      "text/plain": [
       "(7, 8)"
      ]
     },
     "execution_count": 59,
     "metadata": {},
     "output_type": "execute_result"
    }
   ],
   "source": [
    "HeadofDevSecOps2 = Clean8[Clean8['JOB_FUNCTION__C'].str.contains('cloud|azure|aws|amazon web service|google cloud|redshift|ibm cloud|aws engineer|kubernetes|lead security engineer|security engineer lead|cloud architect|devsecops lead|lead devsecops|head devsecops|head devops security|head security devops|devsecops|devsecops quality control|system admin devsecops|system administrator devsecops|cloud engineer|engineer cloud|cloud user|cloud developer|developer cloud|cloud architect|cloud application|application security')]\n",
    "HeadofDevSecOps2= HeadofDevSecOps2[~HeadofDevSecOps2['TRANSLATED_TITLE'].str.contains('analyst|specialist|intern|coordinator|junior|planner|finance|advisor|marketing|market|account executive|account manager|attorney|influencer|sales|business development|business intelligence|database|application security|system admin|network admin|system analyst|system engineer|software engineer')]\n",
    "HeadofDevSecOps2.shape"
   ]
  },
  {
   "cell_type": "code",
   "execution_count": 60,
   "id": "02755a32",
   "metadata": {},
   "outputs": [
    {
     "data": {
      "text/html": [
       "<div>\n",
       "<style scoped>\n",
       "    .dataframe tbody tr th:only-of-type {\n",
       "        vertical-align: middle;\n",
       "    }\n",
       "\n",
       "    .dataframe tbody tr th {\n",
       "        vertical-align: top;\n",
       "    }\n",
       "\n",
       "    .dataframe thead th {\n",
       "        text-align: right;\n",
       "    }\n",
       "</style>\n",
       "<table border=\"1\" class=\"dataframe\">\n",
       "  <thead>\n",
       "    <tr style=\"text-align: right;\">\n",
       "      <th></th>\n",
       "      <th>ID</th>\n",
       "      <th>EMAIL</th>\n",
       "      <th>TRANSLATED_TITLE</th>\n",
       "      <th>JOB_FUNCTION__C</th>\n",
       "      <th>OWNER_SEGMENT__C</th>\n",
       "      <th>GEO_LOCATION_LEVEL1__C</th>\n",
       "      <th>REGION__C</th>\n",
       "      <th>EMPLOYEE_COUNT__C</th>\n",
       "      <th>Persona</th>\n",
       "    </tr>\n",
       "  </thead>\n",
       "  <tbody>\n",
       "    <tr>\n",
       "      <th>64643</th>\n",
       "      <td>0030W00003X5hvtQAB</td>\n",
       "      <td>alexander.bocharov@ivanti.com</td>\n",
       "      <td>senior software developer architect</td>\n",
       "      <td>infrastructure, application development, enterprise architecture, business service management / ...</td>\n",
       "      <td>corp</td>\n",
       "      <td>ams</td>\n",
       "      <td>united states</td>\n",
       "      <td>285.0</td>\n",
       "      <td>Head of DevSecOps</td>\n",
       "    </tr>\n",
       "    <tr>\n",
       "      <th>413111</th>\n",
       "      <td>0030W00003XlFVpQAN</td>\n",
       "      <td>matt.leach@atkinsglobal.com</td>\n",
       "      <td>head device application service</td>\n",
       "      <td>application development, cloud / mobility</td>\n",
       "      <td>mm</td>\n",
       "      <td>emea</td>\n",
       "      <td>uk&amp;i</td>\n",
       "      <td>16530.0</td>\n",
       "      <td>Head of DevSecOps</td>\n",
       "    </tr>\n",
       "    <tr>\n",
       "      <th>1054882</th>\n",
       "      <td>0030W00003X5jZcQAJ</td>\n",
       "      <td>renop@wellmark.com</td>\n",
       "      <td>citrix engineer</td>\n",
       "      <td>cloud / mobility</td>\n",
       "      <td>ent</td>\n",
       "      <td>ams</td>\n",
       "      <td>united states</td>\n",
       "      <td>2692.0</td>\n",
       "      <td>Head of DevSecOps</td>\n",
       "    </tr>\n",
       "    <tr>\n",
       "      <th>1154196</th>\n",
       "      <td>0030W00003xEKL8QAO</td>\n",
       "      <td>dan.boughton@navistar.com</td>\n",
       "      <td>citrix technician contractor</td>\n",
       "      <td>cloud / mobility</td>\n",
       "      <td>ent</td>\n",
       "      <td>ams</td>\n",
       "      <td>united states</td>\n",
       "      <td>12557.0</td>\n",
       "      <td>Head of DevSecOps</td>\n",
       "    </tr>\n",
       "    <tr>\n",
       "      <th>1246002</th>\n",
       "      <td>0030W00003X5hQcQAJ</td>\n",
       "      <td>jcoleman@nvtl.com</td>\n",
       "      <td>senior application administrator</td>\n",
       "      <td>cloud / mobility</td>\n",
       "      <td>corp</td>\n",
       "      <td>ams</td>\n",
       "      <td>united states</td>\n",
       "      <td>938.0</td>\n",
       "      <td>Head of DevSecOps</td>\n",
       "    </tr>\n",
       "  </tbody>\n",
       "</table>\n",
       "</div>"
      ],
      "text/plain": [
       "                         ID                          EMAIL  \\\n",
       "64643    0030W00003X5hvtQAB  alexander.bocharov@ivanti.com   \n",
       "413111   0030W00003XlFVpQAN    matt.leach@atkinsglobal.com   \n",
       "1054882  0030W00003X5jZcQAJ             renop@wellmark.com   \n",
       "1154196  0030W00003xEKL8QAO      dan.boughton@navistar.com   \n",
       "1246002  0030W00003X5hQcQAJ              jcoleman@nvtl.com   \n",
       "\n",
       "                            TRANSLATED_TITLE  \\\n",
       "64643    senior software developer architect   \n",
       "413111       head device application service   \n",
       "1054882                      citrix engineer   \n",
       "1154196         citrix technician contractor   \n",
       "1246002     senior application administrator   \n",
       "\n",
       "                                                                                             JOB_FUNCTION__C  \\\n",
       "64643    infrastructure, application development, enterprise architecture, business service management / ...   \n",
       "413111                                                             application development, cloud / mobility   \n",
       "1054882                                                                                     cloud / mobility   \n",
       "1154196                                                                                     cloud / mobility   \n",
       "1246002                                                                                     cloud / mobility   \n",
       "\n",
       "        OWNER_SEGMENT__C GEO_LOCATION_LEVEL1__C      REGION__C  \\\n",
       "64643               corp                    ams  united states   \n",
       "413111                mm                   emea           uk&i   \n",
       "1054882              ent                    ams  united states   \n",
       "1154196              ent                    ams  united states   \n",
       "1246002             corp                    ams  united states   \n",
       "\n",
       "        EMPLOYEE_COUNT__C            Persona  \n",
       "64643               285.0  Head of DevSecOps  \n",
       "413111            16530.0  Head of DevSecOps  \n",
       "1054882            2692.0  Head of DevSecOps  \n",
       "1154196           12557.0  Head of DevSecOps  \n",
       "1246002             938.0  Head of DevSecOps  "
      ]
     },
     "execution_count": 60,
     "metadata": {},
     "output_type": "execute_result"
    }
   ],
   "source": [
    "HeadofDevSecOps2[\"Persona\"]='Head of DevSecOps'\n",
    "HeadofDevSecOps2.head(5)"
   ]
  },
  {
   "cell_type": "markdown",
   "id": "cdc37db3",
   "metadata": {},
   "source": [
    "# Assign Those Special Persona"
   ]
  },
  {
   "cell_type": "code",
   "execution_count": 61,
   "id": "27da5a98",
   "metadata": {},
   "outputs": [],
   "source": [
    "SpecialPersona = pd.concat([IdentityAccess, IdentityAccess2, CFO, HeadofCTI, HeadofCTI2, \n",
    "                            CloudSecurityArchitect, CloudSecurityArchitect2, \n",
    "                            HeadofDevSecOps, HeadofDevSecOps2], \n",
    "                           axis=0, ignore_index=False).sort_index(axis = 0).fillna('')\n",
    "SpecialPersona.to_csv('SpecialPersona.csv', index=False)"
   ]
  },
  {
   "cell_type": "code",
   "execution_count": 62,
   "id": "498ff87b",
   "metadata": {},
   "outputs": [
    {
     "data": {
      "text/plain": [
       "(69479, 9)"
      ]
     },
     "execution_count": 62,
     "metadata": {},
     "output_type": "execute_result"
    }
   ],
   "source": [
    "SpecialPersona.shape"
   ]
  },
  {
   "cell_type": "markdown",
   "id": "5ac64fe7",
   "metadata": {},
   "source": [
    "# Exclude Those Special Personas, What is Left is for Splitting by Segment"
   ]
  },
  {
   "cell_type": "code",
   "execution_count": 63,
   "id": "1e5d9d7f",
   "metadata": {},
   "outputs": [
    {
     "data": {
      "text/plain": [
       "(1649379, 8)"
      ]
     },
     "execution_count": 63,
     "metadata": {},
     "output_type": "execute_result"
    }
   ],
   "source": [
    "Clean9 = Clean8[~Clean8.index.isin(SpecialPersona.index)]\n",
    "Clean9.shape"
   ]
  },
  {
   "cell_type": "markdown",
   "id": "8b0f37f9",
   "metadata": {},
   "source": [
    "# Split by Company Segment"
   ]
  },
  {
   "cell_type": "code",
   "execution_count": 64,
   "id": "e6f6f82f",
   "metadata": {
    "scrolled": true
   },
   "outputs": [
    {
     "data": {
      "text/plain": [
       "(452271, 8)"
      ]
     },
     "execution_count": 64,
     "metadata": {},
     "output_type": "execute_result"
    }
   ],
   "source": [
    "SMB = Clean9[Clean9['OWNER_SEGMENT__C'] == 'smb']\n",
    "SMB.shape"
   ]
  },
  {
   "cell_type": "code",
   "execution_count": 65,
   "id": "a0150a9b",
   "metadata": {
    "scrolled": true
   },
   "outputs": [
    {
     "data": {
      "text/plain": [
       "(605977, 8)"
      ]
     },
     "execution_count": 65,
     "metadata": {},
     "output_type": "execute_result"
    }
   ],
   "source": [
    "CorporateMM = Clean9[Clean9['OWNER_SEGMENT__C'].isin(['corp','mm'])]\n",
    "CorporateMM.shape"
   ]
  },
  {
   "cell_type": "markdown",
   "id": "025b957f",
   "metadata": {},
   "source": [
    "# SMB"
   ]
  },
  {
   "cell_type": "code",
   "execution_count": 67,
   "id": "a2df2bee",
   "metadata": {
    "scrolled": true
   },
   "outputs": [
    {
     "name": "stderr",
     "output_type": "stream",
     "text": [
      "/var/folders/7r/1qz24gm934z0mlg9dwwq2hpr0000gn/T/ipykernel_76112/1793582791.py:1: SettingWithCopyWarning: \n",
      "A value is trying to be set on a copy of a slice from a DataFrame.\n",
      "Try using .loc[row_indexer,col_indexer] = value instead\n",
      "\n",
      "See the caveats in the documentation: https://pandas.pydata.org/pandas-docs/stable/user_guide/indexing.html#returning-a-view-versus-a-copy\n",
      "  SMB['TRANSLATED_TITLE']= SMB[\"TRANSLATED_TITLE\"].astype(str)\n"
     ]
    }
   ],
   "source": [
    "SMB['TRANSLATED_TITLE']= SMB[\"TRANSLATED_TITLE\"].astype(str)"
   ]
  },
  {
   "cell_type": "code",
   "execution_count": 68,
   "id": "fde094fd",
   "metadata": {},
   "outputs": [
    {
     "data": {
      "text/html": [
       "<div>\n",
       "<style scoped>\n",
       "    .dataframe tbody tr th:only-of-type {\n",
       "        vertical-align: middle;\n",
       "    }\n",
       "\n",
       "    .dataframe tbody tr th {\n",
       "        vertical-align: top;\n",
       "    }\n",
       "\n",
       "    .dataframe thead th {\n",
       "        text-align: right;\n",
       "    }\n",
       "</style>\n",
       "<table border=\"1\" class=\"dataframe\">\n",
       "  <thead>\n",
       "    <tr style=\"text-align: right;\">\n",
       "      <th></th>\n",
       "      <th>ID</th>\n",
       "      <th>EMAIL</th>\n",
       "      <th>TRANSLATED_TITLE</th>\n",
       "      <th>JOB_FUNCTION__C</th>\n",
       "      <th>OWNER_SEGMENT__C</th>\n",
       "      <th>GEO_LOCATION_LEVEL1__C</th>\n",
       "      <th>REGION__C</th>\n",
       "      <th>EMPLOYEE_COUNT__C</th>\n",
       "      <th>Persona</th>\n",
       "    </tr>\n",
       "  </thead>\n",
       "  <tbody>\n",
       "    <tr>\n",
       "      <th>268</th>\n",
       "      <td>003d000003GUCovAAH</td>\n",
       "      <td>cpierson@viewpost.com</td>\n",
       "      <td>ciso</td>\n",
       "      <td>executive (cio, cto, ciso)</td>\n",
       "      <td>smb</td>\n",
       "      <td>ams</td>\n",
       "      <td>united states</td>\n",
       "      <td>73.0</td>\n",
       "      <td>Chief Information Security Officer</td>\n",
       "    </tr>\n",
       "    <tr>\n",
       "      <th>1163</th>\n",
       "      <td>0030W00003KCkQBQA1</td>\n",
       "      <td>gerd.ellsmore@jameshay.co.uk</td>\n",
       "      <td>ciso</td>\n",
       "      <td>executive (cio, cto, ciso)</td>\n",
       "      <td>smb</td>\n",
       "      <td>emea</td>\n",
       "      <td>uk&amp;i</td>\n",
       "      <td>245.0</td>\n",
       "      <td>Chief Information Security Officer</td>\n",
       "    </tr>\n",
       "    <tr>\n",
       "      <th>1282</th>\n",
       "      <td>0030W00003UmhDPQAZ</td>\n",
       "      <td>kai.nothdurft@allianz.de</td>\n",
       "      <td>information security officer</td>\n",
       "      <td>security: other</td>\n",
       "      <td>smb</td>\n",
       "      <td>emea</td>\n",
       "      <td>central &amp; eastern europe</td>\n",
       "      <td>150.0</td>\n",
       "      <td>Chief Information Security Officer</td>\n",
       "    </tr>\n",
       "    <tr>\n",
       "      <th>1324</th>\n",
       "      <td>0030W00003UmfvyQAB</td>\n",
       "      <td>jerome.herveau@metafinanz.de</td>\n",
       "      <td>information security expert</td>\n",
       "      <td>security: other</td>\n",
       "      <td>smb</td>\n",
       "      <td>emea</td>\n",
       "      <td>central &amp; eastern europe</td>\n",
       "      <td>150.0</td>\n",
       "      <td>Chief Information Security Officer</td>\n",
       "    </tr>\n",
       "    <tr>\n",
       "      <th>1341</th>\n",
       "      <td>0030W00003t4SfCQAU</td>\n",
       "      <td>r.bartels@kirkpatrickprice.com</td>\n",
       "      <td>vice president security service</td>\n",
       "      <td>security: vp or director</td>\n",
       "      <td>smb</td>\n",
       "      <td>ams</td>\n",
       "      <td>united states</td>\n",
       "      <td>75.0</td>\n",
       "      <td>Chief Information Security Officer</td>\n",
       "    </tr>\n",
       "  </tbody>\n",
       "</table>\n",
       "</div>"
      ],
      "text/plain": [
       "                      ID                           EMAIL  \\\n",
       "268   003d000003GUCovAAH           cpierson@viewpost.com   \n",
       "1163  0030W00003KCkQBQA1    gerd.ellsmore@jameshay.co.uk   \n",
       "1282  0030W00003UmhDPQAZ        kai.nothdurft@allianz.de   \n",
       "1324  0030W00003UmfvyQAB    jerome.herveau@metafinanz.de   \n",
       "1341  0030W00003t4SfCQAU  r.bartels@kirkpatrickprice.com   \n",
       "\n",
       "                     TRANSLATED_TITLE             JOB_FUNCTION__C  \\\n",
       "268                              ciso  executive (cio, cto, ciso)   \n",
       "1163                             ciso  executive (cio, cto, ciso)   \n",
       "1282     information security officer             security: other   \n",
       "1324      information security expert             security: other   \n",
       "1341  vice president security service    security: vp or director   \n",
       "\n",
       "     OWNER_SEGMENT__C GEO_LOCATION_LEVEL1__C                 REGION__C  \\\n",
       "268               smb                    ams             united states   \n",
       "1163              smb                   emea                      uk&i   \n",
       "1282              smb                   emea  central & eastern europe   \n",
       "1324              smb                   emea  central & eastern europe   \n",
       "1341              smb                    ams             united states   \n",
       "\n",
       "     EMPLOYEE_COUNT__C                             Persona  \n",
       "268               73.0  Chief Information Security Officer  \n",
       "1163             245.0  Chief Information Security Officer  \n",
       "1282             150.0  Chief Information Security Officer  \n",
       "1324             150.0  Chief Information Security Officer  \n",
       "1341              75.0  Chief Information Security Officer  "
      ]
     },
     "execution_count": 68,
     "metadata": {},
     "output_type": "execute_result"
    }
   ],
   "source": [
    "# Find CISO in SMB based on Translated Title\n",
    "SMBCISO = SMB[SMB['TRANSLATED_TITLE'].str.contains('chief information security officer|ciso|cso|chief security officer|vp security|vpsecurity|vpinformation security|vpinfo security|vice president security|security vice president|security vp|senior director security|security senior director|head security|security head|lead security|security lead|security leader|leader security|information security|information technology security|vp information security|vp technology security|vp infrastructure security|security officer|officer security|chief information securiy officer')]\n",
    "SMBCISO = SMBCISO[~SMBCISO['TRANSLATED_TITLE'].str.contains('analyst|specialist|manager|intern|coordinator|junior|advisor|finance assistant|planner|consultant|marketing|market|account executive|account manager|mgr|assistant director|associatedirector|attorney|financial service|assistant manager|associate manager|help desk|influencer|sales|accounting|business development|business intelligence|database|technician|auditor|director|dir|consultant|administrator|engineer|system admin|systems admin|network admin|admin')]\n",
    "\n",
    "SMBCISO = SMBCISO[~SMBCISO['TRANSLATED_TITLE'].str.contains('security consultant|security architect|application security engineer|security engineer|application security|admin|system analyst|it engineer|information technology engineer|support specialist|system engineer|it security analyst|information technology security analyst|security specialist|security system admin|security system analyst|network security analyst|security system technician|soc analyst|security operation center analyst|information security analyst')]\n",
    "                                                            \n",
    "SMBCISO['Persona']='Chief Information Security Officer'\n",
    "SMBCISO.head(5)"
   ]
  },
  {
   "cell_type": "code",
   "execution_count": 69,
   "id": "ffdeeba3",
   "metadata": {},
   "outputs": [
    {
     "data": {
      "text/plain": [
       "(6941, 9)"
      ]
     },
     "execution_count": 69,
     "metadata": {},
     "output_type": "execute_result"
    }
   ],
   "source": [
    "SMBCISO.shape"
   ]
  },
  {
   "cell_type": "code",
   "execution_count": 70,
   "id": "e3ff52f3",
   "metadata": {},
   "outputs": [
    {
     "data": {
      "text/plain": [
       "(445330, 8)"
      ]
     },
     "execution_count": 70,
     "metadata": {},
     "output_type": "execute_result"
    }
   ],
   "source": [
    "RestofSMB = SMB[~SMB.index.isin(SMBCISO.index)]\n",
    "RestofSMB.shape"
   ]
  },
  {
   "cell_type": "code",
   "execution_count": 71,
   "id": "aae86d2a",
   "metadata": {
    "scrolled": true
   },
   "outputs": [
    {
     "data": {
      "text/html": [
       "<div>\n",
       "<style scoped>\n",
       "    .dataframe tbody tr th:only-of-type {\n",
       "        vertical-align: middle;\n",
       "    }\n",
       "\n",
       "    .dataframe tbody tr th {\n",
       "        vertical-align: top;\n",
       "    }\n",
       "\n",
       "    .dataframe thead th {\n",
       "        text-align: right;\n",
       "    }\n",
       "</style>\n",
       "<table border=\"1\" class=\"dataframe\">\n",
       "  <thead>\n",
       "    <tr style=\"text-align: right;\">\n",
       "      <th></th>\n",
       "      <th>ID</th>\n",
       "      <th>EMAIL</th>\n",
       "      <th>TRANSLATED_TITLE</th>\n",
       "      <th>JOB_FUNCTION__C</th>\n",
       "      <th>OWNER_SEGMENT__C</th>\n",
       "      <th>GEO_LOCATION_LEVEL1__C</th>\n",
       "      <th>REGION__C</th>\n",
       "      <th>EMPLOYEE_COUNT__C</th>\n",
       "      <th>Persona</th>\n",
       "    </tr>\n",
       "  </thead>\n",
       "  <tbody>\n",
       "    <tr>\n",
       "      <th>46822</th>\n",
       "      <td>0030W00003fKZuLQAW</td>\n",
       "      <td>antonio.esteves@compta.pt</td>\n",
       "      <td>security business developer</td>\n",
       "      <td>information security</td>\n",
       "      <td>smb</td>\n",
       "      <td>emea</td>\n",
       "      <td>southern europe</td>\n",
       "      <td>201.0</td>\n",
       "      <td>Chief Information Security Officer</td>\n",
       "    </tr>\n",
       "    <tr>\n",
       "      <th>104113</th>\n",
       "      <td>0030W00003eJ9UNQA0</td>\n",
       "      <td>victor.barahona@uam.es</td>\n",
       "      <td>responsable de seguridad</td>\n",
       "      <td>information security</td>\n",
       "      <td>smb</td>\n",
       "      <td>emea</td>\n",
       "      <td>southern europe</td>\n",
       "      <td>50.0</td>\n",
       "      <td>Chief Information Security Officer</td>\n",
       "    </tr>\n",
       "    <tr>\n",
       "      <th>291407</th>\n",
       "      <td>0030W00003b1MEqQAM</td>\n",
       "      <td>kvilk@brfinc.com</td>\n",
       "      <td>president</td>\n",
       "      <td>information security, it operations</td>\n",
       "      <td>smb</td>\n",
       "      <td>ams</td>\n",
       "      <td>united states</td>\n",
       "      <td>50.0</td>\n",
       "      <td>Chief Information Security Officer</td>\n",
       "    </tr>\n",
       "    <tr>\n",
       "      <th>301700</th>\n",
       "      <td>0030W00003n6er7QAA</td>\n",
       "      <td>novabbq@gmail.com</td>\n",
       "      <td>issm</td>\n",
       "      <td>information security</td>\n",
       "      <td>smb</td>\n",
       "      <td>ams</td>\n",
       "      <td>united states</td>\n",
       "      <td>200.0</td>\n",
       "      <td>Chief Information Security Officer</td>\n",
       "    </tr>\n",
       "    <tr>\n",
       "      <th>312541</th>\n",
       "      <td>0030W00003UkwZLQAZ</td>\n",
       "      <td>jwescott@wellesleybank.com</td>\n",
       "      <td>senior vp information technology risk office</td>\n",
       "      <td>chief information officer, information security, information technology, risk, legal</td>\n",
       "      <td>smb</td>\n",
       "      <td>ams</td>\n",
       "      <td>united states</td>\n",
       "      <td>79.0</td>\n",
       "      <td>Chief Information Security Officer</td>\n",
       "    </tr>\n",
       "  </tbody>\n",
       "</table>\n",
       "</div>"
      ],
      "text/plain": [
       "                        ID                       EMAIL  \\\n",
       "46822   0030W00003fKZuLQAW   antonio.esteves@compta.pt   \n",
       "104113  0030W00003eJ9UNQA0      victor.barahona@uam.es   \n",
       "291407  0030W00003b1MEqQAM            kvilk@brfinc.com   \n",
       "301700  0030W00003n6er7QAA           novabbq@gmail.com   \n",
       "312541  0030W00003UkwZLQAZ  jwescott@wellesleybank.com   \n",
       "\n",
       "                                    TRANSLATED_TITLE  \\\n",
       "46822                    security business developer   \n",
       "104113                      responsable de seguridad   \n",
       "291407                                     president   \n",
       "301700                                          issm   \n",
       "312541  senior vp information technology risk office   \n",
       "\n",
       "                                                                             JOB_FUNCTION__C  \\\n",
       "46822                                                                   information security   \n",
       "104113                                                                  information security   \n",
       "291407                                                   information security, it operations   \n",
       "301700                                                                  information security   \n",
       "312541  chief information officer, information security, information technology, risk, legal   \n",
       "\n",
       "       OWNER_SEGMENT__C GEO_LOCATION_LEVEL1__C        REGION__C  \\\n",
       "46822               smb                   emea  southern europe   \n",
       "104113              smb                   emea  southern europe   \n",
       "291407              smb                    ams    united states   \n",
       "301700              smb                    ams    united states   \n",
       "312541              smb                    ams    united states   \n",
       "\n",
       "       EMPLOYEE_COUNT__C                             Persona  \n",
       "46822              201.0  Chief Information Security Officer  \n",
       "104113              50.0  Chief Information Security Officer  \n",
       "291407              50.0  Chief Information Security Officer  \n",
       "301700             200.0  Chief Information Security Officer  \n",
       "312541              79.0  Chief Information Security Officer  "
      ]
     },
     "execution_count": 71,
     "metadata": {},
     "output_type": "execute_result"
    }
   ],
   "source": [
    "# Find CISO in SMB based on JOB_FUNCTION__C\n",
    "SMBCISO2 = RestofSMB[RestofSMB['JOB_FUNCTION__C'].str.contains('chief information security officer|ciso|cso|chief security officer|vp security|vpsecurity|vpinformation security|vpinfo security|vice president security|security vice president|security vp|senior director security|security senior director|head security|security head|lead security|security lead|security leader|leader security|information security|information technology security|vp information security|vp technology security|vp infrastructure security|security officer|officer security')]\n",
    "SMBCISO2 = SMBCISO2[~SMBCISO2['TRANSLATED_TITLE'].str.contains('cto|chief technology|chief technical|chief technologist|cio|chief information officer|analyst|specialist|manager|intern|coordinator|junior|advisor|finance assistant|planner|consultant|marketing|market|account executive|account manager|mgr|assistant director|associatedirector|attorney|financial service|assistant manager|associate manager|help desk|influencer|sales|accounting|business development|business intelligence|database|technician|auditor|director|dir|consultant|administrator|engineer|system admin|systems admin|network admin|admin')]\n",
    "SMBCISO2 = SMBCISO2[~SMBCISO2['JOB_FUNCTION__C'].str.contains('cto|advisor|technician|auditor|accounting|sales|account executive|planner|analyst|specialist|coordinator|junior|manager|support|bi|associate director|assistant director|director|dir|consultant|administrator|engineer|intern|consultant|system admin|systems admin|admin')]\n",
    "\n",
    "SMBCISO2 = SMBCISO2[~SMBCISO2['TRANSLATED_TITLE'].str.contains('security consultant|security architect|application security engineer|security engineer|application security|admin|system analyst|it engineer|information technology engineer|support specialist|system engineer|it security analyst|information technology security analyst|security specialist|security system admin|security system analyst|network security analyst|security system technician|soc analyst|security operation center analyst|information security analyst')]\n",
    "\n",
    "SMBCISO2['Persona']='Chief Information Security Officer'\n",
    "SMBCISO2.head(5)"
   ]
  },
  {
   "cell_type": "code",
   "execution_count": 72,
   "id": "b3372ff8",
   "metadata": {},
   "outputs": [
    {
     "data": {
      "text/plain": [
       "(11, 9)"
      ]
     },
     "execution_count": 72,
     "metadata": {},
     "output_type": "execute_result"
    }
   ],
   "source": [
    "SMBCISO2.shape"
   ]
  },
  {
   "cell_type": "code",
   "execution_count": 73,
   "id": "8b04e3ee",
   "metadata": {},
   "outputs": [
    {
     "data": {
      "text/plain": [
       "(445319, 8)"
      ]
     },
     "execution_count": 73,
     "metadata": {},
     "output_type": "execute_result"
    }
   ],
   "source": [
    "RestofSMB2 = RestofSMB[~RestofSMB.index.isin(SMBCISO2.index)]\n",
    "RestofSMB2.shape"
   ]
  },
  {
   "cell_type": "code",
   "execution_count": 74,
   "id": "a5b7c215",
   "metadata": {
    "scrolled": true
   },
   "outputs": [
    {
     "data": {
      "text/html": [
       "<div>\n",
       "<style scoped>\n",
       "    .dataframe tbody tr th:only-of-type {\n",
       "        vertical-align: middle;\n",
       "    }\n",
       "\n",
       "    .dataframe tbody tr th {\n",
       "        vertical-align: top;\n",
       "    }\n",
       "\n",
       "    .dataframe thead th {\n",
       "        text-align: right;\n",
       "    }\n",
       "</style>\n",
       "<table border=\"1\" class=\"dataframe\">\n",
       "  <thead>\n",
       "    <tr style=\"text-align: right;\">\n",
       "      <th></th>\n",
       "      <th>ID</th>\n",
       "      <th>EMAIL</th>\n",
       "      <th>TRANSLATED_TITLE</th>\n",
       "      <th>JOB_FUNCTION__C</th>\n",
       "      <th>OWNER_SEGMENT__C</th>\n",
       "      <th>GEO_LOCATION_LEVEL1__C</th>\n",
       "      <th>REGION__C</th>\n",
       "      <th>EMPLOYEE_COUNT__C</th>\n",
       "      <th>Persona</th>\n",
       "    </tr>\n",
       "  </thead>\n",
       "  <tbody>\n",
       "    <tr>\n",
       "      <th>263</th>\n",
       "      <td>0030W00003MOfalQAD</td>\n",
       "      <td>rrodrigue@viewpost.com</td>\n",
       "      <td>director security operation</td>\n",
       "      <td>security: vp or director</td>\n",
       "      <td>smb</td>\n",
       "      <td>ams</td>\n",
       "      <td>united states</td>\n",
       "      <td>73.0</td>\n",
       "      <td>Head of Security</td>\n",
       "    </tr>\n",
       "    <tr>\n",
       "      <th>380</th>\n",
       "      <td>0030W00003fJF7FQAW</td>\n",
       "      <td>jstewart@leaderdog.org</td>\n",
       "      <td>security</td>\n",
       "      <td>security: other</td>\n",
       "      <td>smb</td>\n",
       "      <td>ams</td>\n",
       "      <td>united states</td>\n",
       "      <td>157.0</td>\n",
       "      <td>Head of Security</td>\n",
       "    </tr>\n",
       "    <tr>\n",
       "      <th>477</th>\n",
       "      <td>0030W00003kaEBtQAM</td>\n",
       "      <td>bparathan@nps.org.au</td>\n",
       "      <td>security advisor</td>\n",
       "      <td>security: other</td>\n",
       "      <td>smb</td>\n",
       "      <td>apj</td>\n",
       "      <td>australia and new zealand</td>\n",
       "      <td>206.0</td>\n",
       "      <td>Head of Security</td>\n",
       "    </tr>\n",
       "    <tr>\n",
       "      <th>483</th>\n",
       "      <td>0030W00003X4SDcQAN</td>\n",
       "      <td>t.glover@npsmedicine.com.au</td>\n",
       "      <td>information security manager</td>\n",
       "      <td></td>\n",
       "      <td>smb</td>\n",
       "      <td></td>\n",
       "      <td>united states</td>\n",
       "      <td>206.0</td>\n",
       "      <td>Head of Security</td>\n",
       "    </tr>\n",
       "    <tr>\n",
       "      <th>489</th>\n",
       "      <td>003d000003GTic6AAD</td>\n",
       "      <td>charles.smart@gmsectec.com</td>\n",
       "      <td>senior manager security risk compliance</td>\n",
       "      <td>security: manager</td>\n",
       "      <td>smb</td>\n",
       "      <td>ams</td>\n",
       "      <td>united states</td>\n",
       "      <td>20.0</td>\n",
       "      <td>Head of Security</td>\n",
       "    </tr>\n",
       "  </tbody>\n",
       "</table>\n",
       "</div>"
      ],
      "text/plain": [
       "                     ID                        EMAIL  \\\n",
       "263  0030W00003MOfalQAD       rrodrigue@viewpost.com   \n",
       "380  0030W00003fJF7FQAW       jstewart@leaderdog.org   \n",
       "477  0030W00003kaEBtQAM         bparathan@nps.org.au   \n",
       "483  0030W00003X4SDcQAN  t.glover@npsmedicine.com.au   \n",
       "489  003d000003GTic6AAD   charles.smart@gmsectec.com   \n",
       "\n",
       "                            TRANSLATED_TITLE           JOB_FUNCTION__C  \\\n",
       "263              director security operation  security: vp or director   \n",
       "380                                 security           security: other   \n",
       "477                         security advisor           security: other   \n",
       "483             information security manager                             \n",
       "489  senior manager security risk compliance         security: manager   \n",
       "\n",
       "    OWNER_SEGMENT__C GEO_LOCATION_LEVEL1__C                  REGION__C  \\\n",
       "263              smb                    ams              united states   \n",
       "380              smb                    ams              united states   \n",
       "477              smb                    apj  australia and new zealand   \n",
       "483              smb                                     united states   \n",
       "489              smb                    ams              united states   \n",
       "\n",
       "    EMPLOYEE_COUNT__C           Persona  \n",
       "263              73.0  Head of Security  \n",
       "380             157.0  Head of Security  \n",
       "477             206.0  Head of Security  \n",
       "483             206.0  Head of Security  \n",
       "489              20.0  Head of Security  "
      ]
     },
     "execution_count": 74,
     "metadata": {},
     "output_type": "execute_result"
    }
   ],
   "source": [
    "# Find Head of Security in SMB based on Translated Title\n",
    "SMBHeadofSecurity = RestofSMB2[RestofSMB2['TRANSLATED_TITLE'].str.contains('information security|head security|security head|head security|vp security|security vp|security director|director security|security svp|svp security|security officer|security|seguridad|isp|security manager')]\n",
    "SMBHeadofSecurity = SMBHeadofSecurity[~SMBHeadofSecurity['TRANSLATED_TITLE'].str.contains('analyst|specialist|intern|coordinator|junior|finance assistant|planner|marketing|market|account executive|account manager|attorney|financial service|help desk|influencer|sales|accounting|business development|business intelligence|database|technician|auditor|consultant|administrator|engineer|system admin|systems admin|network admin|admin|engineer|technician|developer')]\n",
    "SMBHeadofSecurity = SMBHeadofSecurity[~SMBHeadofSecurity['JOB_FUNCTION__C'].str.contains('analyst|specialist|intern|coordinator|junior|finance assistant|planner|marketing|market|account executive|account manager|attorney|financial service|help desk|influencer|sales|accounting|business development|business intelligence|database|technician|auditor|consultant|administrator|engineer|system admin|systems admin|network admin|admin|engineer|technician|developer')]\n",
    "# I did not exclude 'manager' because SMB might have manager titled people that can be decision makers\n",
    "\n",
    "SMBHeadofSecurity = SMBHeadofSecurity[~SMBHeadofSecurity['TRANSLATED_TITLE'].str.contains('application development|security consultant|security architect|application security engineer|security engineer|application security|admin|system analyst|it engineer|information technology engineer|support specialist|system engineer|it security analyst|information technology security analyst|security specialist|security system admin|security system analyst|network security analyst|security system technician|soc analyst|security operation center analyst|information security analyst')]\n",
    "\n",
    "SMBHeadofSecurity['Persona']='Head of Security'\n",
    "SMBHeadofSecurity.head(5)"
   ]
  },
  {
   "cell_type": "code",
   "execution_count": 75,
   "id": "24cf7f60",
   "metadata": {},
   "outputs": [
    {
     "data": {
      "text/plain": [
       "(9997, 9)"
      ]
     },
     "execution_count": 75,
     "metadata": {},
     "output_type": "execute_result"
    }
   ],
   "source": [
    "SMBHeadofSecurity.shape"
   ]
  },
  {
   "cell_type": "code",
   "execution_count": 76,
   "id": "3818c5c3",
   "metadata": {},
   "outputs": [
    {
     "data": {
      "text/plain": [
       "(435322, 8)"
      ]
     },
     "execution_count": 76,
     "metadata": {},
     "output_type": "execute_result"
    }
   ],
   "source": [
    "RestofSMB3 = RestofSMB2[~RestofSMB2.index.isin(SMBHeadofSecurity.index)]\n",
    "RestofSMB3.shape"
   ]
  },
  {
   "cell_type": "code",
   "execution_count": 77,
   "id": "ef5677ed",
   "metadata": {},
   "outputs": [
    {
     "data": {
      "text/html": [
       "<div>\n",
       "<style scoped>\n",
       "    .dataframe tbody tr th:only-of-type {\n",
       "        vertical-align: middle;\n",
       "    }\n",
       "\n",
       "    .dataframe tbody tr th {\n",
       "        vertical-align: top;\n",
       "    }\n",
       "\n",
       "    .dataframe thead th {\n",
       "        text-align: right;\n",
       "    }\n",
       "</style>\n",
       "<table border=\"1\" class=\"dataframe\">\n",
       "  <thead>\n",
       "    <tr style=\"text-align: right;\">\n",
       "      <th></th>\n",
       "      <th>ID</th>\n",
       "      <th>EMAIL</th>\n",
       "      <th>TRANSLATED_TITLE</th>\n",
       "      <th>JOB_FUNCTION__C</th>\n",
       "      <th>OWNER_SEGMENT__C</th>\n",
       "      <th>GEO_LOCATION_LEVEL1__C</th>\n",
       "      <th>REGION__C</th>\n",
       "      <th>EMPLOYEE_COUNT__C</th>\n",
       "      <th>Persona</th>\n",
       "    </tr>\n",
       "  </thead>\n",
       "  <tbody>\n",
       "    <tr>\n",
       "      <th>189</th>\n",
       "      <td>0030W00003KBqxoQAD</td>\n",
       "      <td>darryn.brownfield@redspam.com</td>\n",
       "      <td>manager</td>\n",
       "      <td>security: manager</td>\n",
       "      <td>smb</td>\n",
       "      <td>emea</td>\n",
       "      <td>uk&amp;i</td>\n",
       "      <td>196.0</td>\n",
       "      <td>Head of Security</td>\n",
       "    </tr>\n",
       "    <tr>\n",
       "      <th>495</th>\n",
       "      <td>003d000003GTie7AAD</td>\n",
       "      <td>gberrios@gmsectec.com</td>\n",
       "      <td>director incident response breach readiness</td>\n",
       "      <td>security: vp or director</td>\n",
       "      <td>smb</td>\n",
       "      <td>ams</td>\n",
       "      <td>united states</td>\n",
       "      <td>20.0</td>\n",
       "      <td>Head of Security</td>\n",
       "    </tr>\n",
       "    <tr>\n",
       "      <th>1553</th>\n",
       "      <td>0030W00003KD4LZQA1</td>\n",
       "      <td>dmccullough@sugarbush.com</td>\n",
       "      <td>director</td>\n",
       "      <td>security: director / sr. director</td>\n",
       "      <td>smb</td>\n",
       "      <td>ams</td>\n",
       "      <td>united states</td>\n",
       "      <td>165.0</td>\n",
       "      <td>Head of Security</td>\n",
       "    </tr>\n",
       "    <tr>\n",
       "      <th>1673</th>\n",
       "      <td>0030W00003KDyp6QAD</td>\n",
       "      <td>ejoseph@taphandles.com</td>\n",
       "      <td>director</td>\n",
       "      <td>security: director / sr. director</td>\n",
       "      <td>smb</td>\n",
       "      <td>ams</td>\n",
       "      <td>united states</td>\n",
       "      <td>100.0</td>\n",
       "      <td>Head of Security</td>\n",
       "    </tr>\n",
       "    <tr>\n",
       "      <th>3219</th>\n",
       "      <td>0030W00003gzJ2EQAU</td>\n",
       "      <td>tboldiston@shelde.com</td>\n",
       "      <td>account director</td>\n",
       "      <td>security: manager</td>\n",
       "      <td>smb</td>\n",
       "      <td>apj</td>\n",
       "      <td>australia and new zealand</td>\n",
       "      <td>98.0</td>\n",
       "      <td>Head of Security</td>\n",
       "    </tr>\n",
       "  </tbody>\n",
       "</table>\n",
       "</div>"
      ],
      "text/plain": [
       "                      ID                          EMAIL  \\\n",
       "189   0030W00003KBqxoQAD  darryn.brownfield@redspam.com   \n",
       "495   003d000003GTie7AAD          gberrios@gmsectec.com   \n",
       "1553  0030W00003KD4LZQA1      dmccullough@sugarbush.com   \n",
       "1673  0030W00003KDyp6QAD         ejoseph@taphandles.com   \n",
       "3219  0030W00003gzJ2EQAU          tboldiston@shelde.com   \n",
       "\n",
       "                                 TRANSLATED_TITLE  \\\n",
       "189                                       manager   \n",
       "495   director incident response breach readiness   \n",
       "1553                                     director   \n",
       "1673                                     director   \n",
       "3219                             account director   \n",
       "\n",
       "                        JOB_FUNCTION__C OWNER_SEGMENT__C  \\\n",
       "189                   security: manager              smb   \n",
       "495            security: vp or director              smb   \n",
       "1553  security: director / sr. director              smb   \n",
       "1673  security: director / sr. director              smb   \n",
       "3219                  security: manager              smb   \n",
       "\n",
       "     GEO_LOCATION_LEVEL1__C                  REGION__C EMPLOYEE_COUNT__C  \\\n",
       "189                    emea                       uk&i             196.0   \n",
       "495                     ams              united states              20.0   \n",
       "1553                    ams              united states             165.0   \n",
       "1673                    ams              united states             100.0   \n",
       "3219                    apj  australia and new zealand              98.0   \n",
       "\n",
       "               Persona  \n",
       "189   Head of Security  \n",
       "495   Head of Security  \n",
       "1553  Head of Security  \n",
       "1673  Head of Security  \n",
       "3219  Head of Security  "
      ]
     },
     "execution_count": 77,
     "metadata": {},
     "output_type": "execute_result"
    }
   ],
   "source": [
    "# Find Head of Security based on Job_Function__C\n",
    "SMBHeadofSecurity2 = RestofSMB3[RestofSMB3['JOB_FUNCTION__C'].str.contains('security:|security: manager|information security|security|security: vp or director|security: other')]\n",
    "SMBHeadofSecurity2 = SMBHeadofSecurity2[~SMBHeadofSecurity2['TRANSLATED_TITLE'].str.contains('analyst|specialist|intern|coordinator|junior|finance assistant|planner|marketing|market|account executive|account manager|attorney|financial service|help desk|influencer|sales|accounting|business development|business intelligence|database|technician|auditor|consultant|administrator|engineer|system admin|systems admin|network admin|admin|engineer|technician|developer')]\n",
    "SMBHeadofSecurity2 = SMBHeadofSecurity2[~SMBHeadofSecurity2['JOB_FUNCTION__C'].str.contains('security: engineer or analyst|admin')]\n",
    "\n",
    "SMBHeadofSecurity2 = SMBHeadofSecurity2[~SMBHeadofSecurity2['TRANSLATED_TITLE'].str.contains('application development|security consultant|security architect|application security engineer|security engineer|application security|admin|system analyst|it engineer|information technology engineer|support specialist|system engineer|it security analyst|information technology security analyst|security specialist|security system admin|security system analyst|network security analyst|security system technician|soc analyst|security operation center analyst|information security analyst')]\n",
    "\n",
    "SMBHeadofSecurity2['Persona']='Head of Security'\n",
    "SMBHeadofSecurity2.head(5)"
   ]
  },
  {
   "cell_type": "code",
   "execution_count": 78,
   "id": "6108d051",
   "metadata": {},
   "outputs": [
    {
     "data": {
      "text/plain": [
       "(2304, 9)"
      ]
     },
     "execution_count": 78,
     "metadata": {},
     "output_type": "execute_result"
    }
   ],
   "source": [
    "SMBHeadofSecurity2.shape"
   ]
  },
  {
   "cell_type": "code",
   "execution_count": 79,
   "id": "a2048366",
   "metadata": {},
   "outputs": [
    {
     "data": {
      "text/plain": [
       "(433018, 8)"
      ]
     },
     "execution_count": 79,
     "metadata": {},
     "output_type": "execute_result"
    }
   ],
   "source": [
    "RestofSMB4 = RestofSMB3[~RestofSMB3.index.isin(SMBHeadofSecurity2.index)]\n",
    "RestofSMB4.shape"
   ]
  },
  {
   "cell_type": "code",
   "execution_count": 110,
   "id": "0d8f8ec9",
   "metadata": {},
   "outputs": [],
   "source": [
    "SMB = pd.concat([SMBCISO, SMBCISO2, \n",
    "                 SMBHeadofSecurity, SMBHeadofSecurity2,\n",
    "                 RestofSMB4], \n",
    "                axis=0, ignore_index=False).sort_index(axis = 0).fillna('')"
   ]
  },
  {
   "cell_type": "code",
   "execution_count": 111,
   "id": "4059ae20",
   "metadata": {},
   "outputs": [],
   "source": [
    "SMB.to_csv('SMB.csv',index=False)"
   ]
  },
  {
   "cell_type": "markdown",
   "id": "0e6d1d46",
   "metadata": {},
   "source": [
    "# Corporate"
   ]
  },
  {
   "cell_type": "code",
   "execution_count": 112,
   "id": "2e859763",
   "metadata": {},
   "outputs": [
    {
     "name": "stderr",
     "output_type": "stream",
     "text": [
      "/var/folders/7r/1qz24gm934z0mlg9dwwq2hpr0000gn/T/ipykernel_76112/4279189781.py:1: SettingWithCopyWarning: \n",
      "A value is trying to be set on a copy of a slice from a DataFrame.\n",
      "Try using .loc[row_indexer,col_indexer] = value instead\n",
      "\n",
      "See the caveats in the documentation: https://pandas.pydata.org/pandas-docs/stable/user_guide/indexing.html#returning-a-view-versus-a-copy\n",
      "  CorporateMM['TRANSLATED_TITLE']= CorporateMM[\"TRANSLATED_TITLE\"].astype(str)\n"
     ]
    }
   ],
   "source": [
    "CorporateMM['TRANSLATED_TITLE']= CorporateMM[\"TRANSLATED_TITLE\"].astype(str)"
   ]
  },
  {
   "cell_type": "code",
   "execution_count": 113,
   "id": "3d36a351",
   "metadata": {
    "scrolled": true
   },
   "outputs": [
    {
     "data": {
      "text/html": [
       "<div>\n",
       "<style scoped>\n",
       "    .dataframe tbody tr th:only-of-type {\n",
       "        vertical-align: middle;\n",
       "    }\n",
       "\n",
       "    .dataframe tbody tr th {\n",
       "        vertical-align: top;\n",
       "    }\n",
       "\n",
       "    .dataframe thead th {\n",
       "        text-align: right;\n",
       "    }\n",
       "</style>\n",
       "<table border=\"1\" class=\"dataframe\">\n",
       "  <thead>\n",
       "    <tr style=\"text-align: right;\">\n",
       "      <th></th>\n",
       "      <th>ID</th>\n",
       "      <th>EMAIL</th>\n",
       "      <th>TRANSLATED_TITLE</th>\n",
       "      <th>JOB_FUNCTION__C</th>\n",
       "      <th>OWNER_SEGMENT__C</th>\n",
       "      <th>GEO_LOCATION_LEVEL1__C</th>\n",
       "      <th>REGION__C</th>\n",
       "      <th>EMPLOYEE_COUNT__C</th>\n",
       "      <th>Persona</th>\n",
       "    </tr>\n",
       "  </thead>\n",
       "  <tbody>\n",
       "    <tr>\n",
       "      <th>9</th>\n",
       "      <td>0030W00003KBjJfQAL</td>\n",
       "      <td>mstricklin@homesavings.com</td>\n",
       "      <td>vice president information security officer</td>\n",
       "      <td>security: vp or director</td>\n",
       "      <td>corp</td>\n",
       "      <td>ams</td>\n",
       "      <td>united states</td>\n",
       "      <td>500.0</td>\n",
       "      <td>Chief Information Security Officer</td>\n",
       "    </tr>\n",
       "    <tr>\n",
       "      <th>17</th>\n",
       "      <td>0036T00004181DXQAY</td>\n",
       "      <td>chris.mctaggart@dentons.com</td>\n",
       "      <td>chief information security officer</td>\n",
       "      <td>executive (cio, cto, ciso)</td>\n",
       "      <td>corp</td>\n",
       "      <td></td>\n",
       "      <td>united states</td>\n",
       "      <td>520.0</td>\n",
       "      <td>Chief Information Security Officer</td>\n",
       "    </tr>\n",
       "    <tr>\n",
       "      <th>28</th>\n",
       "      <td>0030W00003PH2G6QAL</td>\n",
       "      <td>steve.pritchard@homeserveplc.com</td>\n",
       "      <td>group ciso</td>\n",
       "      <td>executive (cio, cto, ciso)</td>\n",
       "      <td>mm</td>\n",
       "      <td>emea</td>\n",
       "      <td>uk&amp;i</td>\n",
       "      <td>3766.0</td>\n",
       "      <td>Chief Information Security Officer</td>\n",
       "    </tr>\n",
       "    <tr>\n",
       "      <th>36</th>\n",
       "      <td>0030W00003msJpRQAU</td>\n",
       "      <td>matthew.mundry@homeserve.com</td>\n",
       "      <td>information security officer cissp cism</td>\n",
       "      <td>it: manager</td>\n",
       "      <td>mm</td>\n",
       "      <td>emea</td>\n",
       "      <td>uk&amp;i</td>\n",
       "      <td>3766.0</td>\n",
       "      <td>Chief Information Security Officer</td>\n",
       "    </tr>\n",
       "    <tr>\n",
       "      <th>46</th>\n",
       "      <td>0030W00003PG6cSQAT</td>\n",
       "      <td>eleanor.smith@homeserve.com</td>\n",
       "      <td>head information security</td>\n",
       "      <td>security: other</td>\n",
       "      <td>mm</td>\n",
       "      <td>emea</td>\n",
       "      <td>uk&amp;i</td>\n",
       "      <td>3766.0</td>\n",
       "      <td>Chief Information Security Officer</td>\n",
       "    </tr>\n",
       "  </tbody>\n",
       "</table>\n",
       "</div>"
      ],
      "text/plain": [
       "                    ID                             EMAIL  \\\n",
       "9   0030W00003KBjJfQAL        mstricklin@homesavings.com   \n",
       "17  0036T00004181DXQAY       chris.mctaggart@dentons.com   \n",
       "28  0030W00003PH2G6QAL  steve.pritchard@homeserveplc.com   \n",
       "36  0030W00003msJpRQAU      matthew.mundry@homeserve.com   \n",
       "46  0030W00003PG6cSQAT       eleanor.smith@homeserve.com   \n",
       "\n",
       "                               TRANSLATED_TITLE             JOB_FUNCTION__C  \\\n",
       "9   vice president information security officer    security: vp or director   \n",
       "17           chief information security officer  executive (cio, cto, ciso)   \n",
       "28                                   group ciso  executive (cio, cto, ciso)   \n",
       "36      information security officer cissp cism                 it: manager   \n",
       "46                    head information security             security: other   \n",
       "\n",
       "   OWNER_SEGMENT__C GEO_LOCATION_LEVEL1__C      REGION__C EMPLOYEE_COUNT__C  \\\n",
       "9              corp                    ams  united states             500.0   \n",
       "17             corp                         united states             520.0   \n",
       "28               mm                   emea           uk&i            3766.0   \n",
       "36               mm                   emea           uk&i            3766.0   \n",
       "46               mm                   emea           uk&i            3766.0   \n",
       "\n",
       "                               Persona  \n",
       "9   Chief Information Security Officer  \n",
       "17  Chief Information Security Officer  \n",
       "28  Chief Information Security Officer  \n",
       "36  Chief Information Security Officer  \n",
       "46  Chief Information Security Officer  "
      ]
     },
     "execution_count": 113,
     "metadata": {},
     "output_type": "execute_result"
    }
   ],
   "source": [
    "# Find CISO in CorporateMM based on Translated Title\n",
    "CorpCISO = CorporateMM[CorporateMM['TRANSLATED_TITLE'].str.contains('chief information security officer|ciso|cso|chief security officer|vp security|vpsecurity|vpinformation security|vpinfo security|vice president security|security vice president|security vp|senior director security|security senior director|head security|security head|lead security|security lead|security leader|leader security|information security|information technology security|vp information security|vp technology security|vp infrastructure security')]\n",
    "CorpCISO = CorpCISO[~CorpCISO['TRANSLATED_TITLE'].str.contains('business development|product|marketing|advisor|technician|auditor|accounting|sale|account executive|analyst|specialist|coordinator|junior|manager|support|bi|accounting|associate director|assistant director|director|dir|consultant|engineer|intern|consultant')]\n",
    "\n",
    "CorpCISO = CorpCISO[~CorpCISO['TRANSLATED_TITLE'].str.contains('software developer|software engineer|security consultant|security architect|application security engineer|application security|security engineer|security system analyst|security system admin|network security analyst|security system technician|soc analyst|security operation center analyst|information security analyst|security analyst|it admin|information technology admin|it security analyst|information technology security analyst|security specialist|system admin|admin|system analyst|it engineer|information technology engineer|support specialist|system engineer')]\n",
    "\n",
    "CorpCISO['Persona']='Chief Information Security Officer'\n",
    "CorpCISO.head(5)"
   ]
  },
  {
   "cell_type": "code",
   "execution_count": 114,
   "id": "d488cda8",
   "metadata": {},
   "outputs": [
    {
     "data": {
      "text/plain": [
       "(12220, 9)"
      ]
     },
     "execution_count": 114,
     "metadata": {},
     "output_type": "execute_result"
    }
   ],
   "source": [
    "CorpCISO.shape"
   ]
  },
  {
   "cell_type": "code",
   "execution_count": 115,
   "id": "3527bd5c",
   "metadata": {},
   "outputs": [
    {
     "data": {
      "text/plain": [
       "(593757, 8)"
      ]
     },
     "execution_count": 115,
     "metadata": {},
     "output_type": "execute_result"
    }
   ],
   "source": [
    "RestofCorp = CorporateMM[~CorporateMM.index.isin(CorpCISO.index)]\n",
    "RestofCorp.shape"
   ]
  },
  {
   "cell_type": "code",
   "execution_count": 116,
   "id": "1e3097fe",
   "metadata": {
    "scrolled": true
   },
   "outputs": [
    {
     "data": {
      "text/html": [
       "<div>\n",
       "<style scoped>\n",
       "    .dataframe tbody tr th:only-of-type {\n",
       "        vertical-align: middle;\n",
       "    }\n",
       "\n",
       "    .dataframe tbody tr th {\n",
       "        vertical-align: top;\n",
       "    }\n",
       "\n",
       "    .dataframe thead th {\n",
       "        text-align: right;\n",
       "    }\n",
       "</style>\n",
       "<table border=\"1\" class=\"dataframe\">\n",
       "  <thead>\n",
       "    <tr style=\"text-align: right;\">\n",
       "      <th></th>\n",
       "      <th>ID</th>\n",
       "      <th>EMAIL</th>\n",
       "      <th>TRANSLATED_TITLE</th>\n",
       "      <th>JOB_FUNCTION__C</th>\n",
       "      <th>OWNER_SEGMENT__C</th>\n",
       "      <th>GEO_LOCATION_LEVEL1__C</th>\n",
       "      <th>REGION__C</th>\n",
       "      <th>EMPLOYEE_COUNT__C</th>\n",
       "      <th>Persona</th>\n",
       "    </tr>\n",
       "  </thead>\n",
       "  <tbody>\n",
       "    <tr>\n",
       "      <th>6677</th>\n",
       "      <td>0030W00003gzePTQAY</td>\n",
       "      <td>lstokes@regionalmanagement.com</td>\n",
       "      <td>vp network risk operation</td>\n",
       "      <td>information security, infrastructure, networking</td>\n",
       "      <td>mm</td>\n",
       "      <td>ams</td>\n",
       "      <td>united states</td>\n",
       "      <td>1638.0</td>\n",
       "      <td>Chief Information Security Officer</td>\n",
       "    </tr>\n",
       "    <tr>\n",
       "      <th>45165</th>\n",
       "      <td>0030W00003eKSacQAG</td>\n",
       "      <td>cachiak@centralbankmalta.org</td>\n",
       "      <td>security officer</td>\n",
       "      <td>information security</td>\n",
       "      <td>corp</td>\n",
       "      <td>emea</td>\n",
       "      <td>southern europe</td>\n",
       "      <td>330.0</td>\n",
       "      <td>Chief Information Security Officer</td>\n",
       "    </tr>\n",
       "    <tr>\n",
       "      <th>114899</th>\n",
       "      <td>0030W00003SAMWxQAP</td>\n",
       "      <td>ferdinand.glatzl@bawagpsk.com</td>\n",
       "      <td>security officer</td>\n",
       "      <td>information security</td>\n",
       "      <td>mm</td>\n",
       "      <td>emea</td>\n",
       "      <td>central &amp; eastern europe</td>\n",
       "      <td>4132.0</td>\n",
       "      <td>Chief Information Security Officer</td>\n",
       "    </tr>\n",
       "    <tr>\n",
       "      <th>123565</th>\n",
       "      <td>0030W00003bixyzQAA</td>\n",
       "      <td></td>\n",
       "      <td>data protection officer</td>\n",
       "      <td>information security, it audit / it compliance</td>\n",
       "      <td>mm</td>\n",
       "      <td>emea</td>\n",
       "      <td>central &amp; eastern europe</td>\n",
       "      <td>7067.0</td>\n",
       "      <td>Chief Information Security Officer</td>\n",
       "    </tr>\n",
       "    <tr>\n",
       "      <th>131626</th>\n",
       "      <td>0030W00003e0zSIQAY</td>\n",
       "      <td>gerd_fauser@hugoboss.com</td>\n",
       "      <td>data protection officer</td>\n",
       "      <td>information security</td>\n",
       "      <td>mm</td>\n",
       "      <td>ams</td>\n",
       "      <td>united states</td>\n",
       "      <td>14633.0</td>\n",
       "      <td>Chief Information Security Officer</td>\n",
       "    </tr>\n",
       "  </tbody>\n",
       "</table>\n",
       "</div>"
      ],
      "text/plain": [
       "                        ID                           EMAIL  \\\n",
       "6677    0030W00003gzePTQAY  lstokes@regionalmanagement.com   \n",
       "45165   0030W00003eKSacQAG    cachiak@centralbankmalta.org   \n",
       "114899  0030W00003SAMWxQAP   ferdinand.glatzl@bawagpsk.com   \n",
       "123565  0030W00003bixyzQAA                                   \n",
       "131626  0030W00003e0zSIQAY        gerd_fauser@hugoboss.com   \n",
       "\n",
       "                 TRANSLATED_TITLE  \\\n",
       "6677    vp network risk operation   \n",
       "45165            security officer   \n",
       "114899           security officer   \n",
       "123565    data protection officer   \n",
       "131626    data protection officer   \n",
       "\n",
       "                                         JOB_FUNCTION__C OWNER_SEGMENT__C  \\\n",
       "6677    information security, infrastructure, networking               mm   \n",
       "45165                               information security             corp   \n",
       "114899                              information security               mm   \n",
       "123565    information security, it audit / it compliance               mm   \n",
       "131626                              information security               mm   \n",
       "\n",
       "       GEO_LOCATION_LEVEL1__C                 REGION__C EMPLOYEE_COUNT__C  \\\n",
       "6677                      ams             united states            1638.0   \n",
       "45165                    emea           southern europe             330.0   \n",
       "114899                   emea  central & eastern europe            4132.0   \n",
       "123565                   emea  central & eastern europe            7067.0   \n",
       "131626                    ams             united states           14633.0   \n",
       "\n",
       "                                   Persona  \n",
       "6677    Chief Information Security Officer  \n",
       "45165   Chief Information Security Officer  \n",
       "114899  Chief Information Security Officer  \n",
       "123565  Chief Information Security Officer  \n",
       "131626  Chief Information Security Officer  "
      ]
     },
     "execution_count": 116,
     "metadata": {},
     "output_type": "execute_result"
    }
   ],
   "source": [
    "# Find CISO in CorporateMM based on Job_Function__C\n",
    "CorpCISO2 = RestofCorp[RestofCorp['JOB_FUNCTION__C'].str.contains('it security|information security')]\n",
    "CorpCISO2 = CorpCISO2[~CorpCISO2['TRANSLATED_TITLE'].str.contains('cio|chief information officer|chief technical officer|cto|chief technology officer|analyst|manager|junior|coordinator|specialist|engineer|infrastructure|developer|manager|information technology|sales|account executive|administrator|intern|consultant|system admin|systems admin|accounting')]\n",
    "\n",
    "CorpCISO2 = CorpCISO2[~CorpCISO2['TRANSLATED_TITLE'].str.contains('software developer|software engineer|security consultant|security architect|application security engineer|application security|security engineer|security system analyst|security system admin|network security analyst|security system technician|soc analyst|security operation center analyst|information security analyst|security analyst|it admin|information technology admin|it security analyst|information technology security analyst|security specialist|system admin|admin|system analyst|it engineer|information technology engineer|support specialist|system engineer')]\n",
    "\n",
    "CorpCISO2 = CorpCISO2[CorpCISO2['TRANSLATED_TITLE'].str.contains('chief|officer|vp|president|vice president|senior director|sr director|sr dir|sr director')]\n",
    "CorpCISO2['Persona']='Chief Information Security Officer'\n",
    "CorpCISO2.head(5)"
   ]
  },
  {
   "cell_type": "code",
   "execution_count": 117,
   "id": "135f8c44",
   "metadata": {},
   "outputs": [
    {
     "data": {
      "text/plain": [
       "(24, 9)"
      ]
     },
     "execution_count": 117,
     "metadata": {},
     "output_type": "execute_result"
    }
   ],
   "source": [
    "CorpCISO2.shape"
   ]
  },
  {
   "cell_type": "code",
   "execution_count": 118,
   "id": "7dd06561",
   "metadata": {},
   "outputs": [
    {
     "data": {
      "text/plain": [
       "(593733, 8)"
      ]
     },
     "execution_count": 118,
     "metadata": {},
     "output_type": "execute_result"
    }
   ],
   "source": [
    "RestofCorp2 = RestofCorp[~RestofCorp.index.isin(CorpCISO2.index)]\n",
    "RestofCorp2.shape"
   ]
  },
  {
   "cell_type": "code",
   "execution_count": 119,
   "id": "dd45d443",
   "metadata": {},
   "outputs": [
    {
     "data": {
      "text/html": [
       "<div>\n",
       "<style scoped>\n",
       "    .dataframe tbody tr th:only-of-type {\n",
       "        vertical-align: middle;\n",
       "    }\n",
       "\n",
       "    .dataframe tbody tr th {\n",
       "        vertical-align: top;\n",
       "    }\n",
       "\n",
       "    .dataframe thead th {\n",
       "        text-align: right;\n",
       "    }\n",
       "</style>\n",
       "<table border=\"1\" class=\"dataframe\">\n",
       "  <thead>\n",
       "    <tr style=\"text-align: right;\">\n",
       "      <th></th>\n",
       "      <th>ID</th>\n",
       "      <th>EMAIL</th>\n",
       "      <th>TRANSLATED_TITLE</th>\n",
       "      <th>JOB_FUNCTION__C</th>\n",
       "      <th>OWNER_SEGMENT__C</th>\n",
       "      <th>GEO_LOCATION_LEVEL1__C</th>\n",
       "      <th>REGION__C</th>\n",
       "      <th>EMPLOYEE_COUNT__C</th>\n",
       "      <th>Persona</th>\n",
       "    </tr>\n",
       "  </thead>\n",
       "  <tbody>\n",
       "    <tr>\n",
       "      <th>8</th>\n",
       "      <td>0030W00003KBjJhQAL</td>\n",
       "      <td>thoward@homesavings.com</td>\n",
       "      <td>assistant vp manager network security</td>\n",
       "      <td>security: vp or director</td>\n",
       "      <td>corp</td>\n",
       "      <td>ams</td>\n",
       "      <td>united states</td>\n",
       "      <td>500.0</td>\n",
       "      <td>Head of Security Operations</td>\n",
       "    </tr>\n",
       "    <tr>\n",
       "      <th>15</th>\n",
       "      <td>0030W00003VUUz0QAH</td>\n",
       "      <td>matthew.phillips@dentons.com</td>\n",
       "      <td>security officer</td>\n",
       "      <td>security: other</td>\n",
       "      <td>corp</td>\n",
       "      <td>apj</td>\n",
       "      <td>australia and new zealand</td>\n",
       "      <td>520.0</td>\n",
       "      <td>Head of Security Operations</td>\n",
       "    </tr>\n",
       "    <tr>\n",
       "      <th>44</th>\n",
       "      <td>0030W00003lNBZ7QAO</td>\n",
       "      <td>bobby.khatkar@homeserve.com</td>\n",
       "      <td>head infrastructure delivery</td>\n",
       "      <td></td>\n",
       "      <td>mm</td>\n",
       "      <td>emea</td>\n",
       "      <td>uk&amp;i</td>\n",
       "      <td>3766.0</td>\n",
       "      <td>Head of Security Operations</td>\n",
       "    </tr>\n",
       "    <tr>\n",
       "      <th>165</th>\n",
       "      <td>0030W00003qovGvQAI</td>\n",
       "      <td>sarah.abdelkader@keoliscs.com</td>\n",
       "      <td>director security safety compliance audit</td>\n",
       "      <td>security: vp or director</td>\n",
       "      <td>corp</td>\n",
       "      <td>ams</td>\n",
       "      <td>united states</td>\n",
       "      <td>2400.0</td>\n",
       "      <td>Head of Security Operations</td>\n",
       "    </tr>\n",
       "    <tr>\n",
       "      <th>290</th>\n",
       "      <td>0036T0000408sOkQAI</td>\n",
       "      <td>alex.fisher@fisherfoods.com</td>\n",
       "      <td>director social network marketing</td>\n",
       "      <td>marketing</td>\n",
       "      <td>corp</td>\n",
       "      <td>ams</td>\n",
       "      <td>united states</td>\n",
       "      <td>251.0</td>\n",
       "      <td>Head of Security Operations</td>\n",
       "    </tr>\n",
       "  </tbody>\n",
       "</table>\n",
       "</div>"
      ],
      "text/plain": [
       "                     ID                          EMAIL  \\\n",
       "8    0030W00003KBjJhQAL        thoward@homesavings.com   \n",
       "15   0030W00003VUUz0QAH   matthew.phillips@dentons.com   \n",
       "44   0030W00003lNBZ7QAO    bobby.khatkar@homeserve.com   \n",
       "165  0030W00003qovGvQAI  sarah.abdelkader@keoliscs.com   \n",
       "290  0036T0000408sOkQAI    alex.fisher@fisherfoods.com   \n",
       "\n",
       "                              TRANSLATED_TITLE           JOB_FUNCTION__C  \\\n",
       "8        assistant vp manager network security  security: vp or director   \n",
       "15                            security officer           security: other   \n",
       "44                head infrastructure delivery                             \n",
       "165  director security safety compliance audit  security: vp or director   \n",
       "290          director social network marketing                 marketing   \n",
       "\n",
       "    OWNER_SEGMENT__C GEO_LOCATION_LEVEL1__C                  REGION__C  \\\n",
       "8               corp                    ams              united states   \n",
       "15              corp                    apj  australia and new zealand   \n",
       "44                mm                   emea                       uk&i   \n",
       "165             corp                    ams              united states   \n",
       "290             corp                    ams              united states   \n",
       "\n",
       "    EMPLOYEE_COUNT__C                      Persona  \n",
       "8               500.0  Head of Security Operations  \n",
       "15              520.0  Head of Security Operations  \n",
       "44             3766.0  Head of Security Operations  \n",
       "165            2400.0  Head of Security Operations  \n",
       "290             251.0  Head of Security Operations  "
      ]
     },
     "execution_count": 119,
     "metadata": {},
     "output_type": "execute_result"
    }
   ],
   "source": [
    "# Find Head of Security Operations based on Translated Title\n",
    "CorpHeadofSecurityOperations = RestofCorp2[RestofCorp2['TRANSLATED_TITLE'].str.contains('security|information security|SOC|security operation center|security operation|information technology security|architect security|architecture security|security leader|security lead|head security|lead security|security head|security director|director security|director soc|soc manager|manager soc|principal security|security principal|director infosec|infrastructure')]\n",
    "CorpHeadofSecurityOperations = CorpHeadofSecurityOperations[~CorpHeadofSecurityOperations['TRANSLATED_TITLE'].str.contains('project manager|engineer|technician|accounting|sales|account executive|analyst|specialist|coordinator|junior|support|bi|accounting|consultant|engineer|intern|system admin|systems admin|administrator')]\n",
    "CorpHeadofSecurityOperations = CorpHeadofSecurityOperations[~CorpHeadofSecurityOperations['JOB_FUNCTION__C'].str.contains('it: manager|operation|accounting|sales|account executive|analyst|specialist|coordinator|junior|support|bi|accounting|consultant|intern|engineer|system admin|systems admin')]\n",
    "\n",
    "CorpHeadofSecurityOperations = CorpHeadofSecurityOperations[~CorpHeadofSecurityOperations['TRANSLATED_TITLE'].str.contains('application development|software developer|software engineer|security consultant|security architect|application security engineer|application security|security engineer|security system analyst|security system admin|network security analyst|security system technician|soc analyst|security operation center analyst|information security analyst|security analyst|it admin|information technology admin|it security analyst|information technology security analyst|security specialist|system admin|admin|system analyst|it engineer|information technology engineer|support specialist|system engineer')]\n",
    "\n",
    "CorpHeadofSecurityOperations['Persona']='Head of Security Operations'\n",
    "CorpHeadofSecurityOperations.head(5)"
   ]
  },
  {
   "cell_type": "code",
   "execution_count": 120,
   "id": "86ee2276",
   "metadata": {},
   "outputs": [
    {
     "data": {
      "text/plain": [
       "(32310, 9)"
      ]
     },
     "execution_count": 120,
     "metadata": {},
     "output_type": "execute_result"
    }
   ],
   "source": [
    "CorpHeadofSecurityOperations.shape"
   ]
  },
  {
   "cell_type": "code",
   "execution_count": 121,
   "id": "df3aa316",
   "metadata": {},
   "outputs": [
    {
     "data": {
      "text/plain": [
       "(561423, 8)"
      ]
     },
     "execution_count": 121,
     "metadata": {},
     "output_type": "execute_result"
    }
   ],
   "source": [
    "RestofCorp3 = RestofCorp2[~RestofCorp2.index.isin(CorpHeadofSecurityOperations.index)]\n",
    "RestofCorp3.shape"
   ]
  },
  {
   "cell_type": "code",
   "execution_count": 122,
   "id": "e9aabb30",
   "metadata": {},
   "outputs": [
    {
     "data": {
      "text/html": [
       "<div>\n",
       "<style scoped>\n",
       "    .dataframe tbody tr th:only-of-type {\n",
       "        vertical-align: middle;\n",
       "    }\n",
       "\n",
       "    .dataframe tbody tr th {\n",
       "        vertical-align: top;\n",
       "    }\n",
       "\n",
       "    .dataframe thead th {\n",
       "        text-align: right;\n",
       "    }\n",
       "</style>\n",
       "<table border=\"1\" class=\"dataframe\">\n",
       "  <thead>\n",
       "    <tr style=\"text-align: right;\">\n",
       "      <th></th>\n",
       "      <th>ID</th>\n",
       "      <th>EMAIL</th>\n",
       "      <th>TRANSLATED_TITLE</th>\n",
       "      <th>JOB_FUNCTION__C</th>\n",
       "      <th>OWNER_SEGMENT__C</th>\n",
       "      <th>GEO_LOCATION_LEVEL1__C</th>\n",
       "      <th>REGION__C</th>\n",
       "      <th>EMPLOYEE_COUNT__C</th>\n",
       "      <th>Persona</th>\n",
       "    </tr>\n",
       "  </thead>\n",
       "  <tbody>\n",
       "    <tr>\n",
       "      <th>108</th>\n",
       "      <td>0030W00003KBkRcQAL</td>\n",
       "      <td>val.penn@etelimited.co.uk</td>\n",
       "      <td>group data protection officer</td>\n",
       "      <td>security: other</td>\n",
       "      <td>mm</td>\n",
       "      <td>emea</td>\n",
       "      <td>uk&amp;i</td>\n",
       "      <td>171.0</td>\n",
       "      <td>Head of Security Operations</td>\n",
       "    </tr>\n",
       "    <tr>\n",
       "      <th>117</th>\n",
       "      <td>0030W00003KBkWwQAL</td>\n",
       "      <td>darren.topham@btgplc.com</td>\n",
       "      <td>group head</td>\n",
       "      <td>security: vp or director</td>\n",
       "      <td>corp</td>\n",
       "      <td>emea</td>\n",
       "      <td>uk&amp;i</td>\n",
       "      <td>1631.0</td>\n",
       "      <td>Head of Security Operations</td>\n",
       "    </tr>\n",
       "    <tr>\n",
       "      <th>256</th>\n",
       "      <td>0030W00003kaZ9tQAE</td>\n",
       "      <td>mflemings@fsarcenter.org</td>\n",
       "      <td>issm</td>\n",
       "      <td>security: manager</td>\n",
       "      <td>corp</td>\n",
       "      <td>ams</td>\n",
       "      <td>united states</td>\n",
       "      <td>13.0</td>\n",
       "      <td>Head of Security Operations</td>\n",
       "    </tr>\n",
       "    <tr>\n",
       "      <th>258</th>\n",
       "      <td>0030W00003X6Aq4QAF</td>\n",
       "      <td>fbicaldo@fsarcenter.org</td>\n",
       "      <td>information security project manager</td>\n",
       "      <td>security: manager</td>\n",
       "      <td>corp</td>\n",
       "      <td>ams</td>\n",
       "      <td>united states</td>\n",
       "      <td>13.0</td>\n",
       "      <td>Head of Security Operations</td>\n",
       "    </tr>\n",
       "    <tr>\n",
       "      <th>1123</th>\n",
       "      <td>0030W00003bj6SVQAY</td>\n",
       "      <td>eleanor.foster@provident.co.uk</td>\n",
       "      <td>senior info sec manager</td>\n",
       "      <td>security: manager</td>\n",
       "      <td>mm</td>\n",
       "      <td>emea</td>\n",
       "      <td>uk&amp;i</td>\n",
       "      <td>4865.0</td>\n",
       "      <td>Head of Security Operations</td>\n",
       "    </tr>\n",
       "  </tbody>\n",
       "</table>\n",
       "</div>"
      ],
      "text/plain": [
       "                      ID                           EMAIL  \\\n",
       "108   0030W00003KBkRcQAL       val.penn@etelimited.co.uk   \n",
       "117   0030W00003KBkWwQAL        darren.topham@btgplc.com   \n",
       "256   0030W00003kaZ9tQAE        mflemings@fsarcenter.org   \n",
       "258   0030W00003X6Aq4QAF         fbicaldo@fsarcenter.org   \n",
       "1123  0030W00003bj6SVQAY  eleanor.foster@provident.co.uk   \n",
       "\n",
       "                          TRANSLATED_TITLE           JOB_FUNCTION__C  \\\n",
       "108          group data protection officer           security: other   \n",
       "117                             group head  security: vp or director   \n",
       "256                                   issm         security: manager   \n",
       "258   information security project manager         security: manager   \n",
       "1123               senior info sec manager         security: manager   \n",
       "\n",
       "     OWNER_SEGMENT__C GEO_LOCATION_LEVEL1__C      REGION__C EMPLOYEE_COUNT__C  \\\n",
       "108                mm                   emea           uk&i             171.0   \n",
       "117              corp                   emea           uk&i            1631.0   \n",
       "256              corp                    ams  united states              13.0   \n",
       "258              corp                    ams  united states              13.0   \n",
       "1123               mm                   emea           uk&i            4865.0   \n",
       "\n",
       "                          Persona  \n",
       "108   Head of Security Operations  \n",
       "117   Head of Security Operations  \n",
       "256   Head of Security Operations  \n",
       "258   Head of Security Operations  \n",
       "1123  Head of Security Operations  "
      ]
     },
     "execution_count": 122,
     "metadata": {},
     "output_type": "execute_result"
    }
   ],
   "source": [
    "# Find Head of Security Operations based on Job_Function__C\n",
    "CorpHeadofSecurityOperations2 = RestofCorp3[RestofCorp3['JOB_FUNCTION__C'].str.contains('security|information security|security:|security: vp or director|security: director|director infosec|info sec')]\n",
    "CorpHeadofSecurityOperations2 = CorpHeadofSecurityOperations2[~CorpHeadofSecurityOperations2['TRANSLATED_TITLE'].isin(['cmo','ceo','coo','cto'])]\n",
    "CorpHeadofSecurityOperations2 = CorpHeadofSecurityOperations2[~CorpHeadofSecurityOperations2['TRANSLATED_TITLE'].str.contains('analyst|engineer|technician|cio|chief information officer|chief technology officer|accounting|sales|account executive|junior|coordinator|specialist|engineer|infrastructure|developer|information technology|sales|account executive|left company|consultant|system admin|systems admin')]\n",
    "CorpHeadofSecurityOperations2 = CorpHeadofSecurityOperations2[~CorpHeadofSecurityOperations2['JOB_FUNCTION__C'].str.contains('analyst|engineer')]\n",
    "CorpHeadofSecurityOperations2 = CorpHeadofSecurityOperations2[~CorpHeadofSecurityOperations2['TRANSLATED_TITLE'].str.contains('application development|software developer|software engineer|security consultant|security architect|application security engineer|application security|security engineer|security system analyst|security system admin|network security analyst|security system technician|soc analyst|security operation center analyst|information security analyst|security analyst|it admin|information technology admin|it security analyst|information technology security analyst|security specialist|system admin|admin|system analyst|it engineer|information technology engineer|support specialist|system engineer')]\n",
    "\n",
    "CorpHeadofSecurityOperations2['Persona']='Head of Security Operations'\n",
    "CorpHeadofSecurityOperations2.head(5)"
   ]
  },
  {
   "cell_type": "code",
   "execution_count": 123,
   "id": "a6242d7f",
   "metadata": {},
   "outputs": [
    {
     "data": {
      "text/plain": [
       "(5558, 9)"
      ]
     },
     "execution_count": 123,
     "metadata": {},
     "output_type": "execute_result"
    }
   ],
   "source": [
    "CorpHeadofSecurityOperations2.shape"
   ]
  },
  {
   "cell_type": "code",
   "execution_count": 124,
   "id": "c436beb5",
   "metadata": {},
   "outputs": [
    {
     "data": {
      "text/plain": [
       "(555865, 8)"
      ]
     },
     "execution_count": 124,
     "metadata": {},
     "output_type": "execute_result"
    }
   ],
   "source": [
    "RestofCorp4 = RestofCorp3[~RestofCorp3.index.isin(CorpHeadofSecurityOperations2.index)]\n",
    "RestofCorp4.shape"
   ]
  },
  {
   "cell_type": "code",
   "execution_count": 125,
   "id": "4212ecb2",
   "metadata": {},
   "outputs": [
    {
     "data": {
      "text/html": [
       "<div>\n",
       "<style scoped>\n",
       "    .dataframe tbody tr th:only-of-type {\n",
       "        vertical-align: middle;\n",
       "    }\n",
       "\n",
       "    .dataframe tbody tr th {\n",
       "        vertical-align: top;\n",
       "    }\n",
       "\n",
       "    .dataframe thead th {\n",
       "        text-align: right;\n",
       "    }\n",
       "</style>\n",
       "<table border=\"1\" class=\"dataframe\">\n",
       "  <thead>\n",
       "    <tr style=\"text-align: right;\">\n",
       "      <th></th>\n",
       "      <th>ID</th>\n",
       "      <th>EMAIL</th>\n",
       "      <th>TRANSLATED_TITLE</th>\n",
       "      <th>JOB_FUNCTION__C</th>\n",
       "      <th>OWNER_SEGMENT__C</th>\n",
       "      <th>GEO_LOCATION_LEVEL1__C</th>\n",
       "      <th>REGION__C</th>\n",
       "      <th>EMPLOYEE_COUNT__C</th>\n",
       "      <th>Persona</th>\n",
       "    </tr>\n",
       "  </thead>\n",
       "  <tbody>\n",
       "    <tr>\n",
       "      <th>4</th>\n",
       "      <td>0030W00003KBjJgQAL</td>\n",
       "      <td>acarter@homesavings.com</td>\n",
       "      <td>avp information technology</td>\n",
       "      <td>it: vp or director</td>\n",
       "      <td>corp</td>\n",
       "      <td>ams</td>\n",
       "      <td>united states</td>\n",
       "      <td>500.0</td>\n",
       "      <td>Chief Information Officer</td>\n",
       "    </tr>\n",
       "    <tr>\n",
       "      <th>12</th>\n",
       "      <td>0030W00003UkBoKQAV</td>\n",
       "      <td>peter.fitzgibbon@dentons.com</td>\n",
       "      <td>cio</td>\n",
       "      <td>executive (cio, cto, ciso)</td>\n",
       "      <td>corp</td>\n",
       "      <td>apj</td>\n",
       "      <td>australia and new zealand</td>\n",
       "      <td>520.0</td>\n",
       "      <td>Chief Information Officer</td>\n",
       "    </tr>\n",
       "    <tr>\n",
       "      <th>35</th>\n",
       "      <td>0030W00003azJtaQAE</td>\n",
       "      <td>femi.bamisaiye@homeserve.com</td>\n",
       "      <td>chief information officer uk</td>\n",
       "      <td>executive (cio, cto, ciso)</td>\n",
       "      <td>mm</td>\n",
       "      <td>emea</td>\n",
       "      <td>uk&amp;i</td>\n",
       "      <td>3766.0</td>\n",
       "      <td>Chief Information Officer</td>\n",
       "    </tr>\n",
       "    <tr>\n",
       "      <th>113</th>\n",
       "      <td>0030W00003TEuwmQAD</td>\n",
       "      <td>alex.rammal@btgplc.com</td>\n",
       "      <td>cio</td>\n",
       "      <td>executive (cio, cto, ciso)</td>\n",
       "      <td>corp</td>\n",
       "      <td>emea</td>\n",
       "      <td>uk&amp;i</td>\n",
       "      <td>1631.0</td>\n",
       "      <td>Chief Information Officer</td>\n",
       "    </tr>\n",
       "    <tr>\n",
       "      <th>255</th>\n",
       "      <td>0030W00003MOHaMQAX</td>\n",
       "      <td>wgreene@arcgroup.org</td>\n",
       "      <td>chief information officer chief securirty officer</td>\n",
       "      <td>executive (cio, cto, ciso)</td>\n",
       "      <td>corp</td>\n",
       "      <td>ams</td>\n",
       "      <td>united states</td>\n",
       "      <td>13.0</td>\n",
       "      <td>Chief Information Officer</td>\n",
       "    </tr>\n",
       "  </tbody>\n",
       "</table>\n",
       "</div>"
      ],
      "text/plain": [
       "                     ID                         EMAIL  \\\n",
       "4    0030W00003KBjJgQAL       acarter@homesavings.com   \n",
       "12   0030W00003UkBoKQAV  peter.fitzgibbon@dentons.com   \n",
       "35   0030W00003azJtaQAE  femi.bamisaiye@homeserve.com   \n",
       "113  0030W00003TEuwmQAD        alex.rammal@btgplc.com   \n",
       "255  0030W00003MOHaMQAX          wgreene@arcgroup.org   \n",
       "\n",
       "                                      TRANSLATED_TITLE  \\\n",
       "4                           avp information technology   \n",
       "12                                                 cio   \n",
       "35                        chief information officer uk   \n",
       "113                                                cio   \n",
       "255  chief information officer chief securirty officer   \n",
       "\n",
       "                JOB_FUNCTION__C OWNER_SEGMENT__C GEO_LOCATION_LEVEL1__C  \\\n",
       "4            it: vp or director             corp                    ams   \n",
       "12   executive (cio, cto, ciso)             corp                    apj   \n",
       "35   executive (cio, cto, ciso)               mm                   emea   \n",
       "113  executive (cio, cto, ciso)             corp                   emea   \n",
       "255  executive (cio, cto, ciso)             corp                    ams   \n",
       "\n",
       "                     REGION__C EMPLOYEE_COUNT__C                    Persona  \n",
       "4                united states             500.0  Chief Information Officer  \n",
       "12   australia and new zealand             520.0  Chief Information Officer  \n",
       "35                        uk&i            3766.0  Chief Information Officer  \n",
       "113                       uk&i            1631.0  Chief Information Officer  \n",
       "255              united states              13.0  Chief Information Officer  "
      ]
     },
     "execution_count": 125,
     "metadata": {},
     "output_type": "execute_result"
    }
   ],
   "source": [
    "# Find CIO in based on Translated Title\n",
    "CorpCIO = RestofCorp4[RestofCorp4['TRANSLATED_TITLE'].str.contains('chief information officer|cio|information technology|head it|it head|president it|president it|it vp|vp it')]\n",
    "CorpCIO = CorpCIO[~CorpCIO['TRANSLATED_TITLE'].str.contains('technician|help desk|facility|influencer|administrator|accounting|sales|account executive|analyst|specialist|coordinator|junior|manager|support|bi|accounting|associate director|assistant director|director|dir|consultant|engineer|intern|consultant|system admin|systems admin')]\n",
    "\n",
    "CorpCIO = CorpCIO[~CorpCIO['TRANSLATED_TITLE'].str.contains('software developer|software engineer|security consultant|security architect|application security engineer|application security|security engineer|security system analyst|security system admin|network security analyst|security system technician|soc analyst|security operation center analyst|information security analyst|security analyst|it admin|information technology admin|it security analyst|information technology security analyst|security specialist|system admin|admin|system analyst|it engineer|information technology engineer|support specialist|system engineer')]\n",
    "\n",
    "CorpCIO['Persona']='Chief Information Officer'\n",
    "CorpCIO.head(5)"
   ]
  },
  {
   "cell_type": "code",
   "execution_count": 126,
   "id": "afdfb60c",
   "metadata": {},
   "outputs": [
    {
     "data": {
      "text/plain": [
       "(30603, 9)"
      ]
     },
     "execution_count": 126,
     "metadata": {},
     "output_type": "execute_result"
    }
   ],
   "source": [
    "CorpCIO.shape"
   ]
  },
  {
   "cell_type": "code",
   "execution_count": 127,
   "id": "2ac52325",
   "metadata": {},
   "outputs": [
    {
     "data": {
      "text/plain": [
       "(525262, 8)"
      ]
     },
     "execution_count": 127,
     "metadata": {},
     "output_type": "execute_result"
    }
   ],
   "source": [
    "RestofCorp5 = RestofCorp4[~RestofCorp4.index.isin(CorpCIO.index)]\n",
    "RestofCorp5.shape"
   ]
  },
  {
   "cell_type": "code",
   "execution_count": 128,
   "id": "7f6276fd",
   "metadata": {},
   "outputs": [
    {
     "data": {
      "text/html": [
       "<div>\n",
       "<style scoped>\n",
       "    .dataframe tbody tr th:only-of-type {\n",
       "        vertical-align: middle;\n",
       "    }\n",
       "\n",
       "    .dataframe tbody tr th {\n",
       "        vertical-align: top;\n",
       "    }\n",
       "\n",
       "    .dataframe thead th {\n",
       "        text-align: right;\n",
       "    }\n",
       "</style>\n",
       "<table border=\"1\" class=\"dataframe\">\n",
       "  <thead>\n",
       "    <tr style=\"text-align: right;\">\n",
       "      <th></th>\n",
       "      <th>ID</th>\n",
       "      <th>EMAIL</th>\n",
       "      <th>TRANSLATED_TITLE</th>\n",
       "      <th>JOB_FUNCTION__C</th>\n",
       "      <th>OWNER_SEGMENT__C</th>\n",
       "      <th>GEO_LOCATION_LEVEL1__C</th>\n",
       "      <th>REGION__C</th>\n",
       "      <th>EMPLOYEE_COUNT__C</th>\n",
       "      <th>Persona</th>\n",
       "    </tr>\n",
       "  </thead>\n",
       "  <tbody>\n",
       "    <tr>\n",
       "      <th>244</th>\n",
       "      <td>0030W00003KBwxPQAT</td>\n",
       "      <td>raymusser@gmail.com</td>\n",
       "      <td>executive</td>\n",
       "      <td>executive (cio, cto, ciso)</td>\n",
       "      <td>corp</td>\n",
       "      <td>ams</td>\n",
       "      <td>united states</td>\n",
       "      <td>13.0</td>\n",
       "      <td>Chief Information Officer</td>\n",
       "    </tr>\n",
       "    <tr>\n",
       "      <th>472</th>\n",
       "      <td>0036T000042fIdAQAU</td>\n",
       "      <td>dpatel2@fcci-group.com</td>\n",
       "      <td>vice president</td>\n",
       "      <td>it: vp or director</td>\n",
       "      <td>corp</td>\n",
       "      <td>ams</td>\n",
       "      <td>united states</td>\n",
       "      <td>840.0</td>\n",
       "      <td>Chief Information Officer</td>\n",
       "    </tr>\n",
       "    <tr>\n",
       "      <th>1367</th>\n",
       "      <td>0030W00003PHzQAQA1</td>\n",
       "      <td>donald.kneisel@seminolehardrock.com</td>\n",
       "      <td>vp</td>\n",
       "      <td>it: vp or director</td>\n",
       "      <td>corp</td>\n",
       "      <td>ams</td>\n",
       "      <td>united states</td>\n",
       "      <td>2000.0</td>\n",
       "      <td>Chief Information Officer</td>\n",
       "    </tr>\n",
       "    <tr>\n",
       "      <th>1842</th>\n",
       "      <td>003d000003GSCQ3AAP</td>\n",
       "      <td>vsilvestri@evertz.com</td>\n",
       "      <td>vice president software system</td>\n",
       "      <td>it: vp or director</td>\n",
       "      <td>corp</td>\n",
       "      <td>ams</td>\n",
       "      <td>canada</td>\n",
       "      <td>20.0</td>\n",
       "      <td>Chief Information Officer</td>\n",
       "    </tr>\n",
       "    <tr>\n",
       "      <th>1895</th>\n",
       "      <td>0030W00003UmVqGQAV</td>\n",
       "      <td>rkohli@interac.ca</td>\n",
       "      <td>vice president operation technology</td>\n",
       "      <td>it: vp or director</td>\n",
       "      <td>corp</td>\n",
       "      <td>ams</td>\n",
       "      <td>united states</td>\n",
       "      <td>300.0</td>\n",
       "      <td>Chief Information Officer</td>\n",
       "    </tr>\n",
       "  </tbody>\n",
       "</table>\n",
       "</div>"
      ],
      "text/plain": [
       "                      ID                                EMAIL  \\\n",
       "244   0030W00003KBwxPQAT                  raymusser@gmail.com   \n",
       "472   0036T000042fIdAQAU               dpatel2@fcci-group.com   \n",
       "1367  0030W00003PHzQAQA1  donald.kneisel@seminolehardrock.com   \n",
       "1842  003d000003GSCQ3AAP                vsilvestri@evertz.com   \n",
       "1895  0030W00003UmVqGQAV                    rkohli@interac.ca   \n",
       "\n",
       "                         TRANSLATED_TITLE             JOB_FUNCTION__C  \\\n",
       "244                             executive  executive (cio, cto, ciso)   \n",
       "472                        vice president          it: vp or director   \n",
       "1367                                   vp          it: vp or director   \n",
       "1842       vice president software system          it: vp or director   \n",
       "1895  vice president operation technology          it: vp or director   \n",
       "\n",
       "     OWNER_SEGMENT__C GEO_LOCATION_LEVEL1__C      REGION__C EMPLOYEE_COUNT__C  \\\n",
       "244              corp                    ams  united states              13.0   \n",
       "472              corp                    ams  united states             840.0   \n",
       "1367             corp                    ams  united states            2000.0   \n",
       "1842             corp                    ams         canada              20.0   \n",
       "1895             corp                    ams  united states             300.0   \n",
       "\n",
       "                        Persona  \n",
       "244   Chief Information Officer  \n",
       "472   Chief Information Officer  \n",
       "1367  Chief Information Officer  \n",
       "1842  Chief Information Officer  \n",
       "1895  Chief Information Officer  "
      ]
     },
     "execution_count": 128,
     "metadata": {},
     "output_type": "execute_result"
    }
   ],
   "source": [
    "# Find CIO based on Job_Function__C\n",
    "CorpCIO2 = RestofCorp5[RestofCorp5['JOB_FUNCTION__C'].str.contains('cio|chief information officer|information technology|it: vp or director')]\n",
    "CorpCIO2 = CorpCIO2[~CorpCIO2['TRANSLATED_TITLE'].str.contains('head operation|operational support|vice president technology|technician|help desk|facility|influencer|administrator|director|cto|chief technology officer|analyst|accounting|account executive|manager|junior|coordinator|specialist|engineer|infrastructure|developer|manager|information technology|sales|account executive|consultant')]\n",
    "\n",
    "CorpCIO2 = CorpCIO2[~CorpCIO2['TRANSLATED_TITLE'].str.contains('software developer|software engineer|security consultant|security architect|application security engineer|application security|security engineer|security system analyst|security system admin|network security analyst|security system technician|soc analyst|security operation center analyst|information security analyst|security analyst|it admin|information technology admin|it security analyst|information technology security analyst|security specialist|system admin|admin|system analyst|it engineer|information technology engineer|support specialist|system engineer')]\n",
    "\n",
    "CorpCIO2['Persona']='Chief Information Officer'\n",
    "CorpCIO2.head(5)"
   ]
  },
  {
   "cell_type": "code",
   "execution_count": 129,
   "id": "83c222a9",
   "metadata": {},
   "outputs": [
    {
     "data": {
      "text/plain": [
       "(9250, 9)"
      ]
     },
     "execution_count": 129,
     "metadata": {},
     "output_type": "execute_result"
    }
   ],
   "source": [
    "CorpCIO2.shape"
   ]
  },
  {
   "cell_type": "code",
   "execution_count": 130,
   "id": "f0ec4880",
   "metadata": {},
   "outputs": [
    {
     "data": {
      "text/plain": [
       "(516012, 8)"
      ]
     },
     "execution_count": 130,
     "metadata": {},
     "output_type": "execute_result"
    }
   ],
   "source": [
    "RestofCorp6 = RestofCorp5[~RestofCorp5.index.isin(CorpCIO2.index)]\n",
    "RestofCorp6.shape"
   ]
  },
  {
   "cell_type": "code",
   "execution_count": 131,
   "id": "3755de01",
   "metadata": {},
   "outputs": [
    {
     "data": {
      "text/html": [
       "<div>\n",
       "<style scoped>\n",
       "    .dataframe tbody tr th:only-of-type {\n",
       "        vertical-align: middle;\n",
       "    }\n",
       "\n",
       "    .dataframe tbody tr th {\n",
       "        vertical-align: top;\n",
       "    }\n",
       "\n",
       "    .dataframe thead th {\n",
       "        text-align: right;\n",
       "    }\n",
       "</style>\n",
       "<table border=\"1\" class=\"dataframe\">\n",
       "  <thead>\n",
       "    <tr style=\"text-align: right;\">\n",
       "      <th></th>\n",
       "      <th>ID</th>\n",
       "      <th>EMAIL</th>\n",
       "      <th>TRANSLATED_TITLE</th>\n",
       "      <th>JOB_FUNCTION__C</th>\n",
       "      <th>OWNER_SEGMENT__C</th>\n",
       "      <th>GEO_LOCATION_LEVEL1__C</th>\n",
       "      <th>REGION__C</th>\n",
       "      <th>EMPLOYEE_COUNT__C</th>\n",
       "      <th>Persona</th>\n",
       "    </tr>\n",
       "  </thead>\n",
       "  <tbody>\n",
       "    <tr>\n",
       "      <th>34</th>\n",
       "      <td>0036T000040BvTMQA0</td>\n",
       "      <td>alison.moses@homeserve.com</td>\n",
       "      <td>director business information technology</td>\n",
       "      <td>it: vp or director</td>\n",
       "      <td>mm</td>\n",
       "      <td>emea</td>\n",
       "      <td>uk&amp;i</td>\n",
       "      <td>3766.0</td>\n",
       "      <td>Head of IT Operations (VP/Director)</td>\n",
       "    </tr>\n",
       "    <tr>\n",
       "      <th>42</th>\n",
       "      <td>0036T0000417udrQAA</td>\n",
       "      <td>lisa.platt@homeserve.com</td>\n",
       "      <td>director information technology</td>\n",
       "      <td>it: vp or director</td>\n",
       "      <td>mm</td>\n",
       "      <td></td>\n",
       "      <td>united states</td>\n",
       "      <td>3766.0</td>\n",
       "      <td>Head of IT Operations (VP/Director)</td>\n",
       "    </tr>\n",
       "    <tr>\n",
       "      <th>98</th>\n",
       "      <td>0036T000040BviCQAS</td>\n",
       "      <td>priya.rajagopalan@homeserve.com</td>\n",
       "      <td>digital development director information technology</td>\n",
       "      <td>it: vp or director</td>\n",
       "      <td>mm</td>\n",
       "      <td>emea</td>\n",
       "      <td>uk&amp;i</td>\n",
       "      <td>3766.0</td>\n",
       "      <td>Head of IT Operations (VP/Director)</td>\n",
       "    </tr>\n",
       "    <tr>\n",
       "      <th>100</th>\n",
       "      <td>0030W00003PG889QAD</td>\n",
       "      <td>richard.lockwood@homeserve.com</td>\n",
       "      <td>director information technology</td>\n",
       "      <td>it: vp or director</td>\n",
       "      <td>mm</td>\n",
       "      <td>emea</td>\n",
       "      <td>uk&amp;i</td>\n",
       "      <td>3766.0</td>\n",
       "      <td>Head of IT Operations (VP/Director)</td>\n",
       "    </tr>\n",
       "    <tr>\n",
       "      <th>280</th>\n",
       "      <td>0030W00003VWOTgQAP</td>\n",
       "      <td>tonyw@juice4u.com</td>\n",
       "      <td>director information technology</td>\n",
       "      <td>it: vp or director</td>\n",
       "      <td>corp</td>\n",
       "      <td>ams</td>\n",
       "      <td>united states</td>\n",
       "      <td>500.0</td>\n",
       "      <td>Head of IT Operations (VP/Director)</td>\n",
       "    </tr>\n",
       "  </tbody>\n",
       "</table>\n",
       "</div>"
      ],
      "text/plain": [
       "                     ID                            EMAIL  \\\n",
       "34   0036T000040BvTMQA0       alison.moses@homeserve.com   \n",
       "42   0036T0000417udrQAA         lisa.platt@homeserve.com   \n",
       "98   0036T000040BviCQAS  priya.rajagopalan@homeserve.com   \n",
       "100  0030W00003PG889QAD   richard.lockwood@homeserve.com   \n",
       "280  0030W00003VWOTgQAP                tonyw@juice4u.com   \n",
       "\n",
       "                                        TRANSLATED_TITLE     JOB_FUNCTION__C  \\\n",
       "34              director business information technology  it: vp or director   \n",
       "42                       director information technology  it: vp or director   \n",
       "98   digital development director information technology  it: vp or director   \n",
       "100                      director information technology  it: vp or director   \n",
       "280                      director information technology  it: vp or director   \n",
       "\n",
       "    OWNER_SEGMENT__C GEO_LOCATION_LEVEL1__C      REGION__C EMPLOYEE_COUNT__C  \\\n",
       "34                mm                   emea           uk&i            3766.0   \n",
       "42                mm                         united states            3766.0   \n",
       "98                mm                   emea           uk&i            3766.0   \n",
       "100               mm                   emea           uk&i            3766.0   \n",
       "280             corp                    ams  united states             500.0   \n",
       "\n",
       "                                 Persona  \n",
       "34   Head of IT Operations (VP/Director)  \n",
       "42   Head of IT Operations (VP/Director)  \n",
       "98   Head of IT Operations (VP/Director)  \n",
       "100  Head of IT Operations (VP/Director)  \n",
       "280  Head of IT Operations (VP/Director)  "
      ]
     },
     "execution_count": 131,
     "metadata": {},
     "output_type": "execute_result"
    }
   ],
   "source": [
    "# Find Head of IT Operations (VP/Director) based on Translated Title\n",
    "CorpHeadofITVP = RestofCorp6[RestofCorp6['TRANSLATED_TITLE'].str.contains('information technology|information system|it director|director it|president it|president it|vp it|vp it|it infrastructure|it operation|it engineer|it service')]\n",
    "CorpHeadofITVP = CorpHeadofITVP[~CorpHeadofITVP['TRANSLATED_TITLE'].str.contains('manager|mgr|head|lead|audit manager|technician|analyst|accounting|account executive|sales|specialist|coordinator|junior|intern|deposit|consultant|system admin|systems admin')]\n",
    "\n",
    "CorpHeadofITVP = CorpHeadofITVP[~CorpHeadofITVP['TRANSLATED_TITLE'].str.contains('application development|software developer|software engineer|security consultant|security architect|application security engineer|application security|security engineer|security system analyst|security system admin|network security analyst|security system technician|soc analyst|security operation center analyst|information security analyst|security analyst|it admin|information technology admin|it security analyst|information technology security analyst|security specialist|system admin|admin|system analyst|it engineer|information technology engineer|support specialist|system engineer')]\n",
    "\n",
    "CorpHeadofITVP['Persona']='Head of IT Operations (VP/Director)'\n",
    "CorpHeadofITVP.head(5)"
   ]
  },
  {
   "cell_type": "code",
   "execution_count": 132,
   "id": "23843acb",
   "metadata": {},
   "outputs": [
    {
     "data": {
      "text/plain": [
       "(26042, 9)"
      ]
     },
     "execution_count": 132,
     "metadata": {},
     "output_type": "execute_result"
    }
   ],
   "source": [
    "CorpHeadofITVP.shape"
   ]
  },
  {
   "cell_type": "code",
   "execution_count": 133,
   "id": "4c6c2bdf",
   "metadata": {},
   "outputs": [
    {
     "data": {
      "text/plain": [
       "(489970, 8)"
      ]
     },
     "execution_count": 133,
     "metadata": {},
     "output_type": "execute_result"
    }
   ],
   "source": [
    "RestofCorp7 = RestofCorp6[~RestofCorp6.index.isin(CorpHeadofITVP.index)]\n",
    "RestofCorp7.shape"
   ]
  },
  {
   "cell_type": "code",
   "execution_count": 134,
   "id": "fa0f688b",
   "metadata": {},
   "outputs": [
    {
     "data": {
      "text/html": [
       "<div>\n",
       "<style scoped>\n",
       "    .dataframe tbody tr th:only-of-type {\n",
       "        vertical-align: middle;\n",
       "    }\n",
       "\n",
       "    .dataframe tbody tr th {\n",
       "        vertical-align: top;\n",
       "    }\n",
       "\n",
       "    .dataframe thead th {\n",
       "        text-align: right;\n",
       "    }\n",
       "</style>\n",
       "<table border=\"1\" class=\"dataframe\">\n",
       "  <thead>\n",
       "    <tr style=\"text-align: right;\">\n",
       "      <th></th>\n",
       "      <th>ID</th>\n",
       "      <th>EMAIL</th>\n",
       "      <th>TRANSLATED_TITLE</th>\n",
       "      <th>JOB_FUNCTION__C</th>\n",
       "      <th>OWNER_SEGMENT__C</th>\n",
       "      <th>GEO_LOCATION_LEVEL1__C</th>\n",
       "      <th>REGION__C</th>\n",
       "      <th>EMPLOYEE_COUNT__C</th>\n",
       "      <th>Persona</th>\n",
       "    </tr>\n",
       "  </thead>\n",
       "  <tbody>\n",
       "    <tr>\n",
       "      <th>39</th>\n",
       "      <td>0030W00003PG6bsQAD</td>\n",
       "      <td>ed.foden@homeserve.com</td>\n",
       "      <td>director technology</td>\n",
       "      <td>it: vp or director</td>\n",
       "      <td>mm</td>\n",
       "      <td>emea</td>\n",
       "      <td>uk&amp;i</td>\n",
       "      <td>3766.0</td>\n",
       "      <td>Head of IT Operations (VP/Director)</td>\n",
       "    </tr>\n",
       "    <tr>\n",
       "      <th>83</th>\n",
       "      <td>0030W00003PG7vfQAD</td>\n",
       "      <td>graham.moore@homeserve.com</td>\n",
       "      <td>director service management</td>\n",
       "      <td>it: vp or director</td>\n",
       "      <td>mm</td>\n",
       "      <td>emea</td>\n",
       "      <td>uk&amp;i</td>\n",
       "      <td>3766.0</td>\n",
       "      <td>Head of IT Operations (VP/Director)</td>\n",
       "    </tr>\n",
       "    <tr>\n",
       "      <th>104</th>\n",
       "      <td>0030W00003Q2x4ZQAR</td>\n",
       "      <td>david.willock@welcomebreak.co.uk</td>\n",
       "      <td>group director</td>\n",
       "      <td>it: vp or director</td>\n",
       "      <td>mm</td>\n",
       "      <td>ams</td>\n",
       "      <td>united states</td>\n",
       "      <td>171.0</td>\n",
       "      <td>Head of IT Operations (VP/Director)</td>\n",
       "    </tr>\n",
       "    <tr>\n",
       "      <th>168</th>\n",
       "      <td>0030W00003oQ5OKQA0</td>\n",
       "      <td>bryan.gobiel@keoliscs.com</td>\n",
       "      <td>director d operation</td>\n",
       "      <td>it: vp or director</td>\n",
       "      <td>corp</td>\n",
       "      <td>ams</td>\n",
       "      <td>united states</td>\n",
       "      <td>2400.0</td>\n",
       "      <td>Head of IT Operations (VP/Director)</td>\n",
       "    </tr>\n",
       "    <tr>\n",
       "      <th>890</th>\n",
       "      <td>0030W00003KCM8fQAH</td>\n",
       "      <td>tonydimaio@desktopmetal.com</td>\n",
       "      <td>director</td>\n",
       "      <td>it-infrastructure</td>\n",
       "      <td>corp</td>\n",
       "      <td>ams</td>\n",
       "      <td>united states</td>\n",
       "      <td>203.0</td>\n",
       "      <td>Head of IT Operations (VP/Director)</td>\n",
       "    </tr>\n",
       "  </tbody>\n",
       "</table>\n",
       "</div>"
      ],
      "text/plain": [
       "                     ID                             EMAIL  \\\n",
       "39   0030W00003PG6bsQAD            ed.foden@homeserve.com   \n",
       "83   0030W00003PG7vfQAD        graham.moore@homeserve.com   \n",
       "104  0030W00003Q2x4ZQAR  david.willock@welcomebreak.co.uk   \n",
       "168  0030W00003oQ5OKQA0         bryan.gobiel@keoliscs.com   \n",
       "890  0030W00003KCM8fQAH       tonydimaio@desktopmetal.com   \n",
       "\n",
       "                TRANSLATED_TITLE     JOB_FUNCTION__C OWNER_SEGMENT__C  \\\n",
       "39           director technology  it: vp or director               mm   \n",
       "83   director service management  it: vp or director               mm   \n",
       "104               group director  it: vp or director               mm   \n",
       "168         director d operation  it: vp or director             corp   \n",
       "890                     director   it-infrastructure             corp   \n",
       "\n",
       "    GEO_LOCATION_LEVEL1__C      REGION__C EMPLOYEE_COUNT__C  \\\n",
       "39                    emea           uk&i            3766.0   \n",
       "83                    emea           uk&i            3766.0   \n",
       "104                    ams  united states             171.0   \n",
       "168                    ams  united states            2400.0   \n",
       "890                    ams  united states             203.0   \n",
       "\n",
       "                                 Persona  \n",
       "39   Head of IT Operations (VP/Director)  \n",
       "83   Head of IT Operations (VP/Director)  \n",
       "104  Head of IT Operations (VP/Director)  \n",
       "168  Head of IT Operations (VP/Director)  \n",
       "890  Head of IT Operations (VP/Director)  "
      ]
     },
     "execution_count": 134,
     "metadata": {},
     "output_type": "execute_result"
    }
   ],
   "source": [
    "# Find Head of IT Operations (VP/Director) based on Job_Function__C\n",
    "CorpHeadofITVP2 = RestofCorp7[RestofCorp7['JOB_FUNCTION__C'].str.contains('information technology|information system|it director|director it|president it|president it|vp it|vp it|it infrastructure|it operation|it engineer|it service|it: vp or director|it-infrastructure')]\n",
    "CorpHeadofITVP2 = CorpHeadofITVP2[~CorpHeadofITVP2['TRANSLATED_TITLE'].str.contains('manager|mgr|lead|head|audit manager|technician|analyst|specialist|coordinator|junior|intern|deposit|engineer|infrastructure|developer|information technology|sales|account executive|consultant|system admin|systems admin|digital|strategy|product|marketing')]\n",
    "\n",
    "CorpHeadofITVP2 = CorpHeadofITVP2[~CorpHeadofITVP2['TRANSLATED_TITLE'].str.contains('application development|software developer|software engineer|security consultant|security architect|application security engineer|application security|security engineer|security system analyst|security system admin|network security analyst|security system technician|soc analyst|security operation center analyst|information security analyst|security analyst|it admin|information technology admin|it security analyst|information technology security analyst|security specialist|system admin|admin|system analyst|it engineer|information technology engineer|support specialist|system engineer')]\n",
    "\n",
    "CorpHeadofITVP2['Persona']='Head of IT Operations (VP/Director)'\n",
    "CorpHeadofITVP2.head(5)"
   ]
  },
  {
   "cell_type": "code",
   "execution_count": 135,
   "id": "ad38e80c",
   "metadata": {},
   "outputs": [
    {
     "data": {
      "text/plain": [
       "(25304, 9)"
      ]
     },
     "execution_count": 135,
     "metadata": {},
     "output_type": "execute_result"
    }
   ],
   "source": [
    "CorpHeadofITVP2.shape"
   ]
  },
  {
   "cell_type": "code",
   "execution_count": 136,
   "id": "ce440c7f",
   "metadata": {},
   "outputs": [
    {
     "data": {
      "text/plain": [
       "(464666, 8)"
      ]
     },
     "execution_count": 136,
     "metadata": {},
     "output_type": "execute_result"
    }
   ],
   "source": [
    "RestofCorp8 = RestofCorp7[~RestofCorp7.index.isin(CorpHeadofITVP2.index)]\n",
    "RestofCorp8.shape"
   ]
  },
  {
   "cell_type": "code",
   "execution_count": 167,
   "id": "d90026c0",
   "metadata": {},
   "outputs": [],
   "source": [
    "Corp = pd.concat([CorpCISO, CorpCISO2, \n",
    "                  CorpHeadofSecurityOperations, CorpHeadofSecurityOperations2, \n",
    "                  CorpCIO, CorpCIO2, \n",
    "                  CorpHeadofITVP, CorpHeadofITVP2,\n",
    "                  RestofCorp8], axis=0, ignore_index=False).sort_index(axis = 0).fillna('')\n",
    "Corp.to_csv('Corporate.csv',index=False)"
   ]
  }
 ],
 "metadata": {
  "kernelspec": {
   "display_name": "Python 3",
   "language": "python",
   "name": "python3"
  },
  "language_info": {
   "codemirror_mode": {
    "name": "ipython",
    "version": 3
   },
   "file_extension": ".py",
   "mimetype": "text/x-python",
   "name": "python",
   "nbconvert_exporter": "python",
   "pygments_lexer": "ipython3",
   "version": "3.8.8"
  }
 },
 "nbformat": 4,
 "nbformat_minor": 5
}
